{
  "nbformat": 4,
  "nbformat_minor": 0,
  "metadata": {
    "colab": {
      "provenance": [],
      "authorship_tag": "ABX9TyOCiGLOXOU3zGKbblqQapKx",
      "include_colab_link": true
    },
    "kernelspec": {
      "name": "python3",
      "display_name": "Python 3"
    },
    "language_info": {
      "name": "python"
    },
    "gpuClass": "standard",
    "accelerator": "GPU"
  },
  "cells": [
    {
      "cell_type": "markdown",
      "metadata": {
        "id": "view-in-github",
        "colab_type": "text"
      },
      "source": [
        "<a href=\"https://colab.research.google.com/github/mohammadAliMkh/Pytorch/blob/main/fashionMNIST.ipynb\" target=\"_parent\"><img src=\"https://colab.research.google.com/assets/colab-badge.svg\" alt=\"Open In Colab\"/></a>"
      ]
    },
    {
      "cell_type": "code",
      "source": [
        "import torch\n",
        "\n",
        "import torchvision\n",
        "from torchvision import datasets\n",
        "from torchvision import transforms\n",
        "from torchvision import models\n",
        "from torchvision.transforms import ToTensor\n",
        "\n",
        "import matplotlib.pyplot as plt\n",
        "\n",
        "from torch.utils.data import DataLoader\n",
        "from torch.utils.data import Dataset"
      ],
      "metadata": {
        "id": "OzXNi4OWBUnW"
      },
      "execution_count": 38,
      "outputs": []
    },
    {
      "cell_type": "code",
      "source": [
        "mnist_train = datasets.FashionMNIST(root = \"Data\" , train = True ,download = True , transform = ToTensor() , target_transform = None)\n",
        "mnist_test = datasets.FashionMNIST(root = \"Data\" , train = False ,download = True , transform = ToTensor() , target_transform = None)"
      ],
      "metadata": {
        "id": "pWSQNBfuCaZb"
      },
      "execution_count": 39,
      "outputs": []
    },
    {
      "cell_type": "code",
      "source": [
        "len(mnist_train) , len(mnist_test)"
      ],
      "metadata": {
        "colab": {
          "base_uri": "https://localhost:8080/"
        },
        "id": "5qxngpKRDJA7",
        "outputId": "04133701-cdda-44f4-cdf8-5b60a8641033"
      },
      "execution_count": 40,
      "outputs": [
        {
          "output_type": "execute_result",
          "data": {
            "text/plain": [
              "(60000, 10000)"
            ]
          },
          "metadata": {},
          "execution_count": 40
        }
      ]
    },
    {
      "cell_type": "code",
      "source": [
        "class_labels = mnist_train.classes"
      ],
      "metadata": {
        "id": "iIlDkZl3Dawk"
      },
      "execution_count": 41,
      "outputs": []
    },
    {
      "cell_type": "code",
      "source": [
        "mnist_train.class_to_idx"
      ],
      "metadata": {
        "colab": {
          "base_uri": "https://localhost:8080/"
        },
        "id": "tZO5l3hADkIC",
        "outputId": "09e5b52a-6436-489a-97ee-b731e11249a2"
      },
      "execution_count": 42,
      "outputs": [
        {
          "output_type": "execute_result",
          "data": {
            "text/plain": [
              "{'T-shirt/top': 0,\n",
              " 'Trouser': 1,\n",
              " 'Pullover': 2,\n",
              " 'Dress': 3,\n",
              " 'Coat': 4,\n",
              " 'Sandal': 5,\n",
              " 'Shirt': 6,\n",
              " 'Sneaker': 7,\n",
              " 'Bag': 8,\n",
              " 'Ankle boot': 9}"
            ]
          },
          "metadata": {},
          "execution_count": 42
        }
      ]
    },
    {
      "cell_type": "code",
      "source": [
        "plt.imshow(mnist_train.data[0] , cmap = \"gray\")\n",
        "plt.title(class_labels[mnist_train.targets[0]])\n",
        "plt.axis(False)"
      ],
      "metadata": {
        "colab": {
          "base_uri": "https://localhost:8080/",
          "height": 281
        },
        "id": "fsvElIIUEoDz",
        "outputId": "653bde54-7d7b-445a-97c1-9456b9071931"
      },
      "execution_count": 43,
      "outputs": [
        {
          "output_type": "execute_result",
          "data": {
            "text/plain": [
              "(-0.5, 27.5, 27.5, -0.5)"
            ]
          },
          "metadata": {},
          "execution_count": 43
        },
        {
          "output_type": "display_data",
          "data": {
            "text/plain": [
              "<Figure size 432x288 with 1 Axes>"
            ],
            "image/png": "[encoded data removed]"
          },
          "metadata": {
            "needs_background": "light"
          }
        }
      ]
    },
    {
      "cell_type": "code",
      "source": [
        "def plot_random_images(number_of_images = 16 , data = mnist_train):\n",
        "  ''' plot random images of selected datasets with their labels\n",
        "  '''\n",
        "  plt.figure(figsize = (12 , 8))\n",
        "  for i in range(1 , number_of_images + 1):\n",
        "    plt.subplot(4 , 4 , i)\n",
        "    rand = torch.randint(0, len(mnist_train), size =[1]).item()\n",
        "    img , label = mnist_train[rand]\n",
        "    plt.imshow(torch.squeeze(img), cmap = \"gray\")\n",
        "    plt.title(class_labels[label])\n",
        "    plt.axis(False)"
      ],
      "metadata": {
        "id": "n4eHGk5SFPKC"
      },
      "execution_count": 44,
      "outputs": []
    },
    {
      "cell_type": "code",
      "source": [
        "plot_random_images()"
      ],
      "metadata": {
        "colab": {
          "base_uri": "https://localhost:8080/",
          "height": 482
        },
        "id": "t5PYOOMVIKZ7",
        "outputId": "adea8cfb-835e-4e5f-cbf0-b0ac31ddd4b5"
      },
      "execution_count": 45,
      "outputs": [
        {
          "output_type": "display_data",
          "data": {
            "text/plain": [
              "<Figure size 864x576 with 16 Axes>"
            ],
            "image/png": "[encoded data removed]"
          },
          "metadata": {
            "needs_background": "light"
          }
        }
      ]
    },
    {
      "cell_type": "code",
      "source": [
        "train_dataLoader = DataLoader(dataset = mnist_train , batch_size = 32 , shuffle = True)\n",
        "train_dataLoader"
      ],
      "metadata": {
        "colab": {
          "base_uri": "https://localhost:8080/"
        },
        "id": "ymAtj1Wyed6D",
        "outputId": "dd039851-6e77-4e37-974f-7efb0711b86f"
      },
      "execution_count": 46,
      "outputs": [
        {
          "output_type": "execute_result",
          "data": {
            "text/plain": [
              "<torch.utils.data.dataloader.DataLoader at 0x7f0899a67c40>"
            ]
          },
          "metadata": {},
          "execution_count": 46
        }
      ]
    },
    {
      "cell_type": "code",
      "source": [
        "test_dataLoader = DataLoader(dataset = mnist_test , batch_size = 32 , shuffle = False)\n",
        "test_dataLoader"
      ],
      "metadata": {
        "colab": {
          "base_uri": "https://localhost:8080/"
        },
        "id": "R-On9Q7se0hI",
        "outputId": "75709691-dc95-4a68-be3c-834b1fac8f26"
      },
      "execution_count": 47,
      "outputs": [
        {
          "output_type": "execute_result",
          "data": {
            "text/plain": [
              "<torch.utils.data.dataloader.DataLoader at 0x7f0899a6efa0>"
            ]
          },
          "metadata": {},
          "execution_count": 47
        }
      ]
    },
    {
      "cell_type": "code",
      "source": [
        "def plot_first_batch(dataLoader, batch_size = 32):\n",
        "  img , label = next(iter(dataLoader))\n",
        "  plt.figure(figsize = (20 ,14))\n",
        "  for i in range( len(img)):\n",
        "    plt.subplot(4,8 , i+1)\n",
        "    plt.imshow(img[i].squeeze() , cmap = \"gray\")\n",
        "    plt.title(class_labels[label[i]])\n",
        "    plt.axis(False)"
      ],
      "metadata": {
        "id": "X1JmK2xUiJJR"
      },
      "execution_count": 48,
      "outputs": []
    },
    {
      "cell_type": "code",
      "source": [
        "class FashionMnistModel0(torch.nn.Module):\n",
        "  def __init__(self , input_layer:int , hidden_layer:int , output_layer:int):\n",
        "    super().__init__()\n",
        "    self.layerStacks = torch.nn.Sequential(\n",
        "        torch.nn.Flatten(),\n",
        "        torch.nn.Linear(in_features = input_layer , out_features = hidden_layer),\n",
        "        torch.nn.Linear(in_features = hidden_layer , out_features = output_layer)\n",
        "    )\n",
        "  \n",
        "  def forward(self , x:torch.Tensor) -> torch.Tensor:\n",
        "    return self.layerStacks(x)"
      ],
      "metadata": {
        "id": "1TYD5D_voJBN"
      },
      "execution_count": 49,
      "outputs": []
    },
    {
      "cell_type": "code",
      "source": [
        "model0 = FashionMnistModel0(input_layer = 28 * 28 , hidden_layer = 128 , output_layer = len(class_labels))"
      ],
      "metadata": {
        "id": "JQESutk49Sy2"
      },
      "execution_count": 50,
      "outputs": []
    },
    {
      "cell_type": "code",
      "source": [
        "loss_fn = torch.nn.CrossEntropyLoss()\n",
        "optimizer = torch.optim.SGD(model0.parameters() , lr = 0.01)"
      ],
      "metadata": {
        "id": "AEMkJFdE_Hm7"
      },
      "execution_count": 51,
      "outputs": []
    },
    {
      "cell_type": "code",
      "source": [
        "from tqdm.auto import tqdm\n",
        "import timeit"
      ],
      "metadata": {
        "id": "fv6ekbG-_zkK"
      },
      "execution_count": 52,
      "outputs": []
    },
    {
      "cell_type": "code",
      "source": [
        "device = \"cuda\" if torch.cuda.is_available() else \"cpu\"\n",
        "device"
      ],
      "metadata": {
        "colab": {
          "base_uri": "https://localhost:8080/",
          "height": 35
        },
        "id": "IzSw45UiCpOc",
        "outputId": "e6357677-54aa-4a31-97b8-e01d1c68c4c9"
      },
      "execution_count": 53,
      "outputs": [
        {
          "output_type": "execute_result",
          "data": {
            "text/plain": [
              "'cuda'"
            ],
            "application/vnd.google.colaboratory.intrinsic+json": {
              "type": "string"
            }
          },
          "metadata": {},
          "execution_count": 53
        }
      ]
    },
    {
      "cell_type": "code",
      "source": [],
      "metadata": {
        "id": "3tfhX_-xDLvq"
      },
      "execution_count": 53,
      "outputs": []
    },
    {
      "cell_type": "code",
      "source": [
        "def calclulate_timer(start_time , end_time , device = device):\n",
        "  ''' this method's been created for calculating process time on the selcted device\n",
        "  args:\n",
        "     start_time: timeit.Timer().timer() before operation\n",
        "     end_time: timeit.Timer().timer() after operation\n",
        "  output:\n",
        "     print end_time - start_time \n",
        "  '''\n",
        "  start = start_time\n",
        "  end = end_time\n",
        "  time = end - start\n",
        "  print(f\"process time on the {device} is\\t{time:0.3f}s\")"
      ],
      "metadata": {
        "id": "M37Cxsn4Acm9"
      },
      "execution_count": 54,
      "outputs": []
    },
    {
      "cell_type": "code",
      "source": [
        "len(train_dataLoader)"
      ],
      "metadata": {
        "colab": {
          "base_uri": "https://localhost:8080/"
        },
        "id": "j06yc8qQrlb8",
        "outputId": "195ade9c-d31a-4ca9-bfd6-a67f1abf42a9"
      },
      "execution_count": 55,
      "outputs": [
        {
          "output_type": "execute_result",
          "data": {
            "text/plain": [
              "1875"
            ]
          },
          "metadata": {},
          "execution_count": 55
        }
      ]
    },
    {
      "cell_type": "code",
      "source": [
        "#training-part\n",
        "epochs = 5\n",
        "start = timeit.Timer().timer()\n",
        "\n",
        "for step in range(epochs):\n",
        "  train_loss = 0\n",
        "\n",
        "  for batch , (data , label) in enumerate(train_dataLoader):\n",
        "    #train\n",
        "    model0.train()\n",
        "\n",
        "    #pass data\n",
        "    train_preds = model0(data)\n",
        "\n",
        "    #calculate loss\n",
        "    loss = loss_fn(train_preds , label)\n",
        "    train_loss = train_loss + loss\n",
        "\n",
        "    #optimizer zero grad\n",
        "    optimizer.zero_grad()\n",
        "\n",
        "    #loss backward\n",
        "    loss.backward()\n",
        "\n",
        "    #optimizer step\n",
        "    optimizer.step()\n",
        "    if (batch + 1) % 400 == 0:\n",
        "      print(f\"number of data passed\\t{(batch + 1) * len(data)}\")\n",
        "    \n",
        "  \n",
        "  train_loss = train_loss / len(train_dataLoader)\n",
        "\n",
        "  model0.eval()\n",
        "  with torch.inference_mode():\n",
        "    test_loss = 0\n",
        "    for data , label in test_dataLoader:\n",
        "      test_preds = model0(data)\n",
        "      loss = loss_fn(test_preds , label)\n",
        "      test_loss = test_loss + loss\n",
        "    test_loss = test_loss / len(test_dataLoader)\n",
        "  \n",
        "  print(f\"train loss is {train_loss}\\t test loss is {test_loss}\")\n",
        "end = timeit.Timer().timer()\n",
        "calclulate_timer(start_time = start , end_time = end , device = \"cuda\" if torch.cuda.is_available() else \"cpu\")"
      ],
      "metadata": {
        "id": "an-XDs4NHCFX",
        "colab": {
          "base_uri": "https://localhost:8080/"
        },
        "outputId": "5a6d5ae7-8652-43cd-c0c5-101ce734564b"
      },
      "execution_count": 57,
      "outputs": [
        {
          "output_type": "stream",
          "name": "stdout",
          "text": [
            "number of data passed\t12800\n",
            "number of data passed\t25600\n",
            "number of data passed\t38400\n",
            "number of data passed\t51200\n",
            "train loss is 0.4948565661907196\t test loss is 0.5055441856384277\n",
            "number of data passed\t12800\n",
            "number of data passed\t25600\n",
            "number of data passed\t38400\n",
            "number of data passed\t51200\n",
            "train loss is 0.4695974886417389\t test loss is 0.49010738730430603\n",
            "number of data passed\t12800\n",
            "number of data passed\t25600\n",
            "number of data passed\t38400\n",
            "number of data passed\t51200\n",
            "train loss is 0.4541189670562744\t test loss is 0.4876577854156494\n",
            "number of data passed\t12800\n",
            "number of data passed\t25600\n",
            "number of data passed\t38400\n",
            "number of data passed\t51200\n",
            "train loss is 0.4431063234806061\t test loss is 0.47717347741127014\n",
            "number of data passed\t12800\n",
            "number of data passed\t25600\n",
            "number of data passed\t38400\n",
            "number of data passed\t51200\n",
            "train loss is 0.43477150797843933\t test loss is 0.46735402941703796\n",
            "process time on the cuda is\t35.411s\n"
          ]
        }
      ]
    },
    {
      "cell_type": "code",
      "source": [],
      "metadata": {
        "id": "BIwHCUFKpHvh"
      },
      "execution_count": 56,
      "outputs": []
    }
  ]
}