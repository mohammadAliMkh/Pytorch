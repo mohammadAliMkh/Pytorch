{
  "nbformat": 4,
  "nbformat_minor": 0,
  "metadata": {
    "colab": {
      "provenance": [],
      "authorship_tag": "ABX9TyNV1NjeAR3P0DhfyPcgFuU8",
      "include_colab_link": true
    },
    "kernelspec": {
      "name": "python3",
      "display_name": "Python 3"
    },
    "language_info": {
      "name": "python"
    },
    "gpuClass": "standard",
    "accelerator": "GPU",
    "widgets": {
      "application/vnd.jupyter.widget-state+json": {
        "7c1b12a5d1a1418786c1b34d51445ce0": {
          "model_module": "@jupyter-widgets/controls",
          "model_name": "HBoxModel",
          "model_module_version": "1.5.0",
          "state": {
            "_dom_classes": [],
            "_model_module": "@jupyter-widgets/controls",
            "_model_module_version": "1.5.0",
            "_model_name": "HBoxModel",
            "_view_count": null,
            "_view_module": "@jupyter-widgets/controls",
            "_view_module_version": "1.5.0",
            "_view_name": "HBoxView",
            "box_style": "",
            "children": [
              "IPY_MODEL_0a40fbdfabb040e9906554c7e07243d7",
              "IPY_MODEL_69a496f890444ed5a66ac4a5f0af5b60",
              "IPY_MODEL_9de072397870491db965d73870e0d983"
            ],
            "layout": "IPY_MODEL_1e9a30fd351d4b41a32dc89bf9a69ed9"
          }
        },
        "0a40fbdfabb040e9906554c7e07243d7": {
          "model_module": "@jupyter-widgets/controls",
          "model_name": "HTMLModel",
          "model_module_version": "1.5.0",
          "state": {
            "_dom_classes": [],
            "_model_module": "@jupyter-widgets/controls",
            "_model_module_version": "1.5.0",
            "_model_name": "HTMLModel",
            "_view_count": null,
            "_view_module": "@jupyter-widgets/controls",
            "_view_module_version": "1.5.0",
            "_view_name": "HTMLView",
            "description": "",
            "description_tooltip": null,
            "layout": "IPY_MODEL_db500b51984e408e91271477fb448816",
            "placeholder": "​",
            "style": "IPY_MODEL_6e1973fd1b9f4834bb8ddb0df0935127",
            "value": "100%"
          }
        },
        "69a496f890444ed5a66ac4a5f0af5b60": {
          "model_module": "@jupyter-widgets/controls",
          "model_name": "FloatProgressModel",
          "model_module_version": "1.5.0",
          "state": {
            "_dom_classes": [],
            "_model_module": "@jupyter-widgets/controls",
            "_model_module_version": "1.5.0",
            "_model_name": "FloatProgressModel",
            "_view_count": null,
            "_view_module": "@jupyter-widgets/controls",
            "_view_module_version": "1.5.0",
            "_view_name": "ProgressView",
            "bar_style": "success",
            "description": "",
            "description_tooltip": null,
            "layout": "IPY_MODEL_af6bf1c1a07a4d7cb19142b318888fdc",
            "max": 3,
            "min": 0,
            "orientation": "horizontal",
            "style": "IPY_MODEL_3cecdc42e7504362a8e8eb2dced9b414",
            "value": 3
          }
        },
        "9de072397870491db965d73870e0d983": {
          "model_module": "@jupyter-widgets/controls",
          "model_name": "HTMLModel",
          "model_module_version": "1.5.0",
          "state": {
            "_dom_classes": [],
            "_model_module": "@jupyter-widgets/controls",
            "_model_module_version": "1.5.0",
            "_model_name": "HTMLModel",
            "_view_count": null,
            "_view_module": "@jupyter-widgets/controls",
            "_view_module_version": "1.5.0",
            "_view_name": "HTMLView",
            "description": "",
            "description_tooltip": null,
            "layout": "IPY_MODEL_0c17fb2931f74427bdb0105297f28b6f",
            "placeholder": "​",
            "style": "IPY_MODEL_a30ae46b00894e89ae5ed7ed92ece202",
            "value": " 3/3 [00:24&lt;00:00,  8.19s/it]"
          }
        },
        "1e9a30fd351d4b41a32dc89bf9a69ed9": {
          "model_module": "@jupyter-widgets/base",
          "model_name": "LayoutModel",
          "model_module_version": "1.2.0",
          "state": {
            "_model_module": "@jupyter-widgets/base",
            "_model_module_version": "1.2.0",
            "_model_name": "LayoutModel",
            "_view_count": null,
            "_view_module": "@jupyter-widgets/base",
            "_view_module_version": "1.2.0",
            "_view_name": "LayoutView",
            "align_content": null,
            "align_items": null,
            "align_self": null,
            "border": null,
            "bottom": null,
            "display": null,
            "flex": null,
            "flex_flow": null,
            "grid_area": null,
            "grid_auto_columns": null,
            "grid_auto_flow": null,
            "grid_auto_rows": null,
            "grid_column": null,
            "grid_gap": null,
            "grid_row": null,
            "grid_template_areas": null,
            "grid_template_columns": null,
            "grid_template_rows": null,
            "height": null,
            "justify_content": null,
            "justify_items": null,
            "left": null,
            "margin": null,
            "max_height": null,
            "max_width": null,
            "min_height": null,
            "min_width": null,
            "object_fit": null,
            "object_position": null,
            "order": null,
            "overflow": null,
            "overflow_x": null,
            "overflow_y": null,
            "padding": null,
            "right": null,
            "top": null,
            "visibility": null,
            "width": null
          }
        },
        "db500b51984e408e91271477fb448816": {
          "model_module": "@jupyter-widgets/base",
          "model_name": "LayoutModel",
          "model_module_version": "1.2.0",
          "state": {
            "_model_module": "@jupyter-widgets/base",
            "_model_module_version": "1.2.0",
            "_model_name": "LayoutModel",
            "_view_count": null,
            "_view_module": "@jupyter-widgets/base",
            "_view_module_version": "1.2.0",
            "_view_name": "LayoutView",
            "align_content": null,
            "align_items": null,
            "align_self": null,
            "border": null,
            "bottom": null,
            "display": null,
            "flex": null,
            "flex_flow": null,
            "grid_area": null,
            "grid_auto_columns": null,
            "grid_auto_flow": null,
            "grid_auto_rows": null,
            "grid_column": null,
            "grid_gap": null,
            "grid_row": null,
            "grid_template_areas": null,
            "grid_template_columns": null,
            "grid_template_rows": null,
            "height": null,
            "justify_content": null,
            "justify_items": null,
            "left": null,
            "margin": null,
            "max_height": null,
            "max_width": null,
            "min_height": null,
            "min_width": null,
            "object_fit": null,
            "object_position": null,
            "order": null,
            "overflow": null,
            "overflow_x": null,
            "overflow_y": null,
            "padding": null,
            "right": null,
            "top": null,
            "visibility": null,
            "width": null
          }
        },
        "6e1973fd1b9f4834bb8ddb0df0935127": {
          "model_module": "@jupyter-widgets/controls",
          "model_name": "DescriptionStyleModel",
          "model_module_version": "1.5.0",
          "state": {
            "_model_module": "@jupyter-widgets/controls",
            "_model_module_version": "1.5.0",
            "_model_name": "DescriptionStyleModel",
            "_view_count": null,
            "_view_module": "@jupyter-widgets/base",
            "_view_module_version": "1.2.0",
            "_view_name": "StyleView",
            "description_width": ""
          }
        },
        "af6bf1c1a07a4d7cb19142b318888fdc": {
          "model_module": "@jupyter-widgets/base",
          "model_name": "LayoutModel",
          "model_module_version": "1.2.0",
          "state": {
            "_model_module": "@jupyter-widgets/base",
            "_model_module_version": "1.2.0",
            "_model_name": "LayoutModel",
            "_view_count": null,
            "_view_module": "@jupyter-widgets/base",
            "_view_module_version": "1.2.0",
            "_view_name": "LayoutView",
            "align_content": null,
            "align_items": null,
            "align_self": null,
            "border": null,
            "bottom": null,
            "display": null,
            "flex": null,
            "flex_flow": null,
            "grid_area": null,
            "grid_auto_columns": null,
            "grid_auto_flow": null,
            "grid_auto_rows": null,
            "grid_column": null,
            "grid_gap": null,
            "grid_row": null,
            "grid_template_areas": null,
            "grid_template_columns": null,
            "grid_template_rows": null,
            "height": null,
            "justify_content": null,
            "justify_items": null,
            "left": null,
            "margin": null,
            "max_height": null,
            "max_width": null,
            "min_height": null,
            "min_width": null,
            "object_fit": null,
            "object_position": null,
            "order": null,
            "overflow": null,
            "overflow_x": null,
            "overflow_y": null,
            "padding": null,
            "right": null,
            "top": null,
            "visibility": null,
            "width": null
          }
        },
        "3cecdc42e7504362a8e8eb2dced9b414": {
          "model_module": "@jupyter-widgets/controls",
          "model_name": "ProgressStyleModel",
          "model_module_version": "1.5.0",
          "state": {
            "_model_module": "@jupyter-widgets/controls",
            "_model_module_version": "1.5.0",
            "_model_name": "ProgressStyleModel",
            "_view_count": null,
            "_view_module": "@jupyter-widgets/base",
            "_view_module_version": "1.2.0",
            "_view_name": "StyleView",
            "bar_color": null,
            "description_width": ""
          }
        },
        "0c17fb2931f74427bdb0105297f28b6f": {
          "model_module": "@jupyter-widgets/base",
          "model_name": "LayoutModel",
          "model_module_version": "1.2.0",
          "state": {
            "_model_module": "@jupyter-widgets/base",
            "_model_module_version": "1.2.0",
            "_model_name": "LayoutModel",
            "_view_count": null,
            "_view_module": "@jupyter-widgets/base",
            "_view_module_version": "1.2.0",
            "_view_name": "LayoutView",
            "align_content": null,
            "align_items": null,
            "align_self": null,
            "border": null,
            "bottom": null,
            "display": null,
            "flex": null,
            "flex_flow": null,
            "grid_area": null,
            "grid_auto_columns": null,
            "grid_auto_flow": null,
            "grid_auto_rows": null,
            "grid_column": null,
            "grid_gap": null,
            "grid_row": null,
            "grid_template_areas": null,
            "grid_template_columns": null,
            "grid_template_rows": null,
            "height": null,
            "justify_content": null,
            "justify_items": null,
            "left": null,
            "margin": null,
            "max_height": null,
            "max_width": null,
            "min_height": null,
            "min_width": null,
            "object_fit": null,
            "object_position": null,
            "order": null,
            "overflow": null,
            "overflow_x": null,
            "overflow_y": null,
            "padding": null,
            "right": null,
            "top": null,
            "visibility": null,
            "width": null
          }
        },
        "a30ae46b00894e89ae5ed7ed92ece202": {
          "model_module": "@jupyter-widgets/controls",
          "model_name": "DescriptionStyleModel",
          "model_module_version": "1.5.0",
          "state": {
            "_model_module": "@jupyter-widgets/controls",
            "_model_module_version": "1.5.0",
            "_model_name": "DescriptionStyleModel",
            "_view_count": null,
            "_view_module": "@jupyter-widgets/base",
            "_view_module_version": "1.2.0",
            "_view_name": "StyleView",
            "description_width": ""
          }
        },
        "6894c44bd45c4d6fb7a64989d465a427": {
          "model_module": "@jupyter-widgets/controls",
          "model_name": "HBoxModel",
          "model_module_version": "1.5.0",
          "state": {
            "_dom_classes": [],
            "_model_module": "@jupyter-widgets/controls",
            "_model_module_version": "1.5.0",
            "_model_name": "HBoxModel",
            "_view_count": null,
            "_view_module": "@jupyter-widgets/controls",
            "_view_module_version": "1.5.0",
            "_view_name": "HBoxView",
            "box_style": "",
            "children": [
              "IPY_MODEL_108f452988394827b15a88768bb8c016",
              "IPY_MODEL_ae3ad4d094624c079c04aa2b170f4fd7",
              "IPY_MODEL_c96e0044806b47c688e222fb8c0e858e"
            ],
            "layout": "IPY_MODEL_10942633ce8846d2b39e98e75e9092ea"
          }
        },
        "108f452988394827b15a88768bb8c016": {
          "model_module": "@jupyter-widgets/controls",
          "model_name": "HTMLModel",
          "model_module_version": "1.5.0",
          "state": {
            "_dom_classes": [],
            "_model_module": "@jupyter-widgets/controls",
            "_model_module_version": "1.5.0",
            "_model_name": "HTMLModel",
            "_view_count": null,
            "_view_module": "@jupyter-widgets/controls",
            "_view_module_version": "1.5.0",
            "_view_name": "HTMLView",
            "description": "",
            "description_tooltip": null,
            "layout": "IPY_MODEL_33097adbbde0427c83259cbcbd422add",
            "placeholder": "​",
            "style": "IPY_MODEL_265b076e0bcb45009ffcebadc586a6b8",
            "value": "100%"
          }
        },
        "ae3ad4d094624c079c04aa2b170f4fd7": {
          "model_module": "@jupyter-widgets/controls",
          "model_name": "FloatProgressModel",
          "model_module_version": "1.5.0",
          "state": {
            "_dom_classes": [],
            "_model_module": "@jupyter-widgets/controls",
            "_model_module_version": "1.5.0",
            "_model_name": "FloatProgressModel",
            "_view_count": null,
            "_view_module": "@jupyter-widgets/controls",
            "_view_module_version": "1.5.0",
            "_view_name": "ProgressView",
            "bar_style": "success",
            "description": "",
            "description_tooltip": null,
            "layout": "IPY_MODEL_ac5288c9cd944b6ca4343cf476eb907e",
            "max": 3,
            "min": 0,
            "orientation": "horizontal",
            "style": "IPY_MODEL_4ce8d0b5812a4ba5b3a32f4e2b267aaf",
            "value": 3
          }
        },
        "c96e0044806b47c688e222fb8c0e858e": {
          "model_module": "@jupyter-widgets/controls",
          "model_name": "HTMLModel",
          "model_module_version": "1.5.0",
          "state": {
            "_dom_classes": [],
            "_model_module": "@jupyter-widgets/controls",
            "_model_module_version": "1.5.0",
            "_model_name": "HTMLModel",
            "_view_count": null,
            "_view_module": "@jupyter-widgets/controls",
            "_view_module_version": "1.5.0",
            "_view_name": "HTMLView",
            "description": "",
            "description_tooltip": null,
            "layout": "IPY_MODEL_9967ec22a9dd427fa6d223c041e9378d",
            "placeholder": "​",
            "style": "IPY_MODEL_3da82e613b814cfe882c2377787c07e2",
            "value": " 3/3 [00:25&lt;00:00,  8.60s/it]"
          }
        },
        "10942633ce8846d2b39e98e75e9092ea": {
          "model_module": "@jupyter-widgets/base",
          "model_name": "LayoutModel",
          "model_module_version": "1.2.0",
          "state": {
            "_model_module": "@jupyter-widgets/base",
            "_model_module_version": "1.2.0",
            "_model_name": "LayoutModel",
            "_view_count": null,
            "_view_module": "@jupyter-widgets/base",
            "_view_module_version": "1.2.0",
            "_view_name": "LayoutView",
            "align_content": null,
            "align_items": null,
            "align_self": null,
            "border": null,
            "bottom": null,
            "display": null,
            "flex": null,
            "flex_flow": null,
            "grid_area": null,
            "grid_auto_columns": null,
            "grid_auto_flow": null,
            "grid_auto_rows": null,
            "grid_column": null,
            "grid_gap": null,
            "grid_row": null,
            "grid_template_areas": null,
            "grid_template_columns": null,
            "grid_template_rows": null,
            "height": null,
            "justify_content": null,
            "justify_items": null,
            "left": null,
            "margin": null,
            "max_height": null,
            "max_width": null,
            "min_height": null,
            "min_width": null,
            "object_fit": null,
            "object_position": null,
            "order": null,
            "overflow": null,
            "overflow_x": null,
            "overflow_y": null,
            "padding": null,
            "right": null,
            "top": null,
            "visibility": null,
            "width": null
          }
        },
        "33097adbbde0427c83259cbcbd422add": {
          "model_module": "@jupyter-widgets/base",
          "model_name": "LayoutModel",
          "model_module_version": "1.2.0",
          "state": {
            "_model_module": "@jupyter-widgets/base",
            "_model_module_version": "1.2.0",
            "_model_name": "LayoutModel",
            "_view_count": null,
            "_view_module": "@jupyter-widgets/base",
            "_view_module_version": "1.2.0",
            "_view_name": "LayoutView",
            "align_content": null,
            "align_items": null,
            "align_self": null,
            "border": null,
            "bottom": null,
            "display": null,
            "flex": null,
            "flex_flow": null,
            "grid_area": null,
            "grid_auto_columns": null,
            "grid_auto_flow": null,
            "grid_auto_rows": null,
            "grid_column": null,
            "grid_gap": null,
            "grid_row": null,
            "grid_template_areas": null,
            "grid_template_columns": null,
            "grid_template_rows": null,
            "height": null,
            "justify_content": null,
            "justify_items": null,
            "left": null,
            "margin": null,
            "max_height": null,
            "max_width": null,
            "min_height": null,
            "min_width": null,
            "object_fit": null,
            "object_position": null,
            "order": null,
            "overflow": null,
            "overflow_x": null,
            "overflow_y": null,
            "padding": null,
            "right": null,
            "top": null,
            "visibility": null,
            "width": null
          }
        },
        "265b076e0bcb45009ffcebadc586a6b8": {
          "model_module": "@jupyter-widgets/controls",
          "model_name": "DescriptionStyleModel",
          "model_module_version": "1.5.0",
          "state": {
            "_model_module": "@jupyter-widgets/controls",
            "_model_module_version": "1.5.0",
            "_model_name": "DescriptionStyleModel",
            "_view_count": null,
            "_view_module": "@jupyter-widgets/base",
            "_view_module_version": "1.2.0",
            "_view_name": "StyleView",
            "description_width": ""
          }
        },
        "ac5288c9cd944b6ca4343cf476eb907e": {
          "model_module": "@jupyter-widgets/base",
          "model_name": "LayoutModel",
          "model_module_version": "1.2.0",
          "state": {
            "_model_module": "@jupyter-widgets/base",
            "_model_module_version": "1.2.0",
            "_model_name": "LayoutModel",
            "_view_count": null,
            "_view_module": "@jupyter-widgets/base",
            "_view_module_version": "1.2.0",
            "_view_name": "LayoutView",
            "align_content": null,
            "align_items": null,
            "align_self": null,
            "border": null,
            "bottom": null,
            "display": null,
            "flex": null,
            "flex_flow": null,
            "grid_area": null,
            "grid_auto_columns": null,
            "grid_auto_flow": null,
            "grid_auto_rows": null,
            "grid_column": null,
            "grid_gap": null,
            "grid_row": null,
            "grid_template_areas": null,
            "grid_template_columns": null,
            "grid_template_rows": null,
            "height": null,
            "justify_content": null,
            "justify_items": null,
            "left": null,
            "margin": null,
            "max_height": null,
            "max_width": null,
            "min_height": null,
            "min_width": null,
            "object_fit": null,
            "object_position": null,
            "order": null,
            "overflow": null,
            "overflow_x": null,
            "overflow_y": null,
            "padding": null,
            "right": null,
            "top": null,
            "visibility": null,
            "width": null
          }
        },
        "4ce8d0b5812a4ba5b3a32f4e2b267aaf": {
          "model_module": "@jupyter-widgets/controls",
          "model_name": "ProgressStyleModel",
          "model_module_version": "1.5.0",
          "state": {
            "_model_module": "@jupyter-widgets/controls",
            "_model_module_version": "1.5.0",
            "_model_name": "ProgressStyleModel",
            "_view_count": null,
            "_view_module": "@jupyter-widgets/base",
            "_view_module_version": "1.2.0",
            "_view_name": "StyleView",
            "bar_color": null,
            "description_width": ""
          }
        },
        "9967ec22a9dd427fa6d223c041e9378d": {
          "model_module": "@jupyter-widgets/base",
          "model_name": "LayoutModel",
          "model_module_version": "1.2.0",
          "state": {
            "_model_module": "@jupyter-widgets/base",
            "_model_module_version": "1.2.0",
            "_model_name": "LayoutModel",
            "_view_count": null,
            "_view_module": "@jupyter-widgets/base",
            "_view_module_version": "1.2.0",
            "_view_name": "LayoutView",
            "align_content": null,
            "align_items": null,
            "align_self": null,
            "border": null,
            "bottom": null,
            "display": null,
            "flex": null,
            "flex_flow": null,
            "grid_area": null,
            "grid_auto_columns": null,
            "grid_auto_flow": null,
            "grid_auto_rows": null,
            "grid_column": null,
            "grid_gap": null,
            "grid_row": null,
            "grid_template_areas": null,
            "grid_template_columns": null,
            "grid_template_rows": null,
            "height": null,
            "justify_content": null,
            "justify_items": null,
            "left": null,
            "margin": null,
            "max_height": null,
            "max_width": null,
            "min_height": null,
            "min_width": null,
            "object_fit": null,
            "object_position": null,
            "order": null,
            "overflow": null,
            "overflow_x": null,
            "overflow_y": null,
            "padding": null,
            "right": null,
            "top": null,
            "visibility": null,
            "width": null
          }
        },
        "3da82e613b814cfe882c2377787c07e2": {
          "model_module": "@jupyter-widgets/controls",
          "model_name": "DescriptionStyleModel",
          "model_module_version": "1.5.0",
          "state": {
            "_model_module": "@jupyter-widgets/controls",
            "_model_module_version": "1.5.0",
            "_model_name": "DescriptionStyleModel",
            "_view_count": null,
            "_view_module": "@jupyter-widgets/base",
            "_view_module_version": "1.2.0",
            "_view_name": "StyleView",
            "description_width": ""
          }
        }
      }
    }
  },
  "cells": [
    {
      "cell_type": "markdown",
      "metadata": {
        "id": "view-in-github",
        "colab_type": "text"
      },
      "source": [
        "<a href=\"https://colab.research.google.com/github/mohammadAliMkh/Pytorch/blob/main/fashionMNIST.ipynb\" target=\"_parent\"><img src=\"https://colab.research.google.com/assets/colab-badge.svg\" alt=\"Open In Colab\"/></a>"
      ]
    },
    {
      "cell_type": "code",
      "source": [
        "import torch\n",
        "\n",
        "import torchvision\n",
        "from torchvision import datasets\n",
        "from torchvision import transforms\n",
        "from torchvision import models\n",
        "from torchvision.transforms import ToTensor\n",
        "\n",
        "import matplotlib.pyplot as plt\n",
        "\n",
        "from torch.utils.data import DataLoader\n",
        "from torch.utils.data import Dataset"
      ],
      "metadata": {
        "id": "OzXNi4OWBUnW"
      },
      "execution_count": 61,
      "outputs": []
    },
    {
      "cell_type": "code",
      "source": [
        "mnist_train = datasets.FashionMNIST(root = \"Data\" , train = True ,download = True , transform = ToTensor() , target_transform = None)\n",
        "mnist_test = datasets.FashionMNIST(root = \"Data\" , train = False ,download = True , transform = ToTensor() , target_transform = None)"
      ],
      "metadata": {
        "id": "pWSQNBfuCaZb"
      },
      "execution_count": 62,
      "outputs": []
    },
    {
      "cell_type": "code",
      "source": [
        "len(mnist_train) , len(mnist_test)"
      ],
      "metadata": {
        "colab": {
          "base_uri": "https://localhost:8080/"
        },
        "id": "5qxngpKRDJA7",
        "outputId": "020b5253-760d-4d2c-e7a2-3de664b07bbd"
      },
      "execution_count": 63,
      "outputs": [
        {
          "output_type": "execute_result",
          "data": {
            "text/plain": [
              "(60000, 10000)"
            ]
          },
          "metadata": {},
          "execution_count": 63
        }
      ]
    },
    {
      "cell_type": "code",
      "source": [
        "class_labels = mnist_train.classes"
      ],
      "metadata": {
        "id": "iIlDkZl3Dawk"
      },
      "execution_count": 64,
      "outputs": []
    },
    {
      "cell_type": "code",
      "source": [
        "mnist_train.class_to_idx"
      ],
      "metadata": {
        "colab": {
          "base_uri": "https://localhost:8080/"
        },
        "id": "tZO5l3hADkIC",
        "outputId": "2894b6b9-6178-4956-af96-b0421d9b36fd"
      },
      "execution_count": 65,
      "outputs": [
        {
          "output_type": "execute_result",
          "data": {
            "text/plain": [
              "{'T-shirt/top': 0,\n",
              " 'Trouser': 1,\n",
              " 'Pullover': 2,\n",
              " 'Dress': 3,\n",
              " 'Coat': 4,\n",
              " 'Sandal': 5,\n",
              " 'Shirt': 6,\n",
              " 'Sneaker': 7,\n",
              " 'Bag': 8,\n",
              " 'Ankle boot': 9}"
            ]
          },
          "metadata": {},
          "execution_count": 65
        }
      ]
    },
    {
      "cell_type": "code",
      "source": [
        "plt.imshow(mnist_train.data[0] , cmap = \"gray\")\n",
        "plt.title(class_labels[mnist_train.targets[0]])\n",
        "plt.axis(False)"
      ],
      "metadata": {
        "colab": {
          "base_uri": "https://localhost:8080/",
          "height": 281
        },
        "id": "fsvElIIUEoDz",
        "outputId": "d853362f-c5ae-4e4f-9f96-9e7c95c66aae"
      },
      "execution_count": 66,
      "outputs": [
        {
          "output_type": "execute_result",
          "data": {
            "text/plain": [
              "(-0.5, 27.5, 27.5, -0.5)"
            ]
          },
          "metadata": {},
          "execution_count": 66
        },
        {
          "output_type": "display_data",
          "data": {
            "text/plain": [
              "<Figure size 432x288 with 1 Axes>"
            ],
            "image/png": "[encoded data removed]"
          },
          "metadata": {
            "needs_background": "light"
          }
        }
      ]
    },
    {
      "cell_type": "code",
      "source": [
        "def plot_random_images(number_of_images = 16 , data = mnist_train):\n",
        "  ''' plot random images of selected datasets with their labels\n",
        "  '''\n",
        "  plt.figure(figsize = (12 , 8))\n",
        "  for i in range(1 , number_of_images + 1):\n",
        "    plt.subplot(4 , 4 , i)\n",
        "    rand = torch.randint(0, len(mnist_train), size =[1]).item()\n",
        "    img , label = mnist_train[rand]\n",
        "    plt.imshow(torch.squeeze(img), cmap = \"gray\")\n",
        "    plt.title(class_labels[label])\n",
        "    plt.axis(False)"
      ],
      "metadata": {
        "id": "n4eHGk5SFPKC"
      },
      "execution_count": 67,
      "outputs": []
    },
    {
      "cell_type": "code",
      "source": [
        "plot_random_images()"
      ],
      "metadata": {
        "colab": {
          "base_uri": "https://localhost:8080/",
          "height": 482
        },
        "id": "t5PYOOMVIKZ7",
        "outputId": "a7d34a45-48d7-435a-de14-f2fa428ca3cc"
      },
      "execution_count": 68,
      "outputs": [
        {
          "output_type": "display_data",
          "data": {
            "text/plain": [
              "<Figure size 864x576 with 16 Axes>"
            ],
            "image/png": "[encoded data removed]"
          },
          "metadata": {
            "needs_background": "light"
          }
        }
      ]
    },
    {
      "cell_type": "code",
      "source": [
        "train_dataLoader = DataLoader(dataset = mnist_train , batch_size = 32 , shuffle = True)\n",
        "train_dataLoader"
      ],
      "metadata": {
        "colab": {
          "base_uri": "https://localhost:8080/"
        },
        "id": "ymAtj1Wyed6D",
        "outputId": "746eb00d-70d6-45a0-f5e9-c2d0b58457ae"
      },
      "execution_count": 69,
      "outputs": [
        {
          "output_type": "execute_result",
          "data": {
            "text/plain": [
              "<torch.utils.data.dataloader.DataLoader at 0x7f72320b47f0>"
            ]
          },
          "metadata": {},
          "execution_count": 69
        }
      ]
    },
    {
      "cell_type": "code",
      "source": [
        "test_dataLoader = DataLoader(dataset = mnist_test , batch_size = 32 , shuffle = False)\n",
        "test_dataLoader"
      ],
      "metadata": {
        "colab": {
          "base_uri": "https://localhost:8080/"
        },
        "id": "R-On9Q7se0hI",
        "outputId": "c7fdca5e-1cfb-43c3-fc85-1f084afd8a99"
      },
      "execution_count": 70,
      "outputs": [
        {
          "output_type": "execute_result",
          "data": {
            "text/plain": [
              "<torch.utils.data.dataloader.DataLoader at 0x7f723201d760>"
            ]
          },
          "metadata": {},
          "execution_count": 70
        }
      ]
    },
    {
      "cell_type": "code",
      "source": [
        "def plot_first_batch(dataLoader, batch_size = 32):\n",
        "  img , label = next(iter(dataLoader))\n",
        "  plt.figure(figsize = (20 ,14))\n",
        "  for i in range( len(img)):\n",
        "    plt.subplot(4,8 , i+1)\n",
        "    plt.imshow(img[i].squeeze() , cmap = \"gray\")\n",
        "    plt.title(class_labels[label[i]])\n",
        "    plt.axis(False)"
      ],
      "metadata": {
        "id": "X1JmK2xUiJJR"
      },
      "execution_count": 71,
      "outputs": []
    },
    {
      "cell_type": "code",
      "source": [
        "class FashionMnistModel0(torch.nn.Module):\n",
        "  def __init__(self , input_layer:int , hidden_layer:int , output_layer:int):\n",
        "    super().__init__()\n",
        "    self.layerStacks = torch.nn.Sequential(\n",
        "        torch.nn.Flatten(),\n",
        "        torch.nn.Linear(in_features = input_layer , out_features = hidden_layer),\n",
        "        torch.nn.Linear(in_features = hidden_layer , out_features = output_layer)\n",
        "    )\n",
        "  \n",
        "  def forward(self , x:torch.Tensor) -> torch.Tensor:\n",
        "    return self.layerStacks(x)"
      ],
      "metadata": {
        "id": "1TYD5D_voJBN"
      },
      "execution_count": 72,
      "outputs": []
    },
    {
      "cell_type": "code",
      "source": [
        "model0 = FashionMnistModel0(input_layer = 28 * 28 , hidden_layer = 128 , output_layer = len(class_labels))"
      ],
      "metadata": {
        "id": "JQESutk49Sy2"
      },
      "execution_count": 73,
      "outputs": []
    },
    {
      "cell_type": "code",
      "source": [
        "loss_fn = torch.nn.CrossEntropyLoss()\n",
        "optimizer = torch.optim.SGD(model0.parameters() , lr = 0.001)"
      ],
      "metadata": {
        "id": "AEMkJFdE_Hm7"
      },
      "execution_count": 74,
      "outputs": []
    },
    {
      "cell_type": "code",
      "source": [
        "from tqdm.auto import tqdm\n",
        "import timeit"
      ],
      "metadata": {
        "id": "fv6ekbG-_zkK"
      },
      "execution_count": 75,
      "outputs": []
    },
    {
      "cell_type": "code",
      "source": [
        "def calclulate_timer(start_time , end_time , device = device):\n",
        "  ''' this method's been created for calculating process time on the selcted device\n",
        "  args:\n",
        "     start_time: timeit.Timer().timer() before operation\n",
        "     end_time: timeit.Timer().timer() after operation\n",
        "  output:\n",
        "     print end_time - start_time \n",
        "  '''\n",
        "  start = start_time\n",
        "  end = end_time\n",
        "  time = end - start\n",
        "  return time"
      ],
      "metadata": {
        "id": "M37Cxsn4Acm9"
      },
      "execution_count": 76,
      "outputs": []
    },
    {
      "cell_type": "code",
      "source": [
        "len(train_dataLoader)"
      ],
      "metadata": {
        "colab": {
          "base_uri": "https://localhost:8080/"
        },
        "id": "j06yc8qQrlb8",
        "outputId": "73f11928-3f0b-4d5b-e7f6-83fe398ea1f2"
      },
      "execution_count": 77,
      "outputs": [
        {
          "output_type": "execute_result",
          "data": {
            "text/plain": [
              "1875"
            ]
          },
          "metadata": {},
          "execution_count": 77
        }
      ]
    },
    {
      "cell_type": "code",
      "source": [
        "#training-part\n",
        "epochs = 3\n",
        "start = timeit.Timer().timer()\n",
        "\n",
        "for step in tqdm(range(epochs)):\n",
        "  train_loss = 0\n",
        "\n",
        "  for batch , (data , label) in enumerate(train_dataLoader):\n",
        "    #train\n",
        "    model0.train()\n",
        "\n",
        "    #pass data\n",
        "    train_preds = model0(data)\n",
        "\n",
        "    #calculate loss\n",
        "    loss = loss_fn(train_preds , label)\n",
        "    train_loss = train_loss + loss\n",
        "\n",
        "    #optimizer zero grad\n",
        "    optimizer.zero_grad()\n",
        "\n",
        "    #loss backward\n",
        "    loss.backward()\n",
        "\n",
        "    #optimizer step\n",
        "    optimizer.step()\n",
        "    if (batch + 1) % 400 == 0:\n",
        "      print(f\"number of data passed\\t{(batch + 1) * len(data)}\")\n",
        "    \n",
        "  \n",
        "  train_loss = train_loss / len(train_dataLoader)\n",
        "\n",
        "  model0.eval()\n",
        "  with torch.inference_mode():\n",
        "    test_loss = 0\n",
        "    for data , label in test_dataLoader:\n",
        "      test_preds = model0(data)\n",
        "      loss = loss_fn(test_preds , label)\n",
        "      test_loss = test_loss + loss\n",
        "    test_loss = test_loss / len(test_dataLoader)\n",
        "  \n",
        "  print(f\"\\ntrain loss is {train_loss}\\t test loss is {test_loss}\\n\")\n",
        "end = timeit.Timer().timer()\n",
        "calclulate_timer(start_time = start , end_time = end , device = \"cuda\" if torch.cuda.is_available() else \"cpu\")"
      ],
      "metadata": {
        "id": "an-XDs4NHCFX",
        "colab": {
          "base_uri": "https://localhost:8080/",
          "height": 431,
          "referenced_widgets": [
            "7c1b12a5d1a1418786c1b34d51445ce0",
            "0a40fbdfabb040e9906554c7e07243d7",
            "69a496f890444ed5a66ac4a5f0af5b60",
            "9de072397870491db965d73870e0d983",
            "1e9a30fd351d4b41a32dc89bf9a69ed9",
            "db500b51984e408e91271477fb448816",
            "6e1973fd1b9f4834bb8ddb0df0935127",
            "af6bf1c1a07a4d7cb19142b318888fdc",
            "3cecdc42e7504362a8e8eb2dced9b414",
            "0c17fb2931f74427bdb0105297f28b6f",
            "a30ae46b00894e89ae5ed7ed92ece202"
          ]
        },
        "outputId": "abfd357f-bb2f-4573-cde1-119333d8dc76"
      },
      "execution_count": 78,
      "outputs": [
        {
          "output_type": "display_data",
          "data": {
            "text/plain": [
              "  0%|          | 0/3 [00:00<?, ?it/s]"
            ],
            "application/vnd.jupyter.widget-view+json": {
              "version_major": 2,
              "version_minor": 0,
              "model_id": "7c1b12a5d1a1418786c1b34d51445ce0"
            }
          },
          "metadata": {}
        },
        {
          "output_type": "stream",
          "name": "stdout",
          "text": [
            "number of data passed\t12800\n",
            "number of data passed\t25600\n",
            "number of data passed\t38400\n",
            "number of data passed\t51200\n",
            "\n",
            "train loss is 1.6855838298797607\t test loss is 1.2628870010375977\n",
            "\n",
            "number of data passed\t12800\n",
            "number of data passed\t25600\n",
            "number of data passed\t38400\n",
            "number of data passed\t51200\n",
            "\n",
            "train loss is 1.0748862028121948\t test loss is 0.9616454243659973\n",
            "\n",
            "number of data passed\t12800\n",
            "number of data passed\t25600\n",
            "number of data passed\t38400\n",
            "number of data passed\t51200\n",
            "\n",
            "train loss is 0.8816980719566345\t test loss is 0.8412202596664429\n",
            "\n"
          ]
        },
        {
          "output_type": "execute_result",
          "data": {
            "text/plain": [
              "24.65538763099994"
            ]
          },
          "metadata": {},
          "execution_count": 78
        }
      ]
    },
    {
      "cell_type": "code",
      "source": [
        "import requests\n",
        "import os\n",
        "r = requests.get( \"https://raw.githubusercontent.com/mrdbourke/pytorch-deep-learning/main/helper_functions.py\")\n",
        "     \n",
        "\n",
        "if os.path.exists(\"/content/helper_functions.py\"):\n",
        "  print(\"file already exists\")\n",
        "else:\n",
        "  f = open(\"helper_functions.py\" , 'wb')\n",
        "  f.write(r.content)"
      ],
      "metadata": {
        "colab": {
          "base_uri": "https://localhost:8080/"
        },
        "id": "cpziD4xPJCeC",
        "outputId": "bbb185fa-1159-4e26-f6ab-8c4a37c87ea0"
      },
      "execution_count": 79,
      "outputs": [
        {
          "output_type": "stream",
          "name": "stdout",
          "text": [
            "file already exists\n"
          ]
        }
      ]
    },
    {
      "cell_type": "code",
      "source": [
        "from helper_functions import accuracy_fn\n",
        "\n",
        "#create evaluation method\n",
        "def model_evaluation(model:torch.nn.Module, loss_function:torch.nn.Module, dataLoader:torch.utils.data.DataLoader , device = device):\n",
        "  ''' this method will evaluate the model\n",
        "  arg:\n",
        "     model: your model which you want to evaluate\n",
        "     loss_function: your loss function\n",
        "     dataLoader: your data that in the format of torch.utils.data.DataLoader\n",
        "     device: which device you are runing the code\n",
        "  output: return a dicianary contains\n",
        "     test loss\n",
        "     test_accuracy\n",
        "     process time\n",
        "     device\n",
        "     '''\n",
        "     \n",
        "  start = timeit.Timer().timer()\n",
        "  device = \"cuda\" if torch.cuda.is_available() else \"cpu\"\n",
        " \n",
        "  model.eval()\n",
        "  with torch.inference_mode():\n",
        "    \n",
        "    test_loss = 0\n",
        "    test_accuracy = 0\n",
        "\n",
        "    for data , label in dataLoader:\n",
        "\n",
        "      data = data.to(device)\n",
        "      label = label.to(device)\n",
        "      preds = model(data)\n",
        "\n",
        "      loss = loss_function(preds , label)\n",
        "      test_loss = test_loss + loss\n",
        "\n",
        "      accuracy = accuracy_fn(label , torch.argmax(preds, dim = 1))\n",
        "      test_accuracy = test_accuracy + accuracy\n",
        "\n",
        "    \n",
        "    test_loss = test_loss / len(dataLoader)\n",
        "    test_accuracy = test_accuracy / len(dataLoader)\n",
        "  \n",
        "  end = timeit.Timer().timer()\n",
        "  evaluation_process_time = calclulate_timer(start_time = start , end_time = end , device = device)\n",
        "  return {\"Test Loss\" : f\"{test_loss:0.4f}\",\n",
        "          \"Test Accuracy\":f\"{test_accuracy:0.4f}\",\n",
        "          \"Evaluation Time\":f\"{evaluation_process_time:0.2f}s\",\n",
        "          \"Model Name\":f\"{model.__class__.__name__}\",\n",
        "          \"Evaluated On\":device}\n",
        "\n",
        "\n"
      ],
      "metadata": {
        "id": "BIwHCUFKpHvh"
      },
      "execution_count": 80,
      "outputs": []
    },
    {
      "cell_type": "code",
      "source": [
        "device = \"cuda\" if torch.cuda.is_available() else \"cpu\""
      ],
      "metadata": {
        "id": "23lMf0y2bouf"
      },
      "execution_count": 82,
      "outputs": []
    },
    {
      "cell_type": "code",
      "source": [
        "model0_evaluation = model_evaluation(model0.to(device) , loss_fn , test_dataLoader , device = device)\n",
        "model0_evaluation"
      ],
      "metadata": {
        "colab": {
          "base_uri": "https://localhost:8080/"
        },
        "id": "DIJ-OQwPMpoN",
        "outputId": "e099a836-2a92-4440-823a-e1f61e4d948a"
      },
      "execution_count": 83,
      "outputs": [
        {
          "output_type": "execute_result",
          "data": {
            "text/plain": [
              "{'Test Loss': '0.8412',\n",
              " 'Test Accuracy': '70.5571',\n",
              " 'Evaluation Time': '0.98s',\n",
              " 'Model Name': 'FashionMnistModel0',\n",
              " 'Evaluated On': 'cuda'}"
            ]
          },
          "metadata": {},
          "execution_count": 83
        }
      ]
    },
    {
      "cell_type": "code",
      "source": [
        "class FashionMNISTModel1(torch.nn.Module):\n",
        "  '''this class is built with RelU activaiton functions\n",
        "  '''\n",
        "  def __init__(self, input_shape:int , hidden_shape:int , output_shape:int):\n",
        "    super().__init__()\n",
        "    self.stack_layers = torch.nn.Sequential(\n",
        "        torch.nn.Flatten(),\n",
        "        torch.nn.Linear(in_features = input_shape , out_features = hidden_shape),\n",
        "        torch.nn.ReLU(),\n",
        "        torch.nn.Linear(in_features = hidden_shape , out_features = output_shape),\n",
        "        torch.nn.ReLU()\n",
        "    )\n",
        "\n",
        "  def forward(self , x:torch.Tensor) -> torch.Tensor:\n",
        "    return self.stack_layers(x)"
      ],
      "metadata": {
        "id": "qHJEZF8DevGX"
      },
      "execution_count": 84,
      "outputs": []
    },
    {
      "cell_type": "code",
      "source": [
        "model1 = FashionMNISTModel1(input_shape = 28 * 28 , hidden_shape = 128 , output_shape = len(class_labels)).to(device)"
      ],
      "metadata": {
        "id": "0bByGd0If6pR"
      },
      "execution_count": 85,
      "outputs": []
    },
    {
      "cell_type": "code",
      "source": [
        "loss_fn = torch.nn.CrossEntropyLoss()\n",
        "optimizer = torch.optim.SGD(params=model1.parameters() , lr = 0.01)"
      ],
      "metadata": {
        "id": "TKsWXwwZgQyk"
      },
      "execution_count": 86,
      "outputs": []
    },
    {
      "cell_type": "code",
      "source": [
        "def training(model:torch.nn.Module,\n",
        "             dataLoader:torch.utils.data.DataLoader,\n",
        "             loss_function:torch.nn.Module,\n",
        "             optimizer:torch.optim.Optimizer,\n",
        "             accuracy_function,\n",
        "             device = device):\n",
        "  \n",
        "  model.train()\n",
        "  train_loss = 0\n",
        "  train_accuracy = 0\n",
        "\n",
        "  for batch , (data , label) in enumerate(dataLoader):\n",
        "\n",
        "    data = data.to(device)\n",
        "    label = label.to(device)\n",
        "\n",
        "    train_preds_logits = model(data)\n",
        "    train_preds = torch.argmax(train_preds_logits , dim = 1)\n",
        "    accuracy = accuracy_function(label , train_preds)\n",
        "\n",
        "    loss = loss_function(train_preds_logits , label)\n",
        "\n",
        "    optimizer.zero_grad()\n",
        "\n",
        "    loss.backward()\n",
        "\n",
        "    optimizer.step()\n",
        "\n",
        "    if batch % 400 == 0:\n",
        "      print(f\"number of data passed {batch * len(data)}/{len(dataLoader) * len(data)}\")\n",
        "    \n",
        "    train_loss = train_loss + loss\n",
        "    train_accuracy = train_accuracy + accuracy\n",
        "  \n",
        "  train_loss = train_loss / len(dataLoader)\n",
        "  train_accuracy = train_accuracy / len(dataLoader)\n",
        "\n",
        "  print(f\"Train Loss: {train_loss:0.5f} | Train Accuracy: {train_accuracy:0.2f}%\")\n"
      ],
      "metadata": {
        "id": "FabwWIF0lqTy"
      },
      "execution_count": 87,
      "outputs": []
    },
    {
      "cell_type": "code",
      "source": [
        "def testing(model:torch.nn.Module,\n",
        "             dataLoader:torch.utils.data.DataLoader,\n",
        "             loss_function:torch.nn.Module,\n",
        "             accuracy_function,\n",
        "             device = device):\n",
        "  \n",
        "  test_loss = 0\n",
        "  test_accuracy = 0\n",
        "\n",
        "  model.eval()\n",
        "  with torch.inference_mode():\n",
        "    for batch , (data , label) in enumerate(dataLoader):\n",
        "      data = data.to(device)\n",
        "      label = label.to(device)\n",
        "\n",
        "      test_preds_logits = model(data)\n",
        "      test_preds = torch.argmax(test_preds_logits , dim = 1)\n",
        "      accuracy = accuracy_function(label , test_preds)\n",
        "\n",
        "      loss = loss_function(test_preds_logits , label)\n",
        "\n",
        "      test_loss = test_loss + loss\n",
        "      test_accuracy = test_accuracy + accuracy\n",
        "    \n",
        "  test_loss = test_loss / len(dataLoader)\n",
        "  test_accuracy = test_accuracy / len(dataLoader)\n",
        "\n",
        "  print(f\"Test Loss: {test_loss:0.5f} | Test Accuracy: {test_accuracy:0.2f}%\\n\")"
      ],
      "metadata": {
        "id": "sHLhujGb15MG"
      },
      "execution_count": 88,
      "outputs": []
    },
    {
      "cell_type": "code",
      "source": [
        "epochs = 3\n",
        "start = timeit.Timer().timer()\n",
        "\n",
        "for epoch in tqdm(range(epochs)):\n",
        "  print(f\"---- Epoch {epoch + 1}/{epochs} ----\\n\")\n",
        "  training(model1,\n",
        "           train_dataLoader,\n",
        "           loss_function = loss_fn,\n",
        "           optimizer = optimizer,\n",
        "           accuracy_function = accuracy_fn,\n",
        "           device = device)\n",
        "  testing(model1,\n",
        "          test_dataLoader,\n",
        "          loss_function = loss_fn,\n",
        "          accuracy_function = accuracy_fn,\n",
        "          device = device)\n",
        "end = timeit.Timer().timer()\n",
        "\n",
        "process_time = calclulate_timer(start_time = start , end_time = end, device = device)\n",
        "print(f\"Process Time: {process_time:0.2f} seconds.\")"
      ],
      "metadata": {
        "colab": {
          "base_uri": "https://localhost:8080/",
          "height": 587,
          "referenced_widgets": [
            "6894c44bd45c4d6fb7a64989d465a427",
            "108f452988394827b15a88768bb8c016",
            "ae3ad4d094624c079c04aa2b170f4fd7",
            "c96e0044806b47c688e222fb8c0e858e",
            "10942633ce8846d2b39e98e75e9092ea",
            "33097adbbde0427c83259cbcbd422add",
            "265b076e0bcb45009ffcebadc586a6b8",
            "ac5288c9cd944b6ca4343cf476eb907e",
            "4ce8d0b5812a4ba5b3a32f4e2b267aaf",
            "9967ec22a9dd427fa6d223c041e9378d",
            "3da82e613b814cfe882c2377787c07e2"
          ]
        },
        "id": "I5zP61yPkR1o",
        "outputId": "e618cc24-8a5b-4a45-ad8c-dfbbf5d639eb"
      },
      "execution_count": 89,
      "outputs": [
        {
          "output_type": "display_data",
          "data": {
            "text/plain": [
              "  0%|          | 0/3 [00:00<?, ?it/s]"
            ],
            "application/vnd.jupyter.widget-view+json": {
              "version_major": 2,
              "version_minor": 0,
              "model_id": "6894c44bd45c4d6fb7a64989d465a427"
            }
          },
          "metadata": {}
        },
        {
          "output_type": "stream",
          "name": "stdout",
          "text": [
            "---- Epoch 1/3 ----\n",
            "\n",
            "number of data passed 0/60000\n",
            "number of data passed 12800/60000\n",
            "number of data passed 25600/60000\n",
            "number of data passed 38400/60000\n",
            "number of data passed 51200/60000\n",
            "Train Loss: 1.53386 | Train Accuracy: 53.47%\n",
            "Test Loss: 1.31336 | Test Accuracy: 57.25%\n",
            "\n",
            "---- Epoch 2/3 ----\n",
            "\n",
            "number of data passed 0/60000\n",
            "number of data passed 12800/60000\n",
            "number of data passed 25600/60000\n",
            "number of data passed 38400/60000\n",
            "number of data passed 51200/60000\n",
            "Train Loss: 1.22914 | Train Accuracy: 58.91%\n",
            "Test Loss: 1.20039 | Test Accuracy: 58.62%\n",
            "\n",
            "---- Epoch 3/3 ----\n",
            "\n",
            "number of data passed 0/60000\n",
            "number of data passed 12800/60000\n",
            "number of data passed 25600/60000\n",
            "number of data passed 38400/60000\n",
            "number of data passed 51200/60000\n",
            "Train Loss: 1.14161 | Train Accuracy: 60.34%\n",
            "Test Loss: 1.00894 | Test Accuracy: 64.33%\n",
            "\n",
            "Process Time: 25.87 seconds.\n"
          ]
        }
      ]
    },
    {
      "cell_type": "code",
      "source": [
        "model1_evaluation = model_evaluation(model1 , loss_fn , test_dataLoader)\n",
        "model1_evaluation"
      ],
      "metadata": {
        "colab": {
          "base_uri": "https://localhost:8080/"
        },
        "id": "WywC95ER3wNG",
        "outputId": "5638e23a-a147-460c-e368-a74088d1c7ea"
      },
      "execution_count": 90,
      "outputs": [
        {
          "output_type": "execute_result",
          "data": {
            "text/plain": [
              "{'Test Loss': '1.0089',\n",
              " 'Test Accuracy': '64.3271',\n",
              " 'Evaluation Time': '0.96s',\n",
              " 'Model Name': 'FashionMNISTModel1',\n",
              " 'Evaluated On': 'cuda'}"
            ]
          },
          "metadata": {},
          "execution_count": 90
        }
      ]
    },
    {
      "cell_type": "code",
      "source": [],
      "metadata": {
        "id": "RSS_o6i0agd6"
      },
      "execution_count": 90,
      "outputs": []
    }
  ]
}