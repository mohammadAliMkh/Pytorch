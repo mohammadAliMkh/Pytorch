{
  "nbformat": 4,
  "nbformat_minor": 0,
  "metadata": {
    "colab": {
      "provenance": [],
      "toc_visible": true,
      "authorship_tag": "ABX9TyMT2imRM98f16OpLK7VkxR1",
      "include_colab_link": true
    },
    "kernelspec": {
      "name": "python3",
      "display_name": "Python 3"
    },
    "language_info": {
      "name": "python"
    },
    "gpuClass": "standard",
    "accelerator": "GPU",
    "widgets": {
      "application/vnd.jupyter.widget-state+json": {
        "6daf56e771ae41e390d4c2b5ae382f8a": {
          "model_module": "@jupyter-widgets/controls",
          "model_name": "HBoxModel",
          "model_module_version": "1.5.0",
          "state": {
            "_dom_classes": [],
            "_model_module": "@jupyter-widgets/controls",
            "_model_module_version": "1.5.0",
            "_model_name": "HBoxModel",
            "_view_count": null,
            "_view_module": "@jupyter-widgets/controls",
            "_view_module_version": "1.5.0",
            "_view_name": "HBoxView",
            "box_style": "",
            "children": [
              "IPY_MODEL_9fb0d828af254f82b3fe20c944b51e36",
              "IPY_MODEL_7b43a4053f214b369d294c4f7859adf6",
              "IPY_MODEL_b51c5fcf35384f7e86b3e0612d62a792"
            ],
            "layout": "IPY_MODEL_3b817f7cc4e9483db28b93f85663be88"
          }
        },
        "9fb0d828af254f82b3fe20c944b51e36": {
          "model_module": "@jupyter-widgets/controls",
          "model_name": "HTMLModel",
          "model_module_version": "1.5.0",
          "state": {
            "_dom_classes": [],
            "_model_module": "@jupyter-widgets/controls",
            "_model_module_version": "1.5.0",
            "_model_name": "HTMLModel",
            "_view_count": null,
            "_view_module": "@jupyter-widgets/controls",
            "_view_module_version": "1.5.0",
            "_view_name": "HTMLView",
            "description": "",
            "description_tooltip": null,
            "layout": "IPY_MODEL_6797cadb142e4f56b72f2f0d16c0d5b2",
            "placeholder": "​",
            "style": "IPY_MODEL_431a9912ae3948b8b56b08b20e71b3e4",
            "value": "100%"
          }
        },
        "7b43a4053f214b369d294c4f7859adf6": {
          "model_module": "@jupyter-widgets/controls",
          "model_name": "FloatProgressModel",
          "model_module_version": "1.5.0",
          "state": {
            "_dom_classes": [],
            "_model_module": "@jupyter-widgets/controls",
            "_model_module_version": "1.5.0",
            "_model_name": "FloatProgressModel",
            "_view_count": null,
            "_view_module": "@jupyter-widgets/controls",
            "_view_module_version": "1.5.0",
            "_view_name": "ProgressView",
            "bar_style": "success",
            "description": "",
            "description_tooltip": null,
            "layout": "IPY_MODEL_b193ac30a5814c7f99aa57c271e78dd4",
            "max": 3,
            "min": 0,
            "orientation": "horizontal",
            "style": "IPY_MODEL_4f2f878746ac4102b8a5e67275181296",
            "value": 3
          }
        },
        "b51c5fcf35384f7e86b3e0612d62a792": {
          "model_module": "@jupyter-widgets/controls",
          "model_name": "HTMLModel",
          "model_module_version": "1.5.0",
          "state": {
            "_dom_classes": [],
            "_model_module": "@jupyter-widgets/controls",
            "_model_module_version": "1.5.0",
            "_model_name": "HTMLModel",
            "_view_count": null,
            "_view_module": "@jupyter-widgets/controls",
            "_view_module_version": "1.5.0",
            "_view_name": "HTMLView",
            "description": "",
            "description_tooltip": null,
            "layout": "IPY_MODEL_217c22cd51a946cb95a42b5a4cac17ec",
            "placeholder": "​",
            "style": "IPY_MODEL_b656da31ddd640b096d9f701298c5fe5",
            "value": " 3/3 [00:24&lt;00:00,  8.09s/it]"
          }
        },
        "3b817f7cc4e9483db28b93f85663be88": {
          "model_module": "@jupyter-widgets/base",
          "model_name": "LayoutModel",
          "model_module_version": "1.2.0",
          "state": {
            "_model_module": "@jupyter-widgets/base",
            "_model_module_version": "1.2.0",
            "_model_name": "LayoutModel",
            "_view_count": null,
            "_view_module": "@jupyter-widgets/base",
            "_view_module_version": "1.2.0",
            "_view_name": "LayoutView",
            "align_content": null,
            "align_items": null,
            "align_self": null,
            "border": null,
            "bottom": null,
            "display": null,
            "flex": null,
            "flex_flow": null,
            "grid_area": null,
            "grid_auto_columns": null,
            "grid_auto_flow": null,
            "grid_auto_rows": null,
            "grid_column": null,
            "grid_gap": null,
            "grid_row": null,
            "grid_template_areas": null,
            "grid_template_columns": null,
            "grid_template_rows": null,
            "height": null,
            "justify_content": null,
            "justify_items": null,
            "left": null,
            "margin": null,
            "max_height": null,
            "max_width": null,
            "min_height": null,
            "min_width": null,
            "object_fit": null,
            "object_position": null,
            "order": null,
            "overflow": null,
            "overflow_x": null,
            "overflow_y": null,
            "padding": null,
            "right": null,
            "top": null,
            "visibility": null,
            "width": null
          }
        },
        "6797cadb142e4f56b72f2f0d16c0d5b2": {
          "model_module": "@jupyter-widgets/base",
          "model_name": "LayoutModel",
          "model_module_version": "1.2.0",
          "state": {
            "_model_module": "@jupyter-widgets/base",
            "_model_module_version": "1.2.0",
            "_model_name": "LayoutModel",
            "_view_count": null,
            "_view_module": "@jupyter-widgets/base",
            "_view_module_version": "1.2.0",
            "_view_name": "LayoutView",
            "align_content": null,
            "align_items": null,
            "align_self": null,
            "border": null,
            "bottom": null,
            "display": null,
            "flex": null,
            "flex_flow": null,
            "grid_area": null,
            "grid_auto_columns": null,
            "grid_auto_flow": null,
            "grid_auto_rows": null,
            "grid_column": null,
            "grid_gap": null,
            "grid_row": null,
            "grid_template_areas": null,
            "grid_template_columns": null,
            "grid_template_rows": null,
            "height": null,
            "justify_content": null,
            "justify_items": null,
            "left": null,
            "margin": null,
            "max_height": null,
            "max_width": null,
            "min_height": null,
            "min_width": null,
            "object_fit": null,
            "object_position": null,
            "order": null,
            "overflow": null,
            "overflow_x": null,
            "overflow_y": null,
            "padding": null,
            "right": null,
            "top": null,
            "visibility": null,
            "width": null
          }
        },
        "431a9912ae3948b8b56b08b20e71b3e4": {
          "model_module": "@jupyter-widgets/controls",
          "model_name": "DescriptionStyleModel",
          "model_module_version": "1.5.0",
          "state": {
            "_model_module": "@jupyter-widgets/controls",
            "_model_module_version": "1.5.0",
            "_model_name": "DescriptionStyleModel",
            "_view_count": null,
            "_view_module": "@jupyter-widgets/base",
            "_view_module_version": "1.2.0",
            "_view_name": "StyleView",
            "description_width": ""
          }
        },
        "b193ac30a5814c7f99aa57c271e78dd4": {
          "model_module": "@jupyter-widgets/base",
          "model_name": "LayoutModel",
          "model_module_version": "1.2.0",
          "state": {
            "_model_module": "@jupyter-widgets/base",
            "_model_module_version": "1.2.0",
            "_model_name": "LayoutModel",
            "_view_count": null,
            "_view_module": "@jupyter-widgets/base",
            "_view_module_version": "1.2.0",
            "_view_name": "LayoutView",
            "align_content": null,
            "align_items": null,
            "align_self": null,
            "border": null,
            "bottom": null,
            "display": null,
            "flex": null,
            "flex_flow": null,
            "grid_area": null,
            "grid_auto_columns": null,
            "grid_auto_flow": null,
            "grid_auto_rows": null,
            "grid_column": null,
            "grid_gap": null,
            "grid_row": null,
            "grid_template_areas": null,
            "grid_template_columns": null,
            "grid_template_rows": null,
            "height": null,
            "justify_content": null,
            "justify_items": null,
            "left": null,
            "margin": null,
            "max_height": null,
            "max_width": null,
            "min_height": null,
            "min_width": null,
            "object_fit": null,
            "object_position": null,
            "order": null,
            "overflow": null,
            "overflow_x": null,
            "overflow_y": null,
            "padding": null,
            "right": null,
            "top": null,
            "visibility": null,
            "width": null
          }
        },
        "4f2f878746ac4102b8a5e67275181296": {
          "model_module": "@jupyter-widgets/controls",
          "model_name": "ProgressStyleModel",
          "model_module_version": "1.5.0",
          "state": {
            "_model_module": "@jupyter-widgets/controls",
            "_model_module_version": "1.5.0",
            "_model_name": "ProgressStyleModel",
            "_view_count": null,
            "_view_module": "@jupyter-widgets/base",
            "_view_module_version": "1.2.0",
            "_view_name": "StyleView",
            "bar_color": null,
            "description_width": ""
          }
        },
        "217c22cd51a946cb95a42b5a4cac17ec": {
          "model_module": "@jupyter-widgets/base",
          "model_name": "LayoutModel",
          "model_module_version": "1.2.0",
          "state": {
            "_model_module": "@jupyter-widgets/base",
            "_model_module_version": "1.2.0",
            "_model_name": "LayoutModel",
            "_view_count": null,
            "_view_module": "@jupyter-widgets/base",
            "_view_module_version": "1.2.0",
            "_view_name": "LayoutView",
            "align_content": null,
            "align_items": null,
            "align_self": null,
            "border": null,
            "bottom": null,
            "display": null,
            "flex": null,
            "flex_flow": null,
            "grid_area": null,
            "grid_auto_columns": null,
            "grid_auto_flow": null,
            "grid_auto_rows": null,
            "grid_column": null,
            "grid_gap": null,
            "grid_row": null,
            "grid_template_areas": null,
            "grid_template_columns": null,
            "grid_template_rows": null,
            "height": null,
            "justify_content": null,
            "justify_items": null,
            "left": null,
            "margin": null,
            "max_height": null,
            "max_width": null,
            "min_height": null,
            "min_width": null,
            "object_fit": null,
            "object_position": null,
            "order": null,
            "overflow": null,
            "overflow_x": null,
            "overflow_y": null,
            "padding": null,
            "right": null,
            "top": null,
            "visibility": null,
            "width": null
          }
        },
        "b656da31ddd640b096d9f701298c5fe5": {
          "model_module": "@jupyter-widgets/controls",
          "model_name": "DescriptionStyleModel",
          "model_module_version": "1.5.0",
          "state": {
            "_model_module": "@jupyter-widgets/controls",
            "_model_module_version": "1.5.0",
            "_model_name": "DescriptionStyleModel",
            "_view_count": null,
            "_view_module": "@jupyter-widgets/base",
            "_view_module_version": "1.2.0",
            "_view_name": "StyleView",
            "description_width": ""
          }
        },
        "9a96c1ec29954964bea0ae7c9e79934e": {
          "model_module": "@jupyter-widgets/controls",
          "model_name": "HBoxModel",
          "model_module_version": "1.5.0",
          "state": {
            "_dom_classes": [],
            "_model_module": "@jupyter-widgets/controls",
            "_model_module_version": "1.5.0",
            "_model_name": "HBoxModel",
            "_view_count": null,
            "_view_module": "@jupyter-widgets/controls",
            "_view_module_version": "1.5.0",
            "_view_name": "HBoxView",
            "box_style": "",
            "children": [
              "IPY_MODEL_d9995672a51745e4945425da7743964c",
              "IPY_MODEL_d7449bab73ba40d1b5215c085692e1c6",
              "IPY_MODEL_40b70d0b671a44718b33fcf31af815b4"
            ],
            "layout": "IPY_MODEL_75514c37ea904b42a675f00e518919f5"
          }
        },
        "d9995672a51745e4945425da7743964c": {
          "model_module": "@jupyter-widgets/controls",
          "model_name": "HTMLModel",
          "model_module_version": "1.5.0",
          "state": {
            "_dom_classes": [],
            "_model_module": "@jupyter-widgets/controls",
            "_model_module_version": "1.5.0",
            "_model_name": "HTMLModel",
            "_view_count": null,
            "_view_module": "@jupyter-widgets/controls",
            "_view_module_version": "1.5.0",
            "_view_name": "HTMLView",
            "description": "",
            "description_tooltip": null,
            "layout": "IPY_MODEL_ab30673972ec4320a569c597d60bd080",
            "placeholder": "​",
            "style": "IPY_MODEL_0d5622e4a9d24ce2b2801c8202116bd9",
            "value": "100%"
          }
        },
        "d7449bab73ba40d1b5215c085692e1c6": {
          "model_module": "@jupyter-widgets/controls",
          "model_name": "FloatProgressModel",
          "model_module_version": "1.5.0",
          "state": {
            "_dom_classes": [],
            "_model_module": "@jupyter-widgets/controls",
            "_model_module_version": "1.5.0",
            "_model_name": "FloatProgressModel",
            "_view_count": null,
            "_view_module": "@jupyter-widgets/controls",
            "_view_module_version": "1.5.0",
            "_view_name": "ProgressView",
            "bar_style": "success",
            "description": "",
            "description_tooltip": null,
            "layout": "IPY_MODEL_08195d44fb25486884004f91e9fb5c08",
            "max": 3,
            "min": 0,
            "orientation": "horizontal",
            "style": "IPY_MODEL_0fe48843fbf742aa958e17966ef5613f",
            "value": 3
          }
        },
        "40b70d0b671a44718b33fcf31af815b4": {
          "model_module": "@jupyter-widgets/controls",
          "model_name": "HTMLModel",
          "model_module_version": "1.5.0",
          "state": {
            "_dom_classes": [],
            "_model_module": "@jupyter-widgets/controls",
            "_model_module_version": "1.5.0",
            "_model_name": "HTMLModel",
            "_view_count": null,
            "_view_module": "@jupyter-widgets/controls",
            "_view_module_version": "1.5.0",
            "_view_name": "HTMLView",
            "description": "",
            "description_tooltip": null,
            "layout": "IPY_MODEL_afb1077d4af34a09b812f01dd08e33a9",
            "placeholder": "​",
            "style": "IPY_MODEL_c52d021580784bd7a48b4930a8135ca5",
            "value": " 3/3 [00:26&lt;00:00,  8.91s/it]"
          }
        },
        "75514c37ea904b42a675f00e518919f5": {
          "model_module": "@jupyter-widgets/base",
          "model_name": "LayoutModel",
          "model_module_version": "1.2.0",
          "state": {
            "_model_module": "@jupyter-widgets/base",
            "_model_module_version": "1.2.0",
            "_model_name": "LayoutModel",
            "_view_count": null,
            "_view_module": "@jupyter-widgets/base",
            "_view_module_version": "1.2.0",
            "_view_name": "LayoutView",
            "align_content": null,
            "align_items": null,
            "align_self": null,
            "border": null,
            "bottom": null,
            "display": null,
            "flex": null,
            "flex_flow": null,
            "grid_area": null,
            "grid_auto_columns": null,
            "grid_auto_flow": null,
            "grid_auto_rows": null,
            "grid_column": null,
            "grid_gap": null,
            "grid_row": null,
            "grid_template_areas": null,
            "grid_template_columns": null,
            "grid_template_rows": null,
            "height": null,
            "justify_content": null,
            "justify_items": null,
            "left": null,
            "margin": null,
            "max_height": null,
            "max_width": null,
            "min_height": null,
            "min_width": null,
            "object_fit": null,
            "object_position": null,
            "order": null,
            "overflow": null,
            "overflow_x": null,
            "overflow_y": null,
            "padding": null,
            "right": null,
            "top": null,
            "visibility": null,
            "width": null
          }
        },
        "ab30673972ec4320a569c597d60bd080": {
          "model_module": "@jupyter-widgets/base",
          "model_name": "LayoutModel",
          "model_module_version": "1.2.0",
          "state": {
            "_model_module": "@jupyter-widgets/base",
            "_model_module_version": "1.2.0",
            "_model_name": "LayoutModel",
            "_view_count": null,
            "_view_module": "@jupyter-widgets/base",
            "_view_module_version": "1.2.0",
            "_view_name": "LayoutView",
            "align_content": null,
            "align_items": null,
            "align_self": null,
            "border": null,
            "bottom": null,
            "display": null,
            "flex": null,
            "flex_flow": null,
            "grid_area": null,
            "grid_auto_columns": null,
            "grid_auto_flow": null,
            "grid_auto_rows": null,
            "grid_column": null,
            "grid_gap": null,
            "grid_row": null,
            "grid_template_areas": null,
            "grid_template_columns": null,
            "grid_template_rows": null,
            "height": null,
            "justify_content": null,
            "justify_items": null,
            "left": null,
            "margin": null,
            "max_height": null,
            "max_width": null,
            "min_height": null,
            "min_width": null,
            "object_fit": null,
            "object_position": null,
            "order": null,
            "overflow": null,
            "overflow_x": null,
            "overflow_y": null,
            "padding": null,
            "right": null,
            "top": null,
            "visibility": null,
            "width": null
          }
        },
        "0d5622e4a9d24ce2b2801c8202116bd9": {
          "model_module": "@jupyter-widgets/controls",
          "model_name": "DescriptionStyleModel",
          "model_module_version": "1.5.0",
          "state": {
            "_model_module": "@jupyter-widgets/controls",
            "_model_module_version": "1.5.0",
            "_model_name": "DescriptionStyleModel",
            "_view_count": null,
            "_view_module": "@jupyter-widgets/base",
            "_view_module_version": "1.2.0",
            "_view_name": "StyleView",
            "description_width": ""
          }
        },
        "08195d44fb25486884004f91e9fb5c08": {
          "model_module": "@jupyter-widgets/base",
          "model_name": "LayoutModel",
          "model_module_version": "1.2.0",
          "state": {
            "_model_module": "@jupyter-widgets/base",
            "_model_module_version": "1.2.0",
            "_model_name": "LayoutModel",
            "_view_count": null,
            "_view_module": "@jupyter-widgets/base",
            "_view_module_version": "1.2.0",
            "_view_name": "LayoutView",
            "align_content": null,
            "align_items": null,
            "align_self": null,
            "border": null,
            "bottom": null,
            "display": null,
            "flex": null,
            "flex_flow": null,
            "grid_area": null,
            "grid_auto_columns": null,
            "grid_auto_flow": null,
            "grid_auto_rows": null,
            "grid_column": null,
            "grid_gap": null,
            "grid_row": null,
            "grid_template_areas": null,
            "grid_template_columns": null,
            "grid_template_rows": null,
            "height": null,
            "justify_content": null,
            "justify_items": null,
            "left": null,
            "margin": null,
            "max_height": null,
            "max_width": null,
            "min_height": null,
            "min_width": null,
            "object_fit": null,
            "object_position": null,
            "order": null,
            "overflow": null,
            "overflow_x": null,
            "overflow_y": null,
            "padding": null,
            "right": null,
            "top": null,
            "visibility": null,
            "width": null
          }
        },
        "0fe48843fbf742aa958e17966ef5613f": {
          "model_module": "@jupyter-widgets/controls",
          "model_name": "ProgressStyleModel",
          "model_module_version": "1.5.0",
          "state": {
            "_model_module": "@jupyter-widgets/controls",
            "_model_module_version": "1.5.0",
            "_model_name": "ProgressStyleModel",
            "_view_count": null,
            "_view_module": "@jupyter-widgets/base",
            "_view_module_version": "1.2.0",
            "_view_name": "StyleView",
            "bar_color": null,
            "description_width": ""
          }
        },
        "afb1077d4af34a09b812f01dd08e33a9": {
          "model_module": "@jupyter-widgets/base",
          "model_name": "LayoutModel",
          "model_module_version": "1.2.0",
          "state": {
            "_model_module": "@jupyter-widgets/base",
            "_model_module_version": "1.2.0",
            "_model_name": "LayoutModel",
            "_view_count": null,
            "_view_module": "@jupyter-widgets/base",
            "_view_module_version": "1.2.0",
            "_view_name": "LayoutView",
            "align_content": null,
            "align_items": null,
            "align_self": null,
            "border": null,
            "bottom": null,
            "display": null,
            "flex": null,
            "flex_flow": null,
            "grid_area": null,
            "grid_auto_columns": null,
            "grid_auto_flow": null,
            "grid_auto_rows": null,
            "grid_column": null,
            "grid_gap": null,
            "grid_row": null,
            "grid_template_areas": null,
            "grid_template_columns": null,
            "grid_template_rows": null,
            "height": null,
            "justify_content": null,
            "justify_items": null,
            "left": null,
            "margin": null,
            "max_height": null,
            "max_width": null,
            "min_height": null,
            "min_width": null,
            "object_fit": null,
            "object_position": null,
            "order": null,
            "overflow": null,
            "overflow_x": null,
            "overflow_y": null,
            "padding": null,
            "right": null,
            "top": null,
            "visibility": null,
            "width": null
          }
        },
        "c52d021580784bd7a48b4930a8135ca5": {
          "model_module": "@jupyter-widgets/controls",
          "model_name": "DescriptionStyleModel",
          "model_module_version": "1.5.0",
          "state": {
            "_model_module": "@jupyter-widgets/controls",
            "_model_module_version": "1.5.0",
            "_model_name": "DescriptionStyleModel",
            "_view_count": null,
            "_view_module": "@jupyter-widgets/base",
            "_view_module_version": "1.2.0",
            "_view_name": "StyleView",
            "description_width": ""
          }
        },
        "8a217f665b744bd0a1522fca4b62d766": {
          "model_module": "@jupyter-widgets/controls",
          "model_name": "HBoxModel",
          "model_module_version": "1.5.0",
          "state": {
            "_dom_classes": [],
            "_model_module": "@jupyter-widgets/controls",
            "_model_module_version": "1.5.0",
            "_model_name": "HBoxModel",
            "_view_count": null,
            "_view_module": "@jupyter-widgets/controls",
            "_view_module_version": "1.5.0",
            "_view_name": "HBoxView",
            "box_style": "",
            "children": [
              "IPY_MODEL_6b7026376f094377ab11ceffdaeba104",
              "IPY_MODEL_492729c2126745f9b495fdbb74bda34d",
              "IPY_MODEL_e9ca48f61faf4f079d5fd03e78e79529"
            ],
            "layout": "IPY_MODEL_64751e4bc102448b8253ab51316f5b9b"
          }
        },
        "6b7026376f094377ab11ceffdaeba104": {
          "model_module": "@jupyter-widgets/controls",
          "model_name": "HTMLModel",
          "model_module_version": "1.5.0",
          "state": {
            "_dom_classes": [],
            "_model_module": "@jupyter-widgets/controls",
            "_model_module_version": "1.5.0",
            "_model_name": "HTMLModel",
            "_view_count": null,
            "_view_module": "@jupyter-widgets/controls",
            "_view_module_version": "1.5.0",
            "_view_name": "HTMLView",
            "description": "",
            "description_tooltip": null,
            "layout": "IPY_MODEL_e0f3df2f7ea34b01ac3c612819304743",
            "placeholder": "​",
            "style": "IPY_MODEL_8489edc2fcbe47a1b2c6b9ebdbf9ecf0",
            "value": "100%"
          }
        },
        "492729c2126745f9b495fdbb74bda34d": {
          "model_module": "@jupyter-widgets/controls",
          "model_name": "FloatProgressModel",
          "model_module_version": "1.5.0",
          "state": {
            "_dom_classes": [],
            "_model_module": "@jupyter-widgets/controls",
            "_model_module_version": "1.5.0",
            "_model_name": "FloatProgressModel",
            "_view_count": null,
            "_view_module": "@jupyter-widgets/controls",
            "_view_module_version": "1.5.0",
            "_view_name": "ProgressView",
            "bar_style": "success",
            "description": "",
            "description_tooltip": null,
            "layout": "IPY_MODEL_2527dd8a529843c39553434619ac3bed",
            "max": 3,
            "min": 0,
            "orientation": "horizontal",
            "style": "IPY_MODEL_45440dcf5bd849e98a57df516d2b2b30",
            "value": 3
          }
        },
        "e9ca48f61faf4f079d5fd03e78e79529": {
          "model_module": "@jupyter-widgets/controls",
          "model_name": "HTMLModel",
          "model_module_version": "1.5.0",
          "state": {
            "_dom_classes": [],
            "_model_module": "@jupyter-widgets/controls",
            "_model_module_version": "1.5.0",
            "_model_name": "HTMLModel",
            "_view_count": null,
            "_view_module": "@jupyter-widgets/controls",
            "_view_module_version": "1.5.0",
            "_view_name": "HTMLView",
            "description": "",
            "description_tooltip": null,
            "layout": "IPY_MODEL_c098cca8a94d4473b892a3cb200e11b1",
            "placeholder": "​",
            "style": "IPY_MODEL_63eabe2792b74213ba46fa1297981485",
            "value": " 3/3 [00:45&lt;00:00, 15.34s/it]"
          }
        },
        "64751e4bc102448b8253ab51316f5b9b": {
          "model_module": "@jupyter-widgets/base",
          "model_name": "LayoutModel",
          "model_module_version": "1.2.0",
          "state": {
            "_model_module": "@jupyter-widgets/base",
            "_model_module_version": "1.2.0",
            "_model_name": "LayoutModel",
            "_view_count": null,
            "_view_module": "@jupyter-widgets/base",
            "_view_module_version": "1.2.0",
            "_view_name": "LayoutView",
            "align_content": null,
            "align_items": null,
            "align_self": null,
            "border": null,
            "bottom": null,
            "display": null,
            "flex": null,
            "flex_flow": null,
            "grid_area": null,
            "grid_auto_columns": null,
            "grid_auto_flow": null,
            "grid_auto_rows": null,
            "grid_column": null,
            "grid_gap": null,
            "grid_row": null,
            "grid_template_areas": null,
            "grid_template_columns": null,
            "grid_template_rows": null,
            "height": null,
            "justify_content": null,
            "justify_items": null,
            "left": null,
            "margin": null,
            "max_height": null,
            "max_width": null,
            "min_height": null,
            "min_width": null,
            "object_fit": null,
            "object_position": null,
            "order": null,
            "overflow": null,
            "overflow_x": null,
            "overflow_y": null,
            "padding": null,
            "right": null,
            "top": null,
            "visibility": null,
            "width": null
          }
        },
        "e0f3df2f7ea34b01ac3c612819304743": {
          "model_module": "@jupyter-widgets/base",
          "model_name": "LayoutModel",
          "model_module_version": "1.2.0",
          "state": {
            "_model_module": "@jupyter-widgets/base",
            "_model_module_version": "1.2.0",
            "_model_name": "LayoutModel",
            "_view_count": null,
            "_view_module": "@jupyter-widgets/base",
            "_view_module_version": "1.2.0",
            "_view_name": "LayoutView",
            "align_content": null,
            "align_items": null,
            "align_self": null,
            "border": null,
            "bottom": null,
            "display": null,
            "flex": null,
            "flex_flow": null,
            "grid_area": null,
            "grid_auto_columns": null,
            "grid_auto_flow": null,
            "grid_auto_rows": null,
            "grid_column": null,
            "grid_gap": null,
            "grid_row": null,
            "grid_template_areas": null,
            "grid_template_columns": null,
            "grid_template_rows": null,
            "height": null,
            "justify_content": null,
            "justify_items": null,
            "left": null,
            "margin": null,
            "max_height": null,
            "max_width": null,
            "min_height": null,
            "min_width": null,
            "object_fit": null,
            "object_position": null,
            "order": null,
            "overflow": null,
            "overflow_x": null,
            "overflow_y": null,
            "padding": null,
            "right": null,
            "top": null,
            "visibility": null,
            "width": null
          }
        },
        "8489edc2fcbe47a1b2c6b9ebdbf9ecf0": {
          "model_module": "@jupyter-widgets/controls",
          "model_name": "DescriptionStyleModel",
          "model_module_version": "1.5.0",
          "state": {
            "_model_module": "@jupyter-widgets/controls",
            "_model_module_version": "1.5.0",
            "_model_name": "DescriptionStyleModel",
            "_view_count": null,
            "_view_module": "@jupyter-widgets/base",
            "_view_module_version": "1.2.0",
            "_view_name": "StyleView",
            "description_width": ""
          }
        },
        "2527dd8a529843c39553434619ac3bed": {
          "model_module": "@jupyter-widgets/base",
          "model_name": "LayoutModel",
          "model_module_version": "1.2.0",
          "state": {
            "_model_module": "@jupyter-widgets/base",
            "_model_module_version": "1.2.0",
            "_model_name": "LayoutModel",
            "_view_count": null,
            "_view_module": "@jupyter-widgets/base",
            "_view_module_version": "1.2.0",
            "_view_name": "LayoutView",
            "align_content": null,
            "align_items": null,
            "align_self": null,
            "border": null,
            "bottom": null,
            "display": null,
            "flex": null,
            "flex_flow": null,
            "grid_area": null,
            "grid_auto_columns": null,
            "grid_auto_flow": null,
            "grid_auto_rows": null,
            "grid_column": null,
            "grid_gap": null,
            "grid_row": null,
            "grid_template_areas": null,
            "grid_template_columns": null,
            "grid_template_rows": null,
            "height": null,
            "justify_content": null,
            "justify_items": null,
            "left": null,
            "margin": null,
            "max_height": null,
            "max_width": null,
            "min_height": null,
            "min_width": null,
            "object_fit": null,
            "object_position": null,
            "order": null,
            "overflow": null,
            "overflow_x": null,
            "overflow_y": null,
            "padding": null,
            "right": null,
            "top": null,
            "visibility": null,
            "width": null
          }
        },
        "45440dcf5bd849e98a57df516d2b2b30": {
          "model_module": "@jupyter-widgets/controls",
          "model_name": "ProgressStyleModel",
          "model_module_version": "1.5.0",
          "state": {
            "_model_module": "@jupyter-widgets/controls",
            "_model_module_version": "1.5.0",
            "_model_name": "ProgressStyleModel",
            "_view_count": null,
            "_view_module": "@jupyter-widgets/base",
            "_view_module_version": "1.2.0",
            "_view_name": "StyleView",
            "bar_color": null,
            "description_width": ""
          }
        },
        "c098cca8a94d4473b892a3cb200e11b1": {
          "model_module": "@jupyter-widgets/base",
          "model_name": "LayoutModel",
          "model_module_version": "1.2.0",
          "state": {
            "_model_module": "@jupyter-widgets/base",
            "_model_module_version": "1.2.0",
            "_model_name": "LayoutModel",
            "_view_count": null,
            "_view_module": "@jupyter-widgets/base",
            "_view_module_version": "1.2.0",
            "_view_name": "LayoutView",
            "align_content": null,
            "align_items": null,
            "align_self": null,
            "border": null,
            "bottom": null,
            "display": null,
            "flex": null,
            "flex_flow": null,
            "grid_area": null,
            "grid_auto_columns": null,
            "grid_auto_flow": null,
            "grid_auto_rows": null,
            "grid_column": null,
            "grid_gap": null,
            "grid_row": null,
            "grid_template_areas": null,
            "grid_template_columns": null,
            "grid_template_rows": null,
            "height": null,
            "justify_content": null,
            "justify_items": null,
            "left": null,
            "margin": null,
            "max_height": null,
            "max_width": null,
            "min_height": null,
            "min_width": null,
            "object_fit": null,
            "object_position": null,
            "order": null,
            "overflow": null,
            "overflow_x": null,
            "overflow_y": null,
            "padding": null,
            "right": null,
            "top": null,
            "visibility": null,
            "width": null
          }
        },
        "63eabe2792b74213ba46fa1297981485": {
          "model_module": "@jupyter-widgets/controls",
          "model_name": "DescriptionStyleModel",
          "model_module_version": "1.5.0",
          "state": {
            "_model_module": "@jupyter-widgets/controls",
            "_model_module_version": "1.5.0",
            "_model_name": "DescriptionStyleModel",
            "_view_count": null,
            "_view_module": "@jupyter-widgets/base",
            "_view_module_version": "1.2.0",
            "_view_name": "StyleView",
            "description_width": ""
          }
        }
      }
    }
  },
  "cells": [
    {
      "cell_type": "markdown",
      "metadata": {
        "id": "view-in-github",
        "colab_type": "text"
      },
      "source": [
        "<a href=\"https://colab.research.google.com/github/mohammadAliMkh/Pytorch/blob/main/fashionMNIST.ipynb\" target=\"_parent\"><img src=\"https://colab.research.google.com/assets/colab-badge.svg\" alt=\"Open In Colab\"/></a>"
      ]
    },
    {
      "cell_type": "code",
      "source": [
        "import torch\n",
        "\n",
        "import torchvision\n",
        "from torchvision import datasets\n",
        "from torchvision import transforms\n",
        "from torchvision import models\n",
        "from torchvision.transforms import ToTensor\n",
        "\n",
        "import matplotlib.pyplot as plt\n",
        "\n",
        "from torch.utils.data import DataLoader\n",
        "from torch.utils.data import Dataset"
      ],
      "metadata": {
        "id": "OzXNi4OWBUnW"
      },
      "execution_count": 252,
      "outputs": []
    },
    {
      "cell_type": "code",
      "source": [
        "mnist_train = datasets.FashionMNIST(root = \"Data\" , train = True ,download = True , transform = ToTensor() , target_transform = None)\n",
        "mnist_test = datasets.FashionMNIST(root = \"Data\" , train = False ,download = True , transform = ToTensor() , target_transform = None)"
      ],
      "metadata": {
        "id": "pWSQNBfuCaZb"
      },
      "execution_count": 253,
      "outputs": []
    },
    {
      "cell_type": "code",
      "source": [
        "len(mnist_train) , len(mnist_test)"
      ],
      "metadata": {
        "colab": {
          "base_uri": "https://localhost:8080/"
        },
        "id": "5qxngpKRDJA7",
        "outputId": "e211bfe0-6034-486e-f8fc-933d7f7ca74b"
      },
      "execution_count": 254,
      "outputs": [
        {
          "output_type": "execute_result",
          "data": {
            "text/plain": [
              "(60000, 10000)"
            ]
          },
          "metadata": {},
          "execution_count": 254
        }
      ]
    },
    {
      "cell_type": "code",
      "source": [
        "class_labels = mnist_train.classes"
      ],
      "metadata": {
        "id": "iIlDkZl3Dawk"
      },
      "execution_count": 255,
      "outputs": []
    },
    {
      "cell_type": "code",
      "source": [
        "mnist_train.class_to_idx"
      ],
      "metadata": {
        "colab": {
          "base_uri": "https://localhost:8080/"
        },
        "id": "tZO5l3hADkIC",
        "outputId": "3fe616d2-6965-4015-a023-590ea1d59cca"
      },
      "execution_count": 256,
      "outputs": [
        {
          "output_type": "execute_result",
          "data": {
            "text/plain": [
              "{'T-shirt/top': 0,\n",
              " 'Trouser': 1,\n",
              " 'Pullover': 2,\n",
              " 'Dress': 3,\n",
              " 'Coat': 4,\n",
              " 'Sandal': 5,\n",
              " 'Shirt': 6,\n",
              " 'Sneaker': 7,\n",
              " 'Bag': 8,\n",
              " 'Ankle boot': 9}"
            ]
          },
          "metadata": {},
          "execution_count": 256
        }
      ]
    },
    {
      "cell_type": "code",
      "source": [
        "plt.imshow(mnist_train.data[0] , cmap = \"gray\")\n",
        "plt.title(class_labels[mnist_train.targets[0]])\n",
        "plt.axis(False)"
      ],
      "metadata": {
        "colab": {
          "base_uri": "https://localhost:8080/",
          "height": 281
        },
        "id": "fsvElIIUEoDz",
        "outputId": "fd756ec3-0427-4e8b-b3ff-9c825d73fe7b"
      },
      "execution_count": 257,
      "outputs": [
        {
          "output_type": "execute_result",
          "data": {
            "text/plain": [
              "(-0.5, 27.5, 27.5, -0.5)"
            ]
          },
          "metadata": {},
          "execution_count": 257
        },
        {
          "output_type": "display_data",
          "data": {
            "text/plain": [
              "<Figure size 432x288 with 1 Axes>"
            ],
            "image/png": "[encoded data removed]"
          },
          "metadata": {
            "needs_background": "light"
          }
        }
      ]
    },
    {
      "cell_type": "code",
      "source": [
        "def plot_random_images(number_of_images = 16 , data = mnist_train):\n",
        "  ''' plot random images of selected datasets with their labels\n",
        "  '''\n",
        "  plt.figure(figsize = (12 , 8))\n",
        "  for i in range(1 , number_of_images + 1):\n",
        "    plt.subplot(4 , 4 , i)\n",
        "    rand = torch.randint(0, len(mnist_train), size =[1]).item()\n",
        "    img , label = mnist_train[rand]\n",
        "    plt.imshow(torch.squeeze(img), cmap = \"gray\")\n",
        "    plt.title(class_labels[label])\n",
        "    plt.axis(False)"
      ],
      "metadata": {
        "id": "n4eHGk5SFPKC"
      },
      "execution_count": 258,
      "outputs": []
    },
    {
      "cell_type": "code",
      "source": [
        "plot_random_images()"
      ],
      "metadata": {
        "colab": {
          "base_uri": "https://localhost:8080/",
          "height": 482
        },
        "id": "t5PYOOMVIKZ7",
        "outputId": "42143bbc-02f1-4fbe-bedd-e13003f3f182"
      },
      "execution_count": 259,
      "outputs": [
        {
          "output_type": "display_data",
          "data": {
            "text/plain": [
              "<Figure size 864x576 with 16 Axes>"
            ],
            "image/png": "[encoded data removed]"
          },
          "metadata": {
            "needs_background": "light"
          }
        }
      ]
    },
    {
      "cell_type": "code",
      "source": [
        "train_dataLoader = DataLoader(dataset = mnist_train , batch_size = 32 , shuffle = True)\n",
        "train_dataLoader"
      ],
      "metadata": {
        "colab": {
          "base_uri": "https://localhost:8080/"
        },
        "id": "ymAtj1Wyed6D",
        "outputId": "94aa6483-962b-440d-cdcf-947d1ffc09a2"
      },
      "execution_count": 260,
      "outputs": [
        {
          "output_type": "execute_result",
          "data": {
            "text/plain": [
              "<torch.utils.data.dataloader.DataLoader at 0x7fe88424b1f0>"
            ]
          },
          "metadata": {},
          "execution_count": 260
        }
      ]
    },
    {
      "cell_type": "code",
      "source": [
        "test_dataLoader = DataLoader(dataset = mnist_test , batch_size = 32 , shuffle = False)\n",
        "test_dataLoader"
      ],
      "metadata": {
        "colab": {
          "base_uri": "https://localhost:8080/"
        },
        "id": "R-On9Q7se0hI",
        "outputId": "23939500-8f53-49ba-ba48-d1bdbcfa006c"
      },
      "execution_count": 261,
      "outputs": [
        {
          "output_type": "execute_result",
          "data": {
            "text/plain": [
              "<torch.utils.data.dataloader.DataLoader at 0x7fe8846d0490>"
            ]
          },
          "metadata": {},
          "execution_count": 261
        }
      ]
    },
    {
      "cell_type": "code",
      "source": [
        "def plot_first_batch(dataLoader, batch_size = 32):\n",
        "  img , label = next(iter(dataLoader))\n",
        "  plt.figure(figsize = (20 ,14))\n",
        "  for i in range( len(img)):\n",
        "    plt.subplot(4,8 , i+1)\n",
        "    plt.imshow(img[i].squeeze() , cmap = \"gray\")\n",
        "    plt.title(class_labels[label[i]])\n",
        "    plt.axis(False)"
      ],
      "metadata": {
        "id": "X1JmK2xUiJJR"
      },
      "execution_count": 262,
      "outputs": []
    },
    {
      "cell_type": "code",
      "source": [
        "class FashionMnistModel0(torch.nn.Module):\n",
        "  def __init__(self , input_layer:int , hidden_layer:int , output_layer:int):\n",
        "    super().__init__()\n",
        "    self.layerStacks = torch.nn.Sequential(\n",
        "        torch.nn.Flatten(),\n",
        "        torch.nn.Linear(in_features = input_layer , out_features = hidden_layer),\n",
        "        torch.nn.Linear(in_features = hidden_layer , out_features = output_layer)\n",
        "    )\n",
        "  \n",
        "  def forward(self , x:torch.Tensor) -> torch.Tensor:\n",
        "    return self.layerStacks(x)"
      ],
      "metadata": {
        "id": "1TYD5D_voJBN"
      },
      "execution_count": 263,
      "outputs": []
    },
    {
      "cell_type": "code",
      "source": [
        "model0 = FashionMnistModel0(input_layer = 28 * 28 , hidden_layer = 128 , output_layer = len(class_labels))"
      ],
      "metadata": {
        "id": "JQESutk49Sy2"
      },
      "execution_count": 264,
      "outputs": []
    },
    {
      "cell_type": "code",
      "source": [
        "loss_fn = torch.nn.CrossEntropyLoss()\n",
        "optimizer = torch.optim.SGD(model0.parameters() , lr = 0.001)"
      ],
      "metadata": {
        "id": "AEMkJFdE_Hm7"
      },
      "execution_count": 265,
      "outputs": []
    },
    {
      "cell_type": "code",
      "source": [
        "from tqdm.auto import tqdm\n",
        "import timeit\n",
        "\n",
        "device = \"cuda\" if torch.cuda.is_available() else \"cpu\""
      ],
      "metadata": {
        "id": "fv6ekbG-_zkK"
      },
      "execution_count": 266,
      "outputs": []
    },
    {
      "cell_type": "code",
      "source": [
        "def calclulate_timer(start_time , end_time , device = device):\n",
        "  ''' this method's been created for calculating process time on the selcted device\n",
        "  args:\n",
        "     start_time: timeit.Timer().timer() before operation\n",
        "     end_time: timeit.Timer().timer() after operation\n",
        "  output:\n",
        "     print end_time - start_time \n",
        "  '''\n",
        "  start = start_time\n",
        "  end = end_time\n",
        "  time = end - start\n",
        "  return time"
      ],
      "metadata": {
        "id": "M37Cxsn4Acm9"
      },
      "execution_count": 267,
      "outputs": []
    },
    {
      "cell_type": "code",
      "source": [
        "len(train_dataLoader)"
      ],
      "metadata": {
        "colab": {
          "base_uri": "https://localhost:8080/"
        },
        "id": "j06yc8qQrlb8",
        "outputId": "e80f4e27-6914-4611-e4ee-029e1c9d0357"
      },
      "execution_count": 268,
      "outputs": [
        {
          "output_type": "execute_result",
          "data": {
            "text/plain": [
              "1875"
            ]
          },
          "metadata": {},
          "execution_count": 268
        }
      ]
    },
    {
      "cell_type": "code",
      "source": [
        "#training-part\n",
        "epochs = 3\n",
        "start = timeit.Timer().timer()\n",
        "\n",
        "for step in tqdm(range(epochs)):\n",
        "  train_loss = 0\n",
        "\n",
        "  for batch , (data , label) in enumerate(train_dataLoader):\n",
        "    #train\n",
        "    model0.train()\n",
        "\n",
        "    #pass data\n",
        "    train_preds = model0(data)\n",
        "\n",
        "    #calculate loss\n",
        "    loss = loss_fn(train_preds , label)\n",
        "    train_loss = train_loss + loss\n",
        "\n",
        "    #optimizer zero grad\n",
        "    optimizer.zero_grad()\n",
        "\n",
        "    #loss backward\n",
        "    loss.backward()\n",
        "\n",
        "    #optimizer step\n",
        "    optimizer.step()\n",
        "    if (batch + 1) % 400 == 0:\n",
        "      print(f\"number of data passed\\t{(batch + 1) * len(data)}\")\n",
        "    \n",
        "  \n",
        "  train_loss = train_loss / len(train_dataLoader)\n",
        "\n",
        "  model0.eval()\n",
        "  with torch.inference_mode():\n",
        "    test_loss = 0\n",
        "    for data , label in test_dataLoader:\n",
        "      test_preds = model0(data)\n",
        "      loss = loss_fn(test_preds , label)\n",
        "      test_loss = test_loss + loss\n",
        "    test_loss = test_loss / len(test_dataLoader)\n",
        "  \n",
        "  print(f\"\\ntrain loss is {train_loss}\\t test loss is {test_loss}\\n\")\n",
        "end = timeit.Timer().timer()\n",
        "calclulate_timer(start_time = start , end_time = end , device = \"cuda\" if torch.cuda.is_available() else \"cpu\")"
      ],
      "metadata": {
        "id": "an-XDs4NHCFX",
        "colab": {
          "base_uri": "https://localhost:8080/",
          "height": 431,
          "referenced_widgets": [
            "6daf56e771ae41e390d4c2b5ae382f8a",
            "9fb0d828af254f82b3fe20c944b51e36",
            "7b43a4053f214b369d294c4f7859adf6",
            "b51c5fcf35384f7e86b3e0612d62a792",
            "3b817f7cc4e9483db28b93f85663be88",
            "6797cadb142e4f56b72f2f0d16c0d5b2",
            "431a9912ae3948b8b56b08b20e71b3e4",
            "b193ac30a5814c7f99aa57c271e78dd4",
            "4f2f878746ac4102b8a5e67275181296",
            "217c22cd51a946cb95a42b5a4cac17ec",
            "b656da31ddd640b096d9f701298c5fe5"
          ]
        },
        "outputId": "e32a742d-89e2-4e3d-a072-251674273eb4"
      },
      "execution_count": 269,
      "outputs": [
        {
          "output_type": "display_data",
          "data": {
            "text/plain": [
              "  0%|          | 0/3 [00:00<?, ?it/s]"
            ],
            "application/vnd.jupyter.widget-view+json": {
              "version_major": 2,
              "version_minor": 0,
              "model_id": "6daf56e771ae41e390d4c2b5ae382f8a"
            }
          },
          "metadata": {}
        },
        {
          "output_type": "stream",
          "name": "stdout",
          "text": [
            "number of data passed\t12800\n",
            "number of data passed\t25600\n",
            "number of data passed\t38400\n",
            "number of data passed\t51200\n",
            "\n",
            "train loss is 1.7058615684509277\t test loss is 1.2794493436813354\n",
            "\n",
            "number of data passed\t12800\n",
            "number of data passed\t25600\n",
            "number of data passed\t38400\n",
            "number of data passed\t51200\n",
            "\n",
            "train loss is 1.0820120573043823\t test loss is 0.9639288783073425\n",
            "\n",
            "number of data passed\t12800\n",
            "number of data passed\t25600\n",
            "number of data passed\t38400\n",
            "number of data passed\t51200\n",
            "\n",
            "train loss is 0.882186770439148\t test loss is 0.8418186902999878\n",
            "\n"
          ]
        },
        {
          "output_type": "execute_result",
          "data": {
            "text/plain": [
              "24.558001006000268"
            ]
          },
          "metadata": {},
          "execution_count": 269
        }
      ]
    },
    {
      "cell_type": "code",
      "source": [
        "import requests\n",
        "import os\n",
        "r = requests.get( \"https://raw.githubusercontent.com/mrdbourke/pytorch-deep-learning/main/helper_functions.py\")\n",
        "     \n",
        "\n",
        "if os.path.exists(\"/content/helper_functions.py\"):\n",
        "  print(\"file already exists\")\n",
        "else:\n",
        "  f = open(\"helper_functions.py\" , 'wb')\n",
        "  f.write(r.content)"
      ],
      "metadata": {
        "id": "cpziD4xPJCeC",
        "colab": {
          "base_uri": "https://localhost:8080/"
        },
        "outputId": "018b69bc-3fd3-48fe-b80f-c4288edf0a5d"
      },
      "execution_count": 270,
      "outputs": [
        {
          "output_type": "stream",
          "name": "stdout",
          "text": [
            "file already exists\n"
          ]
        }
      ]
    },
    {
      "cell_type": "code",
      "source": [
        "from helper_functions import accuracy_fn\n",
        "\n",
        "#create evaluation method\n",
        "def model_evaluation(model:torch.nn.Module, loss_function:torch.nn.Module, dataLoader:torch.utils.data.DataLoader , device = device):\n",
        "  ''' this method will evaluate the model\n",
        "  arg:\n",
        "     model: your model which you want to evaluate\n",
        "     loss_function: your loss function\n",
        "     dataLoader: your data that in the format of torch.utils.data.DataLoader\n",
        "     device: which device you are runing the code\n",
        "  output: return a dicianary contains\n",
        "     test loss\n",
        "     test_accuracy\n",
        "     process time\n",
        "     device\n",
        "     '''\n",
        "     \n",
        "  start = timeit.Timer().timer()\n",
        "  device = \"cuda\" if torch.cuda.is_available() else \"cpu\"\n",
        " \n",
        "  model.eval()\n",
        "  with torch.inference_mode():\n",
        "    \n",
        "    test_loss = 0\n",
        "    test_accuracy = 0\n",
        "\n",
        "    for data , label in dataLoader:\n",
        "\n",
        "      data = data.to(device)\n",
        "      label = label.to(device)\n",
        "      preds = model(data)\n",
        "\n",
        "      loss = loss_function(preds , label)\n",
        "      test_loss = test_loss + loss\n",
        "\n",
        "      accuracy = accuracy_fn(label , torch.argmax(preds, dim = 1))\n",
        "      test_accuracy = test_accuracy + accuracy\n",
        "\n",
        "    \n",
        "    test_loss = test_loss / len(dataLoader)\n",
        "    test_accuracy = test_accuracy / len(dataLoader)\n",
        "  \n",
        "  end = timeit.Timer().timer()\n",
        "  evaluation_process_time = calclulate_timer(start_time = start , end_time = end , device = device)\n",
        "\n",
        "  return {\"Test Loss\" : round(test_loss.item() , 4),\n",
        "          \"Test Accuracy\": round(test_accuracy , 2),\n",
        "          \"Evaluation Time\":f\"{evaluation_process_time:0.2f}s\",\n",
        "          \"Model Name\":f\"{model.__class__.__name__}\",\n",
        "          \"Evaluated On\":device}\n",
        "\n",
        "\n"
      ],
      "metadata": {
        "id": "BIwHCUFKpHvh"
      },
      "execution_count": 294,
      "outputs": []
    },
    {
      "cell_type": "code",
      "source": [
        "model0_evaluation = model_evaluation(model0.to(device) , loss_fn , test_dataLoader , device = device)\n",
        "model0_evaluation"
      ],
      "metadata": {
        "colab": {
          "base_uri": "https://localhost:8080/"
        },
        "id": "DIJ-OQwPMpoN",
        "outputId": "33a408fc-c08e-4fb7-af45-d15710976120"
      },
      "execution_count": 295,
      "outputs": [
        {
          "output_type": "execute_result",
          "data": {
            "text/plain": [
              "{'Test Loss': 0.8418,\n",
              " 'Test Accuracy': 70.61,\n",
              " 'Evaluation Time': '0.93s',\n",
              " 'Model Name': 'FashionMnistModel0',\n",
              " 'Evaluated On': 'cuda'}"
            ]
          },
          "metadata": {},
          "execution_count": 295
        }
      ]
    },
    {
      "cell_type": "code",
      "source": [
        "class FashionMNISTModel1(torch.nn.Module):\n",
        "  '''this class is built with RelU activaiton functions\n",
        "  '''\n",
        "  def __init__(self, input_shape:int , hidden_shape:int , output_shape:int):\n",
        "    super().__init__()\n",
        "    self.stack_layers = torch.nn.Sequential(\n",
        "        torch.nn.Flatten(),\n",
        "        torch.nn.Linear(in_features = input_shape , out_features = hidden_shape),\n",
        "        torch.nn.ReLU(),\n",
        "        torch.nn.Linear(in_features = hidden_shape , out_features = output_shape),\n",
        "        torch.nn.ReLU()\n",
        "    )\n",
        "\n",
        "  def forward(self , x:torch.Tensor) -> torch.Tensor:\n",
        "    return self.stack_layers(x)"
      ],
      "metadata": {
        "id": "qHJEZF8DevGX"
      },
      "execution_count": 273,
      "outputs": []
    },
    {
      "cell_type": "code",
      "source": [
        "model1 = FashionMNISTModel1(input_shape = 28 * 28 , hidden_shape = 128 , output_shape = len(class_labels)).to(device)"
      ],
      "metadata": {
        "id": "0bByGd0If6pR"
      },
      "execution_count": 274,
      "outputs": []
    },
    {
      "cell_type": "code",
      "source": [
        "loss_fn = torch.nn.CrossEntropyLoss()\n",
        "optimizer = torch.optim.SGD(params=model1.parameters() , lr = 0.01)"
      ],
      "metadata": {
        "id": "TKsWXwwZgQyk"
      },
      "execution_count": 275,
      "outputs": []
    },
    {
      "cell_type": "code",
      "source": [
        "def training(model:torch.nn.Module,\n",
        "             dataLoader:torch.utils.data.DataLoader,\n",
        "             loss_function:torch.nn.Module,\n",
        "             optimizer:torch.optim.Optimizer,\n",
        "             accuracy_function,\n",
        "             device = device):\n",
        "  \n",
        "  model.train()\n",
        "  train_loss = 0\n",
        "  train_accuracy = 0\n",
        "\n",
        "  for batch , (data , label) in enumerate(dataLoader):\n",
        "\n",
        "    data = data.to(device)\n",
        "    label = label.to(device)\n",
        "\n",
        "    train_preds_logits = model(data)\n",
        "    train_preds = torch.argmax(train_preds_logits , dim = 1)\n",
        "    accuracy = accuracy_function(label , train_preds)\n",
        "\n",
        "    loss = loss_function(train_preds_logits , label)\n",
        "\n",
        "    optimizer.zero_grad()\n",
        "\n",
        "    loss.backward()\n",
        "\n",
        "    optimizer.step()\n",
        "\n",
        "    if batch % 400 == 0:\n",
        "      print(f\"number of data passed {batch * len(data)}/{len(dataLoader) * len(data)}\")\n",
        "    \n",
        "    train_loss = train_loss + loss\n",
        "    train_accuracy = train_accuracy + accuracy\n",
        "  \n",
        "  train_loss = train_loss / len(dataLoader)\n",
        "  train_accuracy = train_accuracy / len(dataLoader)\n",
        "\n",
        "  print(f\"Train Loss: {train_loss:0.5f} | Train Accuracy: {train_accuracy:0.2f}%\")\n"
      ],
      "metadata": {
        "id": "FabwWIF0lqTy"
      },
      "execution_count": 276,
      "outputs": []
    },
    {
      "cell_type": "code",
      "source": [
        "def testing(model:torch.nn.Module,\n",
        "             dataLoader:torch.utils.data.DataLoader,\n",
        "             loss_function:torch.nn.Module,\n",
        "             accuracy_function,\n",
        "             device = device):\n",
        "  \n",
        "  test_loss = 0\n",
        "  test_accuracy = 0\n",
        "\n",
        "  model.eval()\n",
        "  with torch.inference_mode():\n",
        "    for batch , (data , label) in enumerate(dataLoader):\n",
        "      data = data.to(device)\n",
        "      label = label.to(device)\n",
        "\n",
        "      test_preds_logits = model(data)\n",
        "      test_preds = torch.argmax(test_preds_logits , dim = 1)\n",
        "      accuracy = accuracy_function(label , test_preds)\n",
        "\n",
        "      loss = loss_function(test_preds_logits , label)\n",
        "\n",
        "      test_loss = test_loss + loss\n",
        "      test_accuracy = test_accuracy + accuracy\n",
        "    \n",
        "  test_loss = test_loss / len(dataLoader)\n",
        "  test_accuracy = test_accuracy / len(dataLoader)\n",
        "\n",
        "  print(f\"Test Loss: {test_loss:0.5f} | Test Accuracy: {test_accuracy:0.2f}%\\n\")"
      ],
      "metadata": {
        "id": "sHLhujGb15MG"
      },
      "execution_count": 277,
      "outputs": []
    },
    {
      "cell_type": "code",
      "source": [
        "epochs = 3\n",
        "start = timeit.Timer().timer()\n",
        "\n",
        "for epoch in tqdm(range(epochs)):\n",
        "  print(f\"---- Epoch {epoch + 1}/{epochs} ----\\n\")\n",
        "  training(model1,\n",
        "           train_dataLoader,\n",
        "           loss_function = loss_fn,\n",
        "           optimizer = optimizer,\n",
        "           accuracy_function = accuracy_fn,\n",
        "           device = device)\n",
        "  testing(model1,\n",
        "          test_dataLoader,\n",
        "          loss_function = loss_fn,\n",
        "          accuracy_function = accuracy_fn,\n",
        "          device = device)\n",
        "end = timeit.Timer().timer()\n",
        "\n",
        "process_time = calclulate_timer(start_time = start , end_time = end, device = device)\n",
        "print(f\"Process Time: {process_time:0.2f} seconds.\")"
      ],
      "metadata": {
        "colab": {
          "base_uri": "https://localhost:8080/",
          "height": 587,
          "referenced_widgets": [
            "9a96c1ec29954964bea0ae7c9e79934e",
            "d9995672a51745e4945425da7743964c",
            "d7449bab73ba40d1b5215c085692e1c6",
            "40b70d0b671a44718b33fcf31af815b4",
            "75514c37ea904b42a675f00e518919f5",
            "ab30673972ec4320a569c597d60bd080",
            "0d5622e4a9d24ce2b2801c8202116bd9",
            "08195d44fb25486884004f91e9fb5c08",
            "0fe48843fbf742aa958e17966ef5613f",
            "afb1077d4af34a09b812f01dd08e33a9",
            "c52d021580784bd7a48b4930a8135ca5"
          ]
        },
        "id": "I5zP61yPkR1o",
        "outputId": "1633b9e9-529a-47db-9323-b1815b21aea7"
      },
      "execution_count": 278,
      "outputs": [
        {
          "output_type": "display_data",
          "data": {
            "text/plain": [
              "  0%|          | 0/3 [00:00<?, ?it/s]"
            ],
            "application/vnd.jupyter.widget-view+json": {
              "version_major": 2,
              "version_minor": 0,
              "model_id": "9a96c1ec29954964bea0ae7c9e79934e"
            }
          },
          "metadata": {}
        },
        {
          "output_type": "stream",
          "name": "stdout",
          "text": [
            "---- Epoch 1/3 ----\n",
            "\n",
            "number of data passed 0/60000\n",
            "number of data passed 12800/60000\n",
            "number of data passed 25600/60000\n",
            "number of data passed 38400/60000\n",
            "number of data passed 51200/60000\n",
            "Train Loss: 1.49145 | Train Accuracy: 50.87%\n",
            "Test Loss: 1.25000 | Test Accuracy: 56.54%\n",
            "\n",
            "---- Epoch 2/3 ----\n",
            "\n",
            "number of data passed 0/60000\n",
            "number of data passed 12800/60000\n",
            "number of data passed 25600/60000\n",
            "number of data passed 38400/60000\n",
            "number of data passed 51200/60000\n",
            "Train Loss: 1.17744 | Train Accuracy: 58.82%\n",
            "Test Loss: 1.15241 | Test Accuracy: 58.70%\n",
            "\n",
            "---- Epoch 3/3 ----\n",
            "\n",
            "number of data passed 0/60000\n",
            "number of data passed 12800/60000\n",
            "number of data passed 25600/60000\n",
            "number of data passed 38400/60000\n",
            "number of data passed 51200/60000\n",
            "Train Loss: 1.11249 | Train Accuracy: 59.97%\n",
            "Test Loss: 1.12033 | Test Accuracy: 59.48%\n",
            "\n",
            "Process Time: 26.40 seconds.\n"
          ]
        }
      ]
    },
    {
      "cell_type": "code",
      "source": [
        "model1_evaluation = model_evaluation(model1 , loss_fn , test_dataLoader)\n",
        "model1_evaluation"
      ],
      "metadata": {
        "colab": {
          "base_uri": "https://localhost:8080/"
        },
        "id": "WywC95ER3wNG",
        "outputId": "f56875a2-85a9-479e-a848-ab17ec3568c8"
      },
      "execution_count": 296,
      "outputs": [
        {
          "output_type": "execute_result",
          "data": {
            "text/plain": [
              "{'Test Loss': 1.1203,\n",
              " 'Test Accuracy': 59.48,\n",
              " 'Evaluation Time': '0.93s',\n",
              " 'Model Name': 'FashionMNISTModel1',\n",
              " 'Evaluated On': 'cuda'}"
            ]
          },
          "metadata": {},
          "execution_count": 296
        }
      ]
    },
    {
      "cell_type": "code",
      "source": [
        "from torch.nn import Sequential\n",
        "class FashionMNISTModel2(torch.nn.Module):\n",
        "  def __init__(self, input_shape:int , hidden_shape:int , output_shape:int):\n",
        "    super().__init__()\n",
        "    self.conv_block1 = torch.nn.Sequential(\n",
        "        torch.nn.Conv2d(in_channels = input_shape , out_channels = hidden_shape , kernel_size = 3 , stride = 1 , padding = 1),\n",
        "        torch.nn.ReLU(),\n",
        "        torch.nn.Conv2d(in_channels = hidden_shape , out_channels = hidden_shape , kernel_size = 3 , stride = 1 , padding = 1),\n",
        "        torch.nn.ReLU(),\n",
        "        torch.nn.MaxPool2d(kernel_size = 2)\n",
        "    )\n",
        "\n",
        "    self.conv_block2 = torch.nn.Sequential(\n",
        "        torch.nn.Conv2d(in_channels = hidden_shape , out_channels = hidden_shape , kernel_size = 3 , stride = 1 , padding = 1),\n",
        "        torch.nn.ReLU(),\n",
        "        torch.nn.Conv2d(in_channels = hidden_shape , out_channels = hidden_shape , kernel_size = 3 , stride = 1 , padding = 1),\n",
        "        torch.nn.ReLU(),\n",
        "        torch.nn.MaxPool2d(kernel_size = 2)\n",
        "    )\n",
        "\n",
        "    self.dense_block = torch.nn.Sequential(\n",
        "        torch.nn.Flatten(),\n",
        "        torch.nn.Linear(in_features = hidden_shape*7*7 , out_features= hidden_shape),\n",
        "        torch.nn.ReLU(),\n",
        "        torch.nn.Linear(in_features = hidden_shape , out_features=output_shape),\n",
        "        torch.nn.ReLU()\n",
        "    )\n",
        "\n",
        "\n",
        "  def forward(self, x:torch.Tensor) -> torch.Tensor:\n",
        "    x = self.conv_block1(x)\n",
        "    #print(f\"shape of block 1: {x.shape}\")\n",
        "    x = self.conv_block2(x)\n",
        "    #print(f\"shape of block 2: {x.shape}\")\n",
        "    return self.dense_block(x)"
      ],
      "metadata": {
        "id": "RSS_o6i0agd6"
      },
      "execution_count": 280,
      "outputs": []
    },
    {
      "cell_type": "code",
      "source": [
        "model2 = FashionMNISTModel2(input_shape = 1 , hidden_shape = 128 , output_shape = 10).to(device)\n",
        "model2"
      ],
      "metadata": {
        "colab": {
          "base_uri": "https://localhost:8080/"
        },
        "id": "CF-h8p_zu6WR",
        "outputId": "7505b82a-7f99-4a8c-ed17-52f310d666ba"
      },
      "execution_count": 281,
      "outputs": [
        {
          "output_type": "execute_result",
          "data": {
            "text/plain": [
              "FashionMNISTModel2(\n",
              "  (conv_block1): Sequential(\n",
              "    (0): Conv2d(1, 128, kernel_size=(3, 3), stride=(1, 1), padding=(1, 1))\n",
              "    (1): ReLU()\n",
              "    (2): Conv2d(128, 128, kernel_size=(3, 3), stride=(1, 1), padding=(1, 1))\n",
              "    (3): ReLU()\n",
              "    (4): MaxPool2d(kernel_size=2, stride=2, padding=0, dilation=1, ceil_mode=False)\n",
              "  )\n",
              "  (conv_block2): Sequential(\n",
              "    (0): Conv2d(128, 128, kernel_size=(3, 3), stride=(1, 1), padding=(1, 1))\n",
              "    (1): ReLU()\n",
              "    (2): Conv2d(128, 128, kernel_size=(3, 3), stride=(1, 1), padding=(1, 1))\n",
              "    (3): ReLU()\n",
              "    (4): MaxPool2d(kernel_size=2, stride=2, padding=0, dilation=1, ceil_mode=False)\n",
              "  )\n",
              "  (dense_block): Sequential(\n",
              "    (0): Flatten(start_dim=1, end_dim=-1)\n",
              "    (1): Linear(in_features=6272, out_features=128, bias=True)\n",
              "    (2): ReLU()\n",
              "    (3): Linear(in_features=128, out_features=10, bias=True)\n",
              "    (4): ReLU()\n",
              "  )\n",
              ")"
            ]
          },
          "metadata": {},
          "execution_count": 281
        }
      ]
    },
    {
      "cell_type": "code",
      "source": [
        "loss_fn = torch.nn.CrossEntropyLoss()\n",
        "optimizer = torch.optim.SGD(params = model2.parameters() , lr = 0.1)"
      ],
      "metadata": {
        "id": "1sNCos-lym8a"
      },
      "execution_count": 282,
      "outputs": []
    },
    {
      "cell_type": "code",
      "source": [
        "epochs = 3\n",
        "start = timeit.Timer().timer()\n",
        "\n",
        "for epoch in tqdm(range(epochs)):\n",
        "  print(f\"---- Epochs {epoch}/{epochs} ----\")\n",
        "  training(model2 , train_dataLoader , loss_function = loss_fn , optimizer = optimizer , accuracy_function = accuracy_fn)\n",
        "  testing(model2 , test_dataLoader , loss_function = loss_fn , accuracy_function = accuracy_fn)\n",
        "\n",
        "end = timeit.Timer().timer()\n",
        "\n",
        "process_time = calclulate_timer(start_time = start , end_time = end , device = device)"
      ],
      "metadata": {
        "colab": {
          "base_uri": "https://localhost:8080/",
          "height": 518,
          "referenced_widgets": [
            "8a217f665b744bd0a1522fca4b62d766",
            "6b7026376f094377ab11ceffdaeba104",
            "492729c2126745f9b495fdbb74bda34d",
            "e9ca48f61faf4f079d5fd03e78e79529",
            "64751e4bc102448b8253ab51316f5b9b",
            "e0f3df2f7ea34b01ac3c612819304743",
            "8489edc2fcbe47a1b2c6b9ebdbf9ecf0",
            "2527dd8a529843c39553434619ac3bed",
            "45440dcf5bd849e98a57df516d2b2b30",
            "c098cca8a94d4473b892a3cb200e11b1",
            "63eabe2792b74213ba46fa1297981485"
          ]
        },
        "id": "uRJeP1um3lUK",
        "outputId": "cbba9c2f-5d35-4ba1-c74b-a427d2886450"
      },
      "execution_count": 283,
      "outputs": [
        {
          "output_type": "display_data",
          "data": {
            "text/plain": [
              "  0%|          | 0/3 [00:00<?, ?it/s]"
            ],
            "application/vnd.jupyter.widget-view+json": {
              "version_major": 2,
              "version_minor": 0,
              "model_id": "8a217f665b744bd0a1522fca4b62d766"
            }
          },
          "metadata": {}
        },
        {
          "output_type": "stream",
          "name": "stdout",
          "text": [
            "---- Epochs 0/3 ----\n",
            "number of data passed 0/60000\n",
            "number of data passed 12800/60000\n",
            "number of data passed 25600/60000\n",
            "number of data passed 38400/60000\n",
            "number of data passed 51200/60000\n",
            "Train Loss: 0.61418 | Train Accuracy: 78.03%\n",
            "Test Loss: 0.33655 | Test Accuracy: 87.50%\n",
            "\n",
            "---- Epochs 1/3 ----\n",
            "number of data passed 0/60000\n",
            "number of data passed 12800/60000\n",
            "number of data passed 25600/60000\n",
            "number of data passed 38400/60000\n",
            "number of data passed 51200/60000\n",
            "Train Loss: 0.28546 | Train Accuracy: 89.43%\n",
            "Test Loss: 0.28908 | Test Accuracy: 89.23%\n",
            "\n",
            "---- Epochs 2/3 ----\n",
            "number of data passed 0/60000\n",
            "number of data passed 12800/60000\n",
            "number of data passed 25600/60000\n",
            "number of data passed 38400/60000\n",
            "number of data passed 51200/60000\n",
            "Train Loss: 0.22775 | Train Accuracy: 91.65%\n",
            "Test Loss: 0.24896 | Test Accuracy: 90.83%\n",
            "\n"
          ]
        }
      ]
    },
    {
      "cell_type": "code",
      "source": [
        "model2_evaluation = model_evaluation(model2 , loss_function = loss_fn , dataLoader = test_dataLoader , device = device)"
      ],
      "metadata": {
        "id": "WkKeaM5U5Rki"
      },
      "execution_count": 297,
      "outputs": []
    },
    {
      "cell_type": "code",
      "source": [
        "model1_evaluation"
      ],
      "metadata": {
        "id": "PervuA1g6Otw",
        "colab": {
          "base_uri": "https://localhost:8080/"
        },
        "outputId": "8b16410e-b4c4-4a8b-e6cd-368777d34f01"
      },
      "execution_count": 298,
      "outputs": [
        {
          "output_type": "execute_result",
          "data": {
            "text/plain": [
              "{'Test Loss': 1.1203,\n",
              " 'Test Accuracy': 59.48,\n",
              " 'Evaluation Time': '0.93s',\n",
              " 'Model Name': 'FashionMNISTModel1',\n",
              " 'Evaluated On': 'cuda'}"
            ]
          },
          "metadata": {},
          "execution_count": 298
        }
      ]
    },
    {
      "cell_type": "code",
      "source": [
        "model2_evaluation"
      ],
      "metadata": {
        "colab": {
          "base_uri": "https://localhost:8080/"
        },
        "id": "HFi9cqz2aTYC",
        "outputId": "57fdf9de-4692-4f84-c989-45b5e246a44d"
      },
      "execution_count": 299,
      "outputs": [
        {
          "output_type": "execute_result",
          "data": {
            "text/plain": [
              "{'Test Loss': 0.249,\n",
              " 'Test Accuracy': 90.83,\n",
              " 'Evaluation Time': '1.63s',\n",
              " 'Model Name': 'FashionMNISTModel2',\n",
              " 'Evaluated On': 'cuda'}"
            ]
          },
          "metadata": {},
          "execution_count": 299
        }
      ]
    },
    {
      "cell_type": "code",
      "source": [
        "model0_evaluation"
      ],
      "metadata": {
        "colab": {
          "base_uri": "https://localhost:8080/"
        },
        "id": "1CN8mij7aUey",
        "outputId": "2fa51782-9af5-4d36-bad0-0d46ff136f0d"
      },
      "execution_count": 300,
      "outputs": [
        {
          "output_type": "execute_result",
          "data": {
            "text/plain": [
              "{'Test Loss': 0.8418,\n",
              " 'Test Accuracy': 70.61,\n",
              " 'Evaluation Time': '0.93s',\n",
              " 'Model Name': 'FashionMnistModel0',\n",
              " 'Evaluated On': 'cuda'}"
            ]
          },
          "metadata": {},
          "execution_count": 300
        }
      ]
    },
    {
      "cell_type": "code",
      "source": [
        "import pandas as pd\n",
        "evals = pd.DataFrame({\"model0\":model0_evaluation , \"model1\":model1_evaluation , \"model2\": model2_evaluation}).transpose()"
      ],
      "metadata": {
        "id": "C_PUZgrHb_Xl"
      },
      "execution_count": 301,
      "outputs": []
    },
    {
      "cell_type": "code",
      "source": [
        "plt.title(\"Accuracy Comparision\")\n",
        "plt.bar(evals.index , evals[\"Test Accuracy\"])"
      ],
      "metadata": {
        "colab": {
          "base_uri": "https://localhost:8080/",
          "height": 298
        },
        "id": "I-0FSLUvyUQU",
        "outputId": "88951c98-575e-464d-c407-392de8d96a45"
      },
      "execution_count": 305,
      "outputs": [
        {
          "output_type": "execute_result",
          "data": {
            "text/plain": [
              "<BarContainer object of 3 artists>"
            ]
          },
          "metadata": {},
          "execution_count": 305
        },
        {
          "output_type": "display_data",
          "data": {
            "text/plain": [
              "<Figure size 432x288 with 1 Axes>"
            ],
            "image/png": "[encoded data removed]"
          },
          "metadata": {
            "needs_background": "light"
          }
        }
      ]
    },
    {
      "cell_type": "code",
      "source": [
        "import random\n",
        "def plot_random_predictions(model:torch.nn.Module, data, rows = 3 , columns = 3 , figure_size = (15 , 10)):\n",
        "  '''plot random data with their predicts '''\n",
        "  samples = []\n",
        "  labels = []\n",
        "\n",
        "  plt.figure(figsize = figure_size)\n",
        "\n",
        "  for i in range(rows * columns):\n",
        "    rand = random.randint(0 , len(data))\n",
        "    sample , label = data[rand]\n",
        "    samples.append(sample)\n",
        "    labels.append(label)\n",
        "\n",
        "    plt.subplot(rows , columns , i + 1)\n",
        "    plt.imshow(sample.squeeze() , cmap = \"gray\")\n",
        "\n",
        "    pred_logits = model(sample.unsqueeze(dim = 0).to(device))\n",
        "    pred = torch.argmax(pred_logits , dim = 1)\n",
        "    pred = class_labels[pred]\n",
        "\n",
        "    title = f\"Predict: {pred} | Label: {class_labels[label]}\"\n",
        "\n",
        "    if pred == class_labels[label]:\n",
        "      plt.title(title , fontsize = 12 , color = \"green\")\n",
        "    else:\n",
        "      plt.title(title , fontsize = 12 , color = \"red\")\n",
        "    plt.axis(False)\n"
      ],
      "metadata": {
        "id": "l8trZwdmkVTD"
      },
      "execution_count": 290,
      "outputs": []
    },
    {
      "cell_type": "code",
      "source": [
        "plot_random_predictions(model2 , mnist_test , rows = 3 , columns = 3 , figure_size = (15 , 10))"
      ],
      "metadata": {
        "colab": {
          "base_uri": "https://localhost:8080/",
          "height": 591
        },
        "id": "UQ_tPDmunTtP",
        "outputId": "4a51262a-3151-4305-e98d-53ba04a70b17"
      },
      "execution_count": 306,
      "outputs": [
        {
          "output_type": "display_data",
          "data": {
            "text/plain": [
              "<Figure size 1080x720 with 9 Axes>"
            ],
            "image/png": "[encoded data removed]"
          },
          "metadata": {
            "needs_background": "light"
          }
        }
      ]
    },
    {
      "cell_type": "code",
      "source": [],
      "metadata": {
        "id": "dFGNspspkBAS"
      },
      "execution_count": 291,
      "outputs": []
    }
  ]
}