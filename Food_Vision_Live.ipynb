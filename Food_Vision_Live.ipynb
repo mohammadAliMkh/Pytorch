{
  "nbformat": 4,
  "nbformat_minor": 0,
  "metadata": {
    "colab": {
      "provenance": [],
      "collapsed_sections": [
        "Mv3_xvMa5yOf",
        "g9hp2i1jmsbM",
        "ven7oHXA6xEL",
        "taDcaKYFGKck",
        "0xYMi4lrm6R-",
        "3neRHEmynJ1R"
      ],
      "gpuType": "T4",
      "authorship_tag": "ABX9TyOgnGUuvGu5xIoVEkSpcplN",
      "include_colab_link": true
    },
    "kernelspec": {
      "name": "python3",
      "display_name": "Python 3"
    },
    "language_info": {
      "name": "python"
    },
    "accelerator": "GPU",
    "widgets": {
      "application/vnd.jupyter.widget-state+json": {
        "1b09830212c149e49adddd36d0fc92c8": {
          "model_module": "@jupyter-widgets/controls",
          "model_name": "HBoxModel",
          "model_module_version": "1.5.0",
          "state": {
            "_dom_classes": [],
            "_model_module": "@jupyter-widgets/controls",
            "_model_module_version": "1.5.0",
            "_model_name": "HBoxModel",
            "_view_count": null,
            "_view_module": "@jupyter-widgets/controls",
            "_view_module_version": "1.5.0",
            "_view_name": "HBoxView",
            "box_style": "",
            "children": [
              "IPY_MODEL_87b257b6a99c4efebba88cd90676b5fb",
              "IPY_MODEL_2836e5499aca4cd6bf74736098c3ffec",
              "IPY_MODEL_eed197cebbee49a1bbf042cf096b8304"
            ],
            "layout": "IPY_MODEL_d424387d817046dcb6b446f5f56b7954"
          }
        },
        "87b257b6a99c4efebba88cd90676b5fb": {
          "model_module": "@jupyter-widgets/controls",
          "model_name": "HTMLModel",
          "model_module_version": "1.5.0",
          "state": {
            "_dom_classes": [],
            "_model_module": "@jupyter-widgets/controls",
            "_model_module_version": "1.5.0",
            "_model_name": "HTMLModel",
            "_view_count": null,
            "_view_module": "@jupyter-widgets/controls",
            "_view_module_version": "1.5.0",
            "_view_name": "HTMLView",
            "description": "",
            "description_tooltip": null,
            "layout": "IPY_MODEL_88705c7d61f441e8bf8e5f082f134ab8",
            "placeholder": "​",
            "style": "IPY_MODEL_4cfffc27cc004ffc941e1e2a6a576a4c",
            "value": "100%"
          }
        },
        "2836e5499aca4cd6bf74736098c3ffec": {
          "model_module": "@jupyter-widgets/controls",
          "model_name": "FloatProgressModel",
          "model_module_version": "1.5.0",
          "state": {
            "_dom_classes": [],
            "_model_module": "@jupyter-widgets/controls",
            "_model_module_version": "1.5.0",
            "_model_name": "FloatProgressModel",
            "_view_count": null,
            "_view_module": "@jupyter-widgets/controls",
            "_view_module_version": "1.5.0",
            "_view_name": "ProgressView",
            "bar_style": "success",
            "description": "",
            "description_tooltip": null,
            "layout": "IPY_MODEL_eca125bb345c4585a180827deb44d2f8",
            "max": 10,
            "min": 0,
            "orientation": "horizontal",
            "style": "IPY_MODEL_bf6129436f7446f69f72a55b914502ab",
            "value": 10
          }
        },
        "eed197cebbee49a1bbf042cf096b8304": {
          "model_module": "@jupyter-widgets/controls",
          "model_name": "HTMLModel",
          "model_module_version": "1.5.0",
          "state": {
            "_dom_classes": [],
            "_model_module": "@jupyter-widgets/controls",
            "_model_module_version": "1.5.0",
            "_model_name": "HTMLModel",
            "_view_count": null,
            "_view_module": "@jupyter-widgets/controls",
            "_view_module_version": "1.5.0",
            "_view_name": "HTMLView",
            "description": "",
            "description_tooltip": null,
            "layout": "IPY_MODEL_eabb7c108a7b4d76a1d777c387c7e5ad",
            "placeholder": "​",
            "style": "IPY_MODEL_767956ad36fb4d8fb45dfe02b7386a9b",
            "value": " 10/10 [01:12&lt;00:00,  7.50s/it]"
          }
        },
        "d424387d817046dcb6b446f5f56b7954": {
          "model_module": "@jupyter-widgets/base",
          "model_name": "LayoutModel",
          "model_module_version": "1.2.0",
          "state": {
            "_model_module": "@jupyter-widgets/base",
            "_model_module_version": "1.2.0",
            "_model_name": "LayoutModel",
            "_view_count": null,
            "_view_module": "@jupyter-widgets/base",
            "_view_module_version": "1.2.0",
            "_view_name": "LayoutView",
            "align_content": null,
            "align_items": null,
            "align_self": null,
            "border": null,
            "bottom": null,
            "display": null,
            "flex": null,
            "flex_flow": null,
            "grid_area": null,
            "grid_auto_columns": null,
            "grid_auto_flow": null,
            "grid_auto_rows": null,
            "grid_column": null,
            "grid_gap": null,
            "grid_row": null,
            "grid_template_areas": null,
            "grid_template_columns": null,
            "grid_template_rows": null,
            "height": null,
            "justify_content": null,
            "justify_items": null,
            "left": null,
            "margin": null,
            "max_height": null,
            "max_width": null,
            "min_height": null,
            "min_width": null,
            "object_fit": null,
            "object_position": null,
            "order": null,
            "overflow": null,
            "overflow_x": null,
            "overflow_y": null,
            "padding": null,
            "right": null,
            "top": null,
            "visibility": null,
            "width": null
          }
        },
        "88705c7d61f441e8bf8e5f082f134ab8": {
          "model_module": "@jupyter-widgets/base",
          "model_name": "LayoutModel",
          "model_module_version": "1.2.0",
          "state": {
            "_model_module": "@jupyter-widgets/base",
            "_model_module_version": "1.2.0",
            "_model_name": "LayoutModel",
            "_view_count": null,
            "_view_module": "@jupyter-widgets/base",
            "_view_module_version": "1.2.0",
            "_view_name": "LayoutView",
            "align_content": null,
            "align_items": null,
            "align_self": null,
            "border": null,
            "bottom": null,
            "display": null,
            "flex": null,
            "flex_flow": null,
            "grid_area": null,
            "grid_auto_columns": null,
            "grid_auto_flow": null,
            "grid_auto_rows": null,
            "grid_column": null,
            "grid_gap": null,
            "grid_row": null,
            "grid_template_areas": null,
            "grid_template_columns": null,
            "grid_template_rows": null,
            "height": null,
            "justify_content": null,
            "justify_items": null,
            "left": null,
            "margin": null,
            "max_height": null,
            "max_width": null,
            "min_height": null,
            "min_width": null,
            "object_fit": null,
            "object_position": null,
            "order": null,
            "overflow": null,
            "overflow_x": null,
            "overflow_y": null,
            "padding": null,
            "right": null,
            "top": null,
            "visibility": null,
            "width": null
          }
        },
        "4cfffc27cc004ffc941e1e2a6a576a4c": {
          "model_module": "@jupyter-widgets/controls",
          "model_name": "DescriptionStyleModel",
          "model_module_version": "1.5.0",
          "state": {
            "_model_module": "@jupyter-widgets/controls",
            "_model_module_version": "1.5.0",
            "_model_name": "DescriptionStyleModel",
            "_view_count": null,
            "_view_module": "@jupyter-widgets/base",
            "_view_module_version": "1.2.0",
            "_view_name": "StyleView",
            "description_width": ""
          }
        },
        "eca125bb345c4585a180827deb44d2f8": {
          "model_module": "@jupyter-widgets/base",
          "model_name": "LayoutModel",
          "model_module_version": "1.2.0",
          "state": {
            "_model_module": "@jupyter-widgets/base",
            "_model_module_version": "1.2.0",
            "_model_name": "LayoutModel",
            "_view_count": null,
            "_view_module": "@jupyter-widgets/base",
            "_view_module_version": "1.2.0",
            "_view_name": "LayoutView",
            "align_content": null,
            "align_items": null,
            "align_self": null,
            "border": null,
            "bottom": null,
            "display": null,
            "flex": null,
            "flex_flow": null,
            "grid_area": null,
            "grid_auto_columns": null,
            "grid_auto_flow": null,
            "grid_auto_rows": null,
            "grid_column": null,
            "grid_gap": null,
            "grid_row": null,
            "grid_template_areas": null,
            "grid_template_columns": null,
            "grid_template_rows": null,
            "height": null,
            "justify_content": null,
            "justify_items": null,
            "left": null,
            "margin": null,
            "max_height": null,
            "max_width": null,
            "min_height": null,
            "min_width": null,
            "object_fit": null,
            "object_position": null,
            "order": null,
            "overflow": null,
            "overflow_x": null,
            "overflow_y": null,
            "padding": null,
            "right": null,
            "top": null,
            "visibility": null,
            "width": null
          }
        },
        "bf6129436f7446f69f72a55b914502ab": {
          "model_module": "@jupyter-widgets/controls",
          "model_name": "ProgressStyleModel",
          "model_module_version": "1.5.0",
          "state": {
            "_model_module": "@jupyter-widgets/controls",
            "_model_module_version": "1.5.0",
            "_model_name": "ProgressStyleModel",
            "_view_count": null,
            "_view_module": "@jupyter-widgets/base",
            "_view_module_version": "1.2.0",
            "_view_name": "StyleView",
            "bar_color": null,
            "description_width": ""
          }
        },
        "eabb7c108a7b4d76a1d777c387c7e5ad": {
          "model_module": "@jupyter-widgets/base",
          "model_name": "LayoutModel",
          "model_module_version": "1.2.0",
          "state": {
            "_model_module": "@jupyter-widgets/base",
            "_model_module_version": "1.2.0",
            "_model_name": "LayoutModel",
            "_view_count": null,
            "_view_module": "@jupyter-widgets/base",
            "_view_module_version": "1.2.0",
            "_view_name": "LayoutView",
            "align_content": null,
            "align_items": null,
            "align_self": null,
            "border": null,
            "bottom": null,
            "display": null,
            "flex": null,
            "flex_flow": null,
            "grid_area": null,
            "grid_auto_columns": null,
            "grid_auto_flow": null,
            "grid_auto_rows": null,
            "grid_column": null,
            "grid_gap": null,
            "grid_row": null,
            "grid_template_areas": null,
            "grid_template_columns": null,
            "grid_template_rows": null,
            "height": null,
            "justify_content": null,
            "justify_items": null,
            "left": null,
            "margin": null,
            "max_height": null,
            "max_width": null,
            "min_height": null,
            "min_width": null,
            "object_fit": null,
            "object_position": null,
            "order": null,
            "overflow": null,
            "overflow_x": null,
            "overflow_y": null,
            "padding": null,
            "right": null,
            "top": null,
            "visibility": null,
            "width": null
          }
        },
        "767956ad36fb4d8fb45dfe02b7386a9b": {
          "model_module": "@jupyter-widgets/controls",
          "model_name": "DescriptionStyleModel",
          "model_module_version": "1.5.0",
          "state": {
            "_model_module": "@jupyter-widgets/controls",
            "_model_module_version": "1.5.0",
            "_model_name": "DescriptionStyleModel",
            "_view_count": null,
            "_view_module": "@jupyter-widgets/base",
            "_view_module_version": "1.2.0",
            "_view_name": "StyleView",
            "description_width": ""
          }
        },
        "8051d6215989419b8df495ef78db0f9b": {
          "model_module": "@jupyter-widgets/controls",
          "model_name": "HBoxModel",
          "model_module_version": "1.5.0",
          "state": {
            "_dom_classes": [],
            "_model_module": "@jupyter-widgets/controls",
            "_model_module_version": "1.5.0",
            "_model_name": "HBoxModel",
            "_view_count": null,
            "_view_module": "@jupyter-widgets/controls",
            "_view_module_version": "1.5.0",
            "_view_name": "HBoxView",
            "box_style": "",
            "children": [
              "IPY_MODEL_0b98fd7185c341479b52a2b71a59b4b6",
              "IPY_MODEL_9fbb85840fa94efd84647a5cf6bc07d1",
              "IPY_MODEL_47818de879cf4c769730bbe21e245d77"
            ],
            "layout": "IPY_MODEL_b3bc0232b7e8419c9bd21b71492f12c5"
          }
        },
        "0b98fd7185c341479b52a2b71a59b4b6": {
          "model_module": "@jupyter-widgets/controls",
          "model_name": "HTMLModel",
          "model_module_version": "1.5.0",
          "state": {
            "_dom_classes": [],
            "_model_module": "@jupyter-widgets/controls",
            "_model_module_version": "1.5.0",
            "_model_name": "HTMLModel",
            "_view_count": null,
            "_view_module": "@jupyter-widgets/controls",
            "_view_module_version": "1.5.0",
            "_view_name": "HTMLView",
            "description": "",
            "description_tooltip": null,
            "layout": "IPY_MODEL_fd4b07049ab04d4b926199fa83ace17c",
            "placeholder": "​",
            "style": "IPY_MODEL_75ea68e1c4a943fcbf12238cb7d80139",
            "value": "100%"
          }
        },
        "9fbb85840fa94efd84647a5cf6bc07d1": {
          "model_module": "@jupyter-widgets/controls",
          "model_name": "FloatProgressModel",
          "model_module_version": "1.5.0",
          "state": {
            "_dom_classes": [],
            "_model_module": "@jupyter-widgets/controls",
            "_model_module_version": "1.5.0",
            "_model_name": "FloatProgressModel",
            "_view_count": null,
            "_view_module": "@jupyter-widgets/controls",
            "_view_module_version": "1.5.0",
            "_view_name": "ProgressView",
            "bar_style": "success",
            "description": "",
            "description_tooltip": null,
            "layout": "IPY_MODEL_80a673be76a84f929dea19de97366377",
            "max": 10,
            "min": 0,
            "orientation": "horizontal",
            "style": "IPY_MODEL_faf9eb1be4d34ebbaef11bfc7e945c6c",
            "value": 10
          }
        },
        "47818de879cf4c769730bbe21e245d77": {
          "model_module": "@jupyter-widgets/controls",
          "model_name": "HTMLModel",
          "model_module_version": "1.5.0",
          "state": {
            "_dom_classes": [],
            "_model_module": "@jupyter-widgets/controls",
            "_model_module_version": "1.5.0",
            "_model_name": "HTMLModel",
            "_view_count": null,
            "_view_module": "@jupyter-widgets/controls",
            "_view_module_version": "1.5.0",
            "_view_name": "HTMLView",
            "description": "",
            "description_tooltip": null,
            "layout": "IPY_MODEL_28fdb6b1bc8c4296be69d1d46d58c4b8",
            "placeholder": "​",
            "style": "IPY_MODEL_d12e1ef7823c4829bfe23f7e5fe3d406",
            "value": " 10/10 [01:27&lt;00:00,  8.62s/it]"
          }
        },
        "b3bc0232b7e8419c9bd21b71492f12c5": {
          "model_module": "@jupyter-widgets/base",
          "model_name": "LayoutModel",
          "model_module_version": "1.2.0",
          "state": {
            "_model_module": "@jupyter-widgets/base",
            "_model_module_version": "1.2.0",
            "_model_name": "LayoutModel",
            "_view_count": null,
            "_view_module": "@jupyter-widgets/base",
            "_view_module_version": "1.2.0",
            "_view_name": "LayoutView",
            "align_content": null,
            "align_items": null,
            "align_self": null,
            "border": null,
            "bottom": null,
            "display": null,
            "flex": null,
            "flex_flow": null,
            "grid_area": null,
            "grid_auto_columns": null,
            "grid_auto_flow": null,
            "grid_auto_rows": null,
            "grid_column": null,
            "grid_gap": null,
            "grid_row": null,
            "grid_template_areas": null,
            "grid_template_columns": null,
            "grid_template_rows": null,
            "height": null,
            "justify_content": null,
            "justify_items": null,
            "left": null,
            "margin": null,
            "max_height": null,
            "max_width": null,
            "min_height": null,
            "min_width": null,
            "object_fit": null,
            "object_position": null,
            "order": null,
            "overflow": null,
            "overflow_x": null,
            "overflow_y": null,
            "padding": null,
            "right": null,
            "top": null,
            "visibility": null,
            "width": null
          }
        },
        "fd4b07049ab04d4b926199fa83ace17c": {
          "model_module": "@jupyter-widgets/base",
          "model_name": "LayoutModel",
          "model_module_version": "1.2.0",
          "state": {
            "_model_module": "@jupyter-widgets/base",
            "_model_module_version": "1.2.0",
            "_model_name": "LayoutModel",
            "_view_count": null,
            "_view_module": "@jupyter-widgets/base",
            "_view_module_version": "1.2.0",
            "_view_name": "LayoutView",
            "align_content": null,
            "align_items": null,
            "align_self": null,
            "border": null,
            "bottom": null,
            "display": null,
            "flex": null,
            "flex_flow": null,
            "grid_area": null,
            "grid_auto_columns": null,
            "grid_auto_flow": null,
            "grid_auto_rows": null,
            "grid_column": null,
            "grid_gap": null,
            "grid_row": null,
            "grid_template_areas": null,
            "grid_template_columns": null,
            "grid_template_rows": null,
            "height": null,
            "justify_content": null,
            "justify_items": null,
            "left": null,
            "margin": null,
            "max_height": null,
            "max_width": null,
            "min_height": null,
            "min_width": null,
            "object_fit": null,
            "object_position": null,
            "order": null,
            "overflow": null,
            "overflow_x": null,
            "overflow_y": null,
            "padding": null,
            "right": null,
            "top": null,
            "visibility": null,
            "width": null
          }
        },
        "75ea68e1c4a943fcbf12238cb7d80139": {
          "model_module": "@jupyter-widgets/controls",
          "model_name": "DescriptionStyleModel",
          "model_module_version": "1.5.0",
          "state": {
            "_model_module": "@jupyter-widgets/controls",
            "_model_module_version": "1.5.0",
            "_model_name": "DescriptionStyleModel",
            "_view_count": null,
            "_view_module": "@jupyter-widgets/base",
            "_view_module_version": "1.2.0",
            "_view_name": "StyleView",
            "description_width": ""
          }
        },
        "80a673be76a84f929dea19de97366377": {
          "model_module": "@jupyter-widgets/base",
          "model_name": "LayoutModel",
          "model_module_version": "1.2.0",
          "state": {
            "_model_module": "@jupyter-widgets/base",
            "_model_module_version": "1.2.0",
            "_model_name": "LayoutModel",
            "_view_count": null,
            "_view_module": "@jupyter-widgets/base",
            "_view_module_version": "1.2.0",
            "_view_name": "LayoutView",
            "align_content": null,
            "align_items": null,
            "align_self": null,
            "border": null,
            "bottom": null,
            "display": null,
            "flex": null,
            "flex_flow": null,
            "grid_area": null,
            "grid_auto_columns": null,
            "grid_auto_flow": null,
            "grid_auto_rows": null,
            "grid_column": null,
            "grid_gap": null,
            "grid_row": null,
            "grid_template_areas": null,
            "grid_template_columns": null,
            "grid_template_rows": null,
            "height": null,
            "justify_content": null,
            "justify_items": null,
            "left": null,
            "margin": null,
            "max_height": null,
            "max_width": null,
            "min_height": null,
            "min_width": null,
            "object_fit": null,
            "object_position": null,
            "order": null,
            "overflow": null,
            "overflow_x": null,
            "overflow_y": null,
            "padding": null,
            "right": null,
            "top": null,
            "visibility": null,
            "width": null
          }
        },
        "faf9eb1be4d34ebbaef11bfc7e945c6c": {
          "model_module": "@jupyter-widgets/controls",
          "model_name": "ProgressStyleModel",
          "model_module_version": "1.5.0",
          "state": {
            "_model_module": "@jupyter-widgets/controls",
            "_model_module_version": "1.5.0",
            "_model_name": "ProgressStyleModel",
            "_view_count": null,
            "_view_module": "@jupyter-widgets/base",
            "_view_module_version": "1.2.0",
            "_view_name": "StyleView",
            "bar_color": null,
            "description_width": ""
          }
        },
        "28fdb6b1bc8c4296be69d1d46d58c4b8": {
          "model_module": "@jupyter-widgets/base",
          "model_name": "LayoutModel",
          "model_module_version": "1.2.0",
          "state": {
            "_model_module": "@jupyter-widgets/base",
            "_model_module_version": "1.2.0",
            "_model_name": "LayoutModel",
            "_view_count": null,
            "_view_module": "@jupyter-widgets/base",
            "_view_module_version": "1.2.0",
            "_view_name": "LayoutView",
            "align_content": null,
            "align_items": null,
            "align_self": null,
            "border": null,
            "bottom": null,
            "display": null,
            "flex": null,
            "flex_flow": null,
            "grid_area": null,
            "grid_auto_columns": null,
            "grid_auto_flow": null,
            "grid_auto_rows": null,
            "grid_column": null,
            "grid_gap": null,
            "grid_row": null,
            "grid_template_areas": null,
            "grid_template_columns": null,
            "grid_template_rows": null,
            "height": null,
            "justify_content": null,
            "justify_items": null,
            "left": null,
            "margin": null,
            "max_height": null,
            "max_width": null,
            "min_height": null,
            "min_width": null,
            "object_fit": null,
            "object_position": null,
            "order": null,
            "overflow": null,
            "overflow_x": null,
            "overflow_y": null,
            "padding": null,
            "right": null,
            "top": null,
            "visibility": null,
            "width": null
          }
        },
        "d12e1ef7823c4829bfe23f7e5fe3d406": {
          "model_module": "@jupyter-widgets/controls",
          "model_name": "DescriptionStyleModel",
          "model_module_version": "1.5.0",
          "state": {
            "_model_module": "@jupyter-widgets/controls",
            "_model_module_version": "1.5.0",
            "_model_name": "DescriptionStyleModel",
            "_view_count": null,
            "_view_module": "@jupyter-widgets/base",
            "_view_module_version": "1.2.0",
            "_view_name": "StyleView",
            "description_width": ""
          }
        }
      }
    }
  },
  "cells": [
    {
      "cell_type": "markdown",
      "metadata": {
        "id": "view-in-github",
        "colab_type": "text"
      },
      "source": [
        "<a href=\"https://colab.research.google.com/github/mohammadAliMkh/Pytorch/blob/main/Food_Vision_Live.ipynb\" target=\"_parent\"><img src=\"https://colab.research.google.com/assets/colab-badge.svg\" alt=\"Open In Colab\"/></a>"
      ]
    },
    {
      "cell_type": "markdown",
      "source": [
        "#Clone Pytroch Project\n",
        "we are going to clone our pytorch project because we need some files and codes that we have developed before. Below codes will do it for us:\n",
        "* first we clone whole repository\n",
        "* second we change our root to the project direcoty"
      ],
      "metadata": {
        "id": "Mv3_xvMa5yOf"
      }
    },
    {
      "cell_type": "code",
      "source": [
        "### cloning ###"
      ],
      "metadata": {
        "id": "JphP2zmGwCPY"
      },
      "execution_count": null,
      "outputs": []
    },
    {
      "cell_type": "code",
      "source": [
        "!rm -rf \"/content/sample_data\"\n",
        "\n",
        "%cd \"/content/Pytorch/Food_Vision_Live\""
      ],
      "metadata": {
        "colab": {
          "base_uri": "https://localhost:8080/"
        },
        "id": "os78bsf91F00",
        "outputId": "1af16edc-7e37-48c7-94ff-b9aa06368adb"
      },
      "execution_count": 140,
      "outputs": [
        {
          "output_type": "stream",
          "name": "stdout",
          "text": [
            "/content/Pytorch/Food_Vision_Live\n"
          ]
        }
      ]
    },
    {
      "cell_type": "markdown",
      "source": [
        "# All Imports"
      ],
      "metadata": {
        "id": "g9hp2i1jmsbM"
      }
    },
    {
      "cell_type": "code",
      "source": [
        "from torchvision.models import EfficientNet_B2_Weights , ViT_B_16_Weights\n",
        "from torch.utils.data import DataLoader\n",
        "from torchvision.datasets import ImageFolder\n",
        "import os\n",
        "from torchvision.models import efficientnet_b2 , vit_b_16\n",
        "\n",
        "try:\n",
        "  import torchinfo\n",
        "except:\n",
        "  !pip install torchinfo\n",
        "from torchinfo import summary\n",
        "\n",
        "import torch\n",
        "from train import train\n",
        "import matplotlib.pyplot as plt\n",
        "import pandas as pd"
      ],
      "metadata": {
        "id": "bOsJIHgDmvKE"
      },
      "execution_count": 136,
      "outputs": []
    },
    {
      "cell_type": "markdown",
      "source": [
        "#Food vision Live\n",
        "\n",
        "In this section we are going to build a **Live Application** to perform a classifiction task which take a food image and give its name in a live platform\n",
        "\n",
        "\n",
        "First we want to to this to tasks:\n",
        "* prepare our data, we will use 20% food image dataset in this project\n",
        "* build best efficient model again that we have trained\n",
        "* build best ViT model that we have saved that in ViT Section\n",
        "* compare these 2 models with each other and select the best one"
      ],
      "metadata": {
        "id": "JD34SPm72uEv"
      }
    },
    {
      "cell_type": "markdown",
      "source": [
        "#prepare our data, we will use 20% food image dataset in this project\n",
        "In this project we want to evaluate our models with 20% food image dataset\n",
        "* First I copy my 20 percent food image data from **Experiment Tracking** to the **Food Vision Live** project\n",
        "* Second copy all the files need to train models from there too\n",
        "* Then, Create DataLoaders for Both models\n",
        "  * Efficient model DataLoaders\n",
        "  * ViT model DataLoader\n",
        "\n",
        "\n",
        "\n"
      ],
      "metadata": {
        "id": "ven7oHXA6xEL"
      }
    },
    {
      "cell_type": "code",
      "source": [
        "#%cp -r \"/content/Pytorch/experiment_tracking/pizza_steak_sushi_20_percent\"* \"/content/Pytorch/Food_Vision_Live\"\n",
        "#%cp -r \"/content/Pytorch/food_vision_project/\"* \"/content/Pytorch/Food_Vision_Live\""
      ],
      "metadata": {
        "id": "wawyfnSF2gcf"
      },
      "execution_count": 9,
      "outputs": []
    },
    {
      "cell_type": "markdown",
      "source": [
        "get **efficient weights** from `torchvision.models` and then extract its transformer, because for training on this model we should convert images via its transformer"
      ],
      "metadata": {
        "id": "IKLUooQ-_3-h"
      }
    },
    {
      "cell_type": "code",
      "source": [
        "efficient_weight = EfficientNet_B2_Weights.DEFAULT\n",
        "\n",
        "efficient_transformer = efficient_weight.transforms()"
      ],
      "metadata": {
        "id": "EIUTmELN9scY"
      },
      "execution_count": 11,
      "outputs": []
    },
    {
      "cell_type": "code",
      "source": [
        "efficient_transformer"
      ],
      "metadata": {
        "colab": {
          "base_uri": "https://localhost:8080/"
        },
        "id": "6TNfXAZqFczo",
        "outputId": "a6e96f2a-7aa4-46eb-b7e3-366a07cd4267"
      },
      "execution_count": 12,
      "outputs": [
        {
          "output_type": "execute_result",
          "data": {
            "text/plain": [
              "ImageClassification(\n",
              "    crop_size=[288]\n",
              "    resize_size=[288]\n",
              "    mean=[0.485, 0.456, 0.406]\n",
              "    std=[0.229, 0.224, 0.225]\n",
              "    interpolation=InterpolationMode.BICUBIC\n",
              ")"
            ]
          },
          "metadata": {},
          "execution_count": 12
        }
      ]
    },
    {
      "cell_type": "code",
      "source": [
        "EFFICIENT_BATCH_SIZE = 32\n",
        "\n",
        "efficient_train_dataset = ImageFolder(\"/content/Pytorch/Food_Vision_Live/pizza_steak_sushi_20_percent/train\",\n",
        "                         transform=efficient_transformer)\n",
        "efficient_test_dataset = ImageFolder(\"/content/Pytorch/Food_Vision_Live/pizza_steak_sushi_20_percent/test\",\n",
        "                             transform = efficient_transformer)\n",
        "\n",
        "efficient_train_dataLoader = DataLoader(efficient_train_dataset,\n",
        "                                        batch_size = EFFICIENT_BATCH_SIZE,\n",
        "                                        shuffle = True,\n",
        "                                        num_workers = os.cpu_count())\n",
        "\n",
        "efficient_test_dataLoader = DataLoader(efficient_test_dataset,\n",
        "                                       batch_size = EFFICIENT_BATCH_SIZE , num_workers = os.cpu_count())\n",
        "\n",
        "\n",
        "CLASS_NAMES = efficient_train_dataset.classes"
      ],
      "metadata": {
        "id": "6PXc2szY6ZB8"
      },
      "execution_count": 13,
      "outputs": []
    },
    {
      "cell_type": "markdown",
      "source": [
        "get **ViT weights** from `torchvision.models` and then extract its transformer, because for training on this model we should convert images via its transformer"
      ],
      "metadata": {
        "id": "opOn77CDDwmr"
      }
    },
    {
      "cell_type": "code",
      "source": [
        "viT_b16_weight = ViT_B_16_Weights.DEFAULT\n",
        "\n",
        "vit_b16_transformer = viT_b16_weight.transforms()"
      ],
      "metadata": {
        "id": "E_fxoEUVDkdw"
      },
      "execution_count": 14,
      "outputs": []
    },
    {
      "cell_type": "code",
      "source": [
        "vit_b16_transformer"
      ],
      "metadata": {
        "colab": {
          "base_uri": "https://localhost:8080/"
        },
        "id": "twrDtzbLFZQR",
        "outputId": "5ec06502-96fa-4daa-d226-ac3800274ba1"
      },
      "execution_count": 15,
      "outputs": [
        {
          "output_type": "execute_result",
          "data": {
            "text/plain": [
              "ImageClassification(\n",
              "    crop_size=[224]\n",
              "    resize_size=[256]\n",
              "    mean=[0.485, 0.456, 0.406]\n",
              "    std=[0.229, 0.224, 0.225]\n",
              "    interpolation=InterpolationMode.BILINEAR\n",
              ")"
            ]
          },
          "metadata": {},
          "execution_count": 15
        }
      ]
    },
    {
      "cell_type": "code",
      "source": [
        "VIT_BATCH_SIZE = 32\n",
        "\n",
        "vit_train_dataset = ImageFolder(\"/content/Pytorch/Food_Vision_Live/pizza_steak_sushi_20_percent/train\",\n",
        "                         transform=vit_b16_transformer)\n",
        "vit_test_dataset = ImageFolder(\"/content/Pytorch/Food_Vision_Live/pizza_steak_sushi_20_percent/test\",\n",
        "                             transform = vit_b16_transformer)\n",
        "\n",
        "vit_train_dataLoader = DataLoader(vit_train_dataset,\n",
        "                                        batch_size = VIT_BATCH_SIZE,\n",
        "                                        shuffle = True,\n",
        "                                        num_workers = os.cpu_count())\n",
        "\n",
        "vit_test_dataLoader = DataLoader(vit_test_dataset,\n",
        "                                 batch_size = VIT_BATCH_SIZE,\n",
        "                                 num_workers = os.cpu_count())"
      ],
      "metadata": {
        "id": "EDkW4M6hE3pR"
      },
      "execution_count": 16,
      "outputs": []
    },
    {
      "cell_type": "markdown",
      "source": [
        "#build best efficient model again that we have trained\n",
        "we are going to train the models with our data and finally check their metrics for each of them\n",
        "\n",
        "for testing we going to:\n",
        "\n",
        "* first\n",
        "  * build efficient b2 model\n",
        "  * train it with its data\n",
        "  * check time, accuarcy, loss\n",
        "  * plot them"
      ],
      "metadata": {
        "id": "taDcaKYFGKck"
      }
    },
    {
      "cell_type": "code",
      "source": [
        "efficient_model = efficientnet_b2(weights = efficient_weight)"
      ],
      "metadata": {
        "colab": {
          "base_uri": "https://localhost:8080/"
        },
        "id": "UvvjplNUGOXh",
        "outputId": "4fa21954-c7a8-4156-d193-d3dd18cc45fc"
      },
      "execution_count": 17,
      "outputs": [
        {
          "output_type": "stream",
          "name": "stderr",
          "text": [
            "Downloading: \"https://download.pytorch.org/models/efficientnet_b2_rwightman-bcdf34b7.pth\" to /root/.cache/torch/hub/checkpoints/efficientnet_b2_rwightman-bcdf34b7.pth\n",
            "100%|██████████| 35.2M/35.2M [00:00<00:00, 96.4MB/s]\n"
          ]
        }
      ]
    },
    {
      "cell_type": "markdown",
      "source": [
        "Before training, we should first froze all the layers, then change last layer and leave this layer for our tuning"
      ],
      "metadata": {
        "id": "twSfK0pWSB-f"
      }
    },
    {
      "cell_type": "code",
      "source": [
        "# lets first take a look at the model\n",
        "summary(efficient_model,\n",
        "        input_size = (32 , 3 , 288 , 288),\n",
        "        col_names = [\"input_size\" , \"output_size\" , \"num_params\" , \"trainable\"],\n",
        "        col_width = 20)"
      ],
      "metadata": {
        "colab": {
          "base_uri": "https://localhost:8080/"
        },
        "id": "3htv_E-6R7yb",
        "outputId": "e58aadba-568c-4dd2-f004-64358887b57c"
      },
      "execution_count": 18,
      "outputs": [
        {
          "output_type": "stream",
          "name": "stdout",
          "text": [
            "Collecting torchinfo\n",
            "  Downloading torchinfo-1.8.0-py3-none-any.whl (23 kB)\n",
            "Installing collected packages: torchinfo\n",
            "Successfully installed torchinfo-1.8.0\n"
          ]
        },
        {
          "output_type": "execute_result",
          "data": {
            "text/plain": [
              "=======================================================================================================================================\n",
              "Layer (type:depth-idx)                                  Input Shape          Output Shape         Param #              Trainable\n",
              "=======================================================================================================================================\n",
              "EfficientNet                                            [32, 3, 288, 288]    [32, 1000]           --                   True\n",
              "├─Sequential: 1-1                                       [32, 3, 288, 288]    [32, 1408, 9, 9]     --                   True\n",
              "│    └─Conv2dNormActivation: 2-1                        [32, 3, 288, 288]    [32, 32, 144, 144]   --                   True\n",
              "│    │    └─Conv2d: 3-1                                 [32, 3, 288, 288]    [32, 32, 144, 144]   864                  True\n",
              "│    │    └─BatchNorm2d: 3-2                            [32, 32, 144, 144]   [32, 32, 144, 144]   64                   True\n",
              "│    │    └─SiLU: 3-3                                   [32, 32, 144, 144]   [32, 32, 144, 144]   --                   --\n",
              "│    └─Sequential: 2-2                                  [32, 32, 144, 144]   [32, 16, 144, 144]   --                   True\n",
              "│    │    └─MBConv: 3-4                                 [32, 32, 144, 144]   [32, 16, 144, 144]   1,448                True\n",
              "│    │    └─MBConv: 3-5                                 [32, 16, 144, 144]   [32, 16, 144, 144]   612                  True\n",
              "│    └─Sequential: 2-3                                  [32, 16, 144, 144]   [32, 24, 72, 72]     --                   True\n",
              "│    │    └─MBConv: 3-6                                 [32, 16, 144, 144]   [32, 24, 72, 72]     6,004                True\n",
              "│    │    └─MBConv: 3-7                                 [32, 24, 72, 72]     [32, 24, 72, 72]     10,710               True\n",
              "│    │    └─MBConv: 3-8                                 [32, 24, 72, 72]     [32, 24, 72, 72]     10,710               True\n",
              "│    └─Sequential: 2-4                                  [32, 24, 72, 72]     [32, 48, 36, 36]     --                   True\n",
              "│    │    └─MBConv: 3-9                                 [32, 24, 72, 72]     [32, 48, 36, 36]     16,518               True\n",
              "│    │    └─MBConv: 3-10                                [32, 48, 36, 36]     [32, 48, 36, 36]     43,308               True\n",
              "│    │    └─MBConv: 3-11                                [32, 48, 36, 36]     [32, 48, 36, 36]     43,308               True\n",
              "│    └─Sequential: 2-5                                  [32, 48, 36, 36]     [32, 88, 18, 18]     --                   True\n",
              "│    │    └─MBConv: 3-12                                [32, 48, 36, 36]     [32, 88, 18, 18]     50,300               True\n",
              "│    │    └─MBConv: 3-13                                [32, 88, 18, 18]     [32, 88, 18, 18]     123,750              True\n",
              "│    │    └─MBConv: 3-14                                [32, 88, 18, 18]     [32, 88, 18, 18]     123,750              True\n",
              "│    │    └─MBConv: 3-15                                [32, 88, 18, 18]     [32, 88, 18, 18]     123,750              True\n",
              "│    └─Sequential: 2-6                                  [32, 88, 18, 18]     [32, 120, 18, 18]    --                   True\n",
              "│    │    └─MBConv: 3-16                                [32, 88, 18, 18]     [32, 120, 18, 18]    149,158              True\n",
              "│    │    └─MBConv: 3-17                                [32, 120, 18, 18]    [32, 120, 18, 18]    237,870              True\n",
              "│    │    └─MBConv: 3-18                                [32, 120, 18, 18]    [32, 120, 18, 18]    237,870              True\n",
              "│    │    └─MBConv: 3-19                                [32, 120, 18, 18]    [32, 120, 18, 18]    237,870              True\n",
              "│    └─Sequential: 2-7                                  [32, 120, 18, 18]    [32, 208, 9, 9]      --                   True\n",
              "│    │    └─MBConv: 3-20                                [32, 120, 18, 18]    [32, 208, 9, 9]      301,406              True\n",
              "│    │    └─MBConv: 3-21                                [32, 208, 9, 9]      [32, 208, 9, 9]      686,868              True\n",
              "│    │    └─MBConv: 3-22                                [32, 208, 9, 9]      [32, 208, 9, 9]      686,868              True\n",
              "│    │    └─MBConv: 3-23                                [32, 208, 9, 9]      [32, 208, 9, 9]      686,868              True\n",
              "│    │    └─MBConv: 3-24                                [32, 208, 9, 9]      [32, 208, 9, 9]      686,868              True\n",
              "│    └─Sequential: 2-8                                  [32, 208, 9, 9]      [32, 352, 9, 9]      --                   True\n",
              "│    │    └─MBConv: 3-25                                [32, 208, 9, 9]      [32, 352, 9, 9]      846,900              True\n",
              "│    │    └─MBConv: 3-26                                [32, 352, 9, 9]      [32, 352, 9, 9]      1,888,920            True\n",
              "│    └─Conv2dNormActivation: 2-9                        [32, 352, 9, 9]      [32, 1408, 9, 9]     --                   True\n",
              "│    │    └─Conv2d: 3-27                                [32, 352, 9, 9]      [32, 1408, 9, 9]     495,616              True\n",
              "│    │    └─BatchNorm2d: 3-28                           [32, 1408, 9, 9]     [32, 1408, 9, 9]     2,816                True\n",
              "│    │    └─SiLU: 3-29                                  [32, 1408, 9, 9]     [32, 1408, 9, 9]     --                   --\n",
              "├─AdaptiveAvgPool2d: 1-2                                [32, 1408, 9, 9]     [32, 1408, 1, 1]     --                   --\n",
              "├─Sequential: 1-3                                       [32, 1408]           [32, 1000]           --                   True\n",
              "│    └─Dropout: 2-10                                    [32, 1408]           [32, 1408]           --                   --\n",
              "│    └─Linear: 2-11                                     [32, 1408]           [32, 1000]           1,409,000            True\n",
              "=======================================================================================================================================\n",
              "Total params: 9,109,994\n",
              "Trainable params: 9,109,994\n",
              "Non-trainable params: 0\n",
              "Total mult-adds (G): 34.80\n",
              "=======================================================================================================================================\n",
              "Input size (MB): 31.85\n",
              "Forward/backward pass size (MB): 8291.97\n",
              "Params size (MB): 36.44\n",
              "Estimated Total Size (MB): 8360.26\n",
              "======================================================================================================================================="
            ]
          },
          "metadata": {},
          "execution_count": 18
        }
      ]
    },
    {
      "cell_type": "code",
      "source": [
        "# first frozen all the layers\n",
        "for param in efficient_model.parameters():\n",
        "  param.requires_grad = False\n",
        "\n",
        "# create a new classifier according to the data outputs\n",
        "efficient_last_layer = torch.nn.Sequential(\n",
        "    torch.nn.Dropout(),\n",
        "    torch.nn.Linear(in_features=1408 , out_features= len(CLASS_NAMES))\n",
        ")\n",
        "\n",
        "#change the base classifier with the new one\n",
        "efficient_model.classifier = efficient_last_layer"
      ],
      "metadata": {
        "id": "404ezhYCadGd"
      },
      "execution_count": 20,
      "outputs": []
    },
    {
      "cell_type": "markdown",
      "source": [
        "All the parameters are ready, let go train our first model on the dataset"
      ],
      "metadata": {
        "id": "hYfy-XhRfJ5r"
      }
    },
    {
      "cell_type": "code",
      "source": [
        "device = \"cuda\" if torch.cuda.is_available() else \"cpu\"\n",
        "\n",
        "efficient_loss_function = torch.nn.CrossEntropyLoss()\n",
        "efficient_optimizer = torch.optim.Adam(params = efficient_model.parameters() , lr=0.001)\n",
        "\n",
        "efficient_resuls = train(model = efficient_model.to(device),\n",
        "                         epochs = 10,\n",
        "                         train_data = efficient_train_dataLoader,\n",
        "                         test_data = efficient_test_dataLoader,\n",
        "                         loss_fn = efficient_loss_function,\n",
        "                         optimizer = efficient_optimizer,\n",
        "                         device = device)"
      ],
      "metadata": {
        "colab": {
          "base_uri": "https://localhost:8080/",
          "height": 257,
          "referenced_widgets": [
            "1b09830212c149e49adddd36d0fc92c8",
            "87b257b6a99c4efebba88cd90676b5fb",
            "2836e5499aca4cd6bf74736098c3ffec",
            "eed197cebbee49a1bbf042cf096b8304",
            "d424387d817046dcb6b446f5f56b7954",
            "88705c7d61f441e8bf8e5f082f134ab8",
            "4cfffc27cc004ffc941e1e2a6a576a4c",
            "eca125bb345c4585a180827deb44d2f8",
            "bf6129436f7446f69f72a55b914502ab",
            "eabb7c108a7b4d76a1d777c387c7e5ad",
            "767956ad36fb4d8fb45dfe02b7386a9b"
          ]
        },
        "id": "7gkzeXuxQHB0",
        "outputId": "ab72036f-df2c-4a3e-afcf-6b33eb509b75"
      },
      "execution_count": 22,
      "outputs": [
        {
          "output_type": "display_data",
          "data": {
            "text/plain": [
              "  0%|          | 0/10 [00:00<?, ?it/s]"
            ],
            "application/vnd.jupyter.widget-view+json": {
              "version_major": 2,
              "version_minor": 0,
              "model_id": "1b09830212c149e49adddd36d0fc92c8"
            }
          },
          "metadata": {}
        },
        {
          "output_type": "stream",
          "name": "stdout",
          "text": [
            "Epoch 0 | Train Loss: 1.0348 | Train Accuracy: 46.46 | Test Loss: 0.7661 | Test Accuracy: 86.70 \n",
            "Epoch 1 | Train Loss: 0.7525 | Train Accuracy: 78.96 | Test Loss: 0.6515 | Test Accuracy: 92.90 \n",
            "Epoch 2 | Train Loss: 0.5883 | Train Accuracy: 88.54 | Test Loss: 0.5182 | Test Accuracy: 93.47 \n",
            "Epoch 3 | Train Loss: 0.5146 | Train Accuracy: 88.13 | Test Loss: 0.4639 | Test Accuracy: 93.47 \n",
            "Epoch 4 | Train Loss: 0.4704 | Train Accuracy: 86.46 | Test Loss: 0.4162 | Test Accuracy: 95.97 \n",
            "Epoch 5 | Train Loss: 0.4417 | Train Accuracy: 86.46 | Test Loss: 0.3738 | Test Accuracy: 94.09 \n",
            "Epoch 6 | Train Loss: 0.4576 | Train Accuracy: 84.79 | Test Loss: 0.3356 | Test Accuracy: 96.88 \n",
            "Epoch 7 | Train Loss: 0.3870 | Train Accuracy: 87.71 | Test Loss: 0.3392 | Test Accuracy: 92.90 \n",
            "Epoch 8 | Train Loss: 0.3331 | Train Accuracy: 92.08 | Test Loss: 0.3199 | Test Accuracy: 96.25 \n",
            "Epoch 9 | Train Loss: 0.3108 | Train Accuracy: 93.13 | Test Loss: 0.3016 | Test Accuracy: 93.47 \n",
            "\n",
            "Process Time: 72.60 seconds\n"
          ]
        }
      ]
    },
    {
      "cell_type": "markdown",
      "source": [
        "We are going to plot metrcis of the Efficient Model for further evaluation"
      ],
      "metadata": {
        "id": "JIU1oWSVhSpR"
      }
    },
    {
      "cell_type": "code",
      "source": [
        "plt.figure(figsize = (20,8))\n",
        "plt.subplot(1 , 2 , 1)\n",
        "plt.plot(efficient_resuls[\"test_loss\"])\n",
        "plt.plot(efficient_resuls[\"train_loss\"])\n",
        "plt.legend([\"test_loss\" , \"train_loss\"])\n",
        "plt.title(\"Loss\")\n",
        "plt.subplot(1 , 2 , 2)\n",
        "plt.plot(efficient_resuls[\"test_accuracy\"])\n",
        "plt.plot(efficient_resuls[\"train_accuracy\"])\n",
        "plt.legend([\"test_accuracy\" , \"train_accuracy\"])\n",
        "plt.title(\"Accuracy\")\n",
        "plt.show()"
      ],
      "metadata": {
        "colab": {
          "base_uri": "https://localhost:8080/",
          "height": 494
        },
        "id": "eWUPJ3p6fX1e",
        "outputId": "a40d5c26-a356-4034-9bed-dbe306f68d65"
      },
      "execution_count": 36,
      "outputs": [
        {
          "output_type": "display_data",
          "data": {
            "text/plain": [
              "<Figure size 2000x800 with 2 Axes>"
            ],
            "image/png": "[encoded data removed]"
          },
          "metadata": {}
        }
      ]
    },
    {
      "cell_type": "code",
      "source": [
        "efficient_test_accuracy = round(efficient_resuls[\"test_accuracy\"][-1] , 4)\n",
        "efficient_test_loss = round(efficient_resuls[\"test_loss\"][-1] , 4)\n",
        "efficient_train_accuracy = round(efficient_resuls[\"train_accuracy\"][-1] , 4)\n",
        "efficient_train_loss = round(efficient_resuls[\"train_loss\"][-1] , 4)\n",
        "\n",
        "\n",
        "efficient_result = {\"test_accuracy\":efficient_test_accuracy,\n",
        "                    \"test_loss\":efficient_test_loss,\n",
        "                    \"train_accuracy\":efficient_train_accuracy,\n",
        "                    \"train_loss\":efficient_train_loss}"
      ],
      "metadata": {
        "id": "TgHPe4RwifRX"
      },
      "execution_count": 58,
      "outputs": []
    },
    {
      "cell_type": "code",
      "source": [
        "efficient_result"
      ],
      "metadata": {
        "colab": {
          "base_uri": "https://localhost:8080/"
        },
        "id": "4NnAGXkSkVgh",
        "outputId": "f1b0357e-f185-4091-b35e-e9cf84891310"
      },
      "execution_count": 62,
      "outputs": [
        {
          "output_type": "execute_result",
          "data": {
            "text/plain": [
              "{'test_accuracy': 93.4659,\n",
              " 'test_loss': 0.3016,\n",
              " 'train_accuracy': 93.125,\n",
              " 'train_loss': 0.3108}"
            ]
          },
          "metadata": {},
          "execution_count": 62
        }
      ]
    },
    {
      "cell_type": "markdown",
      "source": [
        "#build best vit model again that we have trained\n",
        "we are going to train the models with our data and finally check their metrics for each of them\n",
        "\n",
        "for testing we going to:\n",
        "\n",
        "* first\n",
        "  * build vit b16 model\n",
        "  * train it with its data\n",
        "  * check time, accuarcy, loss\n",
        "  * plot them"
      ],
      "metadata": {
        "id": "0xYMi4lrm6R-"
      }
    },
    {
      "cell_type": "code",
      "source": [
        "vit_model = vit_b_16(weights = viT_b16_weight)"
      ],
      "metadata": {
        "id": "hvZKFtbRnTa-"
      },
      "execution_count": 113,
      "outputs": []
    },
    {
      "cell_type": "code",
      "source": [
        "summary(vit_model,\n",
        "        input_size = (32 , 3 , 224 , 224),\n",
        "        col_names = [\"input_size\" , \"output_size\" , \"num_params\" , \"trainable\"],\n",
        "        col_width = 20)"
      ],
      "metadata": {
        "colab": {
          "base_uri": "https://localhost:8080/"
        },
        "id": "ohjGt7ZinxZr",
        "outputId": "6971eae3-c3b2-4ac5-fd56-ce0df9f20d34"
      },
      "execution_count": 114,
      "outputs": [
        {
          "output_type": "execute_result",
          "data": {
            "text/plain": [
              "=============================================================================================================================\n",
              "Layer (type:depth-idx)                        Input Shape          Output Shape         Param #              Trainable\n",
              "=============================================================================================================================\n",
              "VisionTransformer                             [32, 3, 224, 224]    [32, 1000]           768                  True\n",
              "├─Conv2d: 1-1                                 [32, 3, 224, 224]    [32, 768, 14, 14]    590,592              True\n",
              "├─Encoder: 1-2                                [32, 197, 768]       [32, 197, 768]       151,296              True\n",
              "│    └─Dropout: 2-1                           [32, 197, 768]       [32, 197, 768]       --                   --\n",
              "│    └─Sequential: 2-2                        [32, 197, 768]       [32, 197, 768]       --                   True\n",
              "│    │    └─EncoderBlock: 3-1                 [32, 197, 768]       [32, 197, 768]       7,087,872            True\n",
              "│    │    └─EncoderBlock: 3-2                 [32, 197, 768]       [32, 197, 768]       7,087,872            True\n",
              "│    │    └─EncoderBlock: 3-3                 [32, 197, 768]       [32, 197, 768]       7,087,872            True\n",
              "│    │    └─EncoderBlock: 3-4                 [32, 197, 768]       [32, 197, 768]       7,087,872            True\n",
              "│    │    └─EncoderBlock: 3-5                 [32, 197, 768]       [32, 197, 768]       7,087,872            True\n",
              "│    │    └─EncoderBlock: 3-6                 [32, 197, 768]       [32, 197, 768]       7,087,872            True\n",
              "│    │    └─EncoderBlock: 3-7                 [32, 197, 768]       [32, 197, 768]       7,087,872            True\n",
              "│    │    └─EncoderBlock: 3-8                 [32, 197, 768]       [32, 197, 768]       7,087,872            True\n",
              "│    │    └─EncoderBlock: 3-9                 [32, 197, 768]       [32, 197, 768]       7,087,872            True\n",
              "│    │    └─EncoderBlock: 3-10                [32, 197, 768]       [32, 197, 768]       7,087,872            True\n",
              "│    │    └─EncoderBlock: 3-11                [32, 197, 768]       [32, 197, 768]       7,087,872            True\n",
              "│    │    └─EncoderBlock: 3-12                [32, 197, 768]       [32, 197, 768]       7,087,872            True\n",
              "│    └─LayerNorm: 2-3                         [32, 197, 768]       [32, 197, 768]       1,536                True\n",
              "├─Sequential: 1-3                             [32, 768]            [32, 1000]           --                   True\n",
              "│    └─Linear: 2-4                            [32, 768]            [32, 1000]           769,000              True\n",
              "=============================================================================================================================\n",
              "Total params: 86,567,656\n",
              "Trainable params: 86,567,656\n",
              "Non-trainable params: 0\n",
              "Total mult-adds (G): 5.54\n",
              "=============================================================================================================================\n",
              "Input size (MB): 19.27\n",
              "Forward/backward pass size (MB): 3330.99\n",
              "Params size (MB): 232.27\n",
              "Estimated Total Size (MB): 3582.53\n",
              "============================================================================================================================="
            ]
          },
          "metadata": {},
          "execution_count": 114
        }
      ]
    },
    {
      "cell_type": "code",
      "source": [
        "for params in vit_model.parameters():\n",
        "  params.requires_grad = False\n",
        "\n",
        "vit_heads = torch.nn.Sequential(\n",
        "    torch.nn.Linear(in_features = 768 , out_features = len(CLASS_NAMES))\n",
        ")\n",
        "\n",
        "vit_model.heads = vit_heads"
      ],
      "metadata": {
        "id": "gLk1VvqZoFcL"
      },
      "execution_count": 115,
      "outputs": []
    },
    {
      "cell_type": "code",
      "source": [
        "vit_loss_function = torch.nn.CrossEntropyLoss()\n",
        "vit_optimizer = torch.optim.Adam(params = vit_model.parameters() , lr=0.001)\n",
        "\n",
        "vit_results = train(model = vit_model.to(device),\n",
        "                         epochs = 10,\n",
        "                         train_data = vit_train_dataLoader,\n",
        "                         test_data = vit_test_dataLoader,\n",
        "                         loss_fn = vit_loss_function,\n",
        "                         optimizer = vit_optimizer,\n",
        "                         device = device)"
      ],
      "metadata": {
        "colab": {
          "base_uri": "https://localhost:8080/",
          "height": 257,
          "referenced_widgets": [
            "8051d6215989419b8df495ef78db0f9b",
            "0b98fd7185c341479b52a2b71a59b4b6",
            "9fbb85840fa94efd84647a5cf6bc07d1",
            "47818de879cf4c769730bbe21e245d77",
            "b3bc0232b7e8419c9bd21b71492f12c5",
            "fd4b07049ab04d4b926199fa83ace17c",
            "75ea68e1c4a943fcbf12238cb7d80139",
            "80a673be76a84f929dea19de97366377",
            "faf9eb1be4d34ebbaef11bfc7e945c6c",
            "28fdb6b1bc8c4296be69d1d46d58c4b8",
            "d12e1ef7823c4829bfe23f7e5fe3d406"
          ]
        },
        "id": "jk96pwEjp_eL",
        "outputId": "03a01b41-a9d4-48b3-d933-a2b16aa152e8"
      },
      "execution_count": 120,
      "outputs": [
        {
          "output_type": "display_data",
          "data": {
            "text/plain": [
              "  0%|          | 0/10 [00:00<?, ?it/s]"
            ],
            "application/vnd.jupyter.widget-view+json": {
              "version_major": 2,
              "version_minor": 0,
              "model_id": "8051d6215989419b8df495ef78db0f9b"
            }
          },
          "metadata": {}
        },
        {
          "output_type": "stream",
          "name": "stdout",
          "text": [
            "Epoch 0 | Train Loss: 0.5541 | Train Accuracy: 83.96 | Test Loss: 0.2128 | Test Accuracy: 96.88 \n",
            "Epoch 1 | Train Loss: 0.1946 | Train Accuracy: 94.58 | Test Loss: 0.1166 | Test Accuracy: 98.12 \n",
            "Epoch 2 | Train Loss: 0.1374 | Train Accuracy: 96.04 | Test Loss: 0.0943 | Test Accuracy: 97.22 \n",
            "Epoch 3 | Train Loss: 0.1137 | Train Accuracy: 96.88 | Test Loss: 0.0823 | Test Accuracy: 97.84 \n",
            "Epoch 4 | Train Loss: 0.1176 | Train Accuracy: 97.29 | Test Loss: 0.0732 | Test Accuracy: 97.22 \n",
            "Epoch 5 | Train Loss: 0.0822 | Train Accuracy: 98.13 | Test Loss: 0.0750 | Test Accuracy: 97.84 \n",
            "Epoch 6 | Train Loss: 0.0711 | Train Accuracy: 98.54 | Test Loss: 0.0675 | Test Accuracy: 97.84 \n",
            "Epoch 7 | Train Loss: 0.0901 | Train Accuracy: 95.63 | Test Loss: 0.0640 | Test Accuracy: 97.84 \n",
            "Epoch 8 | Train Loss: 0.0566 | Train Accuracy: 98.75 | Test Loss: 0.0638 | Test Accuracy: 97.22 \n",
            "Epoch 9 | Train Loss: 0.0491 | Train Accuracy: 98.96 | Test Loss: 0.0622 | Test Accuracy: 97.22 \n",
            "\n",
            "Process Time: 87.51 seconds\n"
          ]
        }
      ]
    },
    {
      "cell_type": "code",
      "source": [
        "plt.figure(figsize = (20,8))\n",
        "plt.subplot(1 , 2 , 1)\n",
        "plt.plot(vit_results[\"test_loss\"])\n",
        "plt.plot(vit_results[\"train_loss\"])\n",
        "plt.legend([\"test_loss\" , \"train_loss\"])\n",
        "plt.title(\"Loss\")\n",
        "plt.subplot(1 , 2 , 2)\n",
        "plt.plot(vit_results[\"test_accuracy\"])\n",
        "plt.plot(vit_results[\"train_accuracy\"])\n",
        "plt.legend([\"test_accuracy\" , \"train_accuracy\"])\n",
        "plt.title(\"Accuracy\")\n",
        "plt.show()"
      ],
      "metadata": {
        "colab": {
          "base_uri": "https://localhost:8080/",
          "height": 494
        },
        "id": "0gYFO8EXsYuO",
        "outputId": "f67e7f81-d8b7-41c6-8e1e-3f924f17e7e0"
      },
      "execution_count": 121,
      "outputs": [
        {
          "output_type": "display_data",
          "data": {
            "text/plain": [
              "<Figure size 2000x800 with 2 Axes>"
            ],
            "image/png": "[encoded data removed]"
          },
          "metadata": {}
        }
      ]
    },
    {
      "cell_type": "code",
      "source": [
        "vit_test_accuracy = round(vit_results[\"test_accuracy\"][-1] , 4)\n",
        "vit_test_loss = round(vit_results[\"test_loss\"][-1] , 4)\n",
        "vit_train_accuracy = round(vit_results[\"train_accuracy\"][-1] , 4)\n",
        "vit_train_loss = round(vit_results[\"train_loss\"][-1] , 4)\n",
        "\n",
        "\n",
        "vit_result = {\"test_accuracy\":vit_test_accuracy,\n",
        "                    \"test_loss\":vit_test_loss,\n",
        "                    \"train_accuracy\":vit_train_accuracy,\n",
        "                    \"train_loss\":vit_train_loss}"
      ],
      "metadata": {
        "id": "aAn47r0JspMq"
      },
      "execution_count": 122,
      "outputs": []
    },
    {
      "cell_type": "code",
      "source": [
        "vit_result"
      ],
      "metadata": {
        "colab": {
          "base_uri": "https://localhost:8080/"
        },
        "id": "sdK_c-39s6Wi",
        "outputId": "62ca5e2a-6787-4610-8613-eff9dd2647d9"
      },
      "execution_count": 126,
      "outputs": [
        {
          "output_type": "execute_result",
          "data": {
            "text/plain": [
              "{'test_accuracy': 97.2159,\n",
              " 'test_loss': 0.0622,\n",
              " 'train_accuracy': 98.9583,\n",
              " 'train_loss': 0.0491}"
            ]
          },
          "metadata": {},
          "execution_count": 126
        }
      ]
    },
    {
      "cell_type": "markdown",
      "source": [
        "#Compare our results in Accuracy and Loss metrics"
      ],
      "metadata": {
        "id": "ZbaGFNxnuC8q"
      }
    },
    {
      "cell_type": "code",
      "source": [
        "vit_and_efficient_comparision = pd.DataFrame({\"ViT Model\":vit_result , \"Efficient Model\": efficient_result})"
      ],
      "metadata": {
        "id": "6eCtNMB1tZ2u"
      },
      "execution_count": 137,
      "outputs": []
    },
    {
      "cell_type": "code",
      "source": [
        "vit_and_efficient_comparision"
      ],
      "metadata": {
        "colab": {
          "base_uri": "https://localhost:8080/",
          "height": 174
        },
        "id": "s_VOStswtl78",
        "outputId": "246152c0-6a16-4100-b42c-79c9704a38d3"
      },
      "execution_count": 138,
      "outputs": [
        {
          "output_type": "execute_result",
          "data": {
            "text/plain": [
              "                ViT Model  Efficient Model\n",
              "test_accuracy     97.2159          93.4659\n",
              "test_loss          0.0622           0.3016\n",
              "train_accuracy    98.9583          93.1250\n",
              "train_loss         0.0491           0.3108"
            ],
            "text/html": [
              "\n",
              "\n",
              "  <div id=\"df-4f04aa72-8f56-48cb-bbc5-be1701292ff3\">\n",
              "    <div class=\"colab-df-container\">\n",
              "      <div>\n",
              "<style scoped>\n",
              "    .dataframe tbody tr th:only-of-type {\n",
              "        vertical-align: middle;\n",
              "    }\n",
              "\n",
              "    .dataframe tbody tr th {\n",
              "        vertical-align: top;\n",
              "    }\n",
              "\n",
              "    .dataframe thead th {\n",
              "        text-align: right;\n",
              "    }\n",
              "</style>\n",
              "<table border=\"1\" class=\"dataframe\">\n",
              "  <thead>\n",
              "    <tr style=\"text-align: right;\">\n",
              "      <th></th>\n",
              "      <th>ViT Model</th>\n",
              "      <th>Efficient Model</th>\n",
              "    </tr>\n",
              "  </thead>\n",
              "  <tbody>\n",
              "    <tr>\n",
              "      <th>test_accuracy</th>\n",
              "      <td>97.2159</td>\n",
              "      <td>93.4659</td>\n",
              "    </tr>\n",
              "    <tr>\n",
              "      <th>test_loss</th>\n",
              "      <td>0.0622</td>\n",
              "      <td>0.3016</td>\n",
              "    </tr>\n",
              "    <tr>\n",
              "      <th>train_accuracy</th>\n",
              "      <td>98.9583</td>\n",
              "      <td>93.1250</td>\n",
              "    </tr>\n",
              "    <tr>\n",
              "      <th>train_loss</th>\n",
              "      <td>0.0491</td>\n",
              "      <td>0.3108</td>\n",
              "    </tr>\n",
              "  </tbody>\n",
              "</table>\n",
              "</div>\n",
              "      <button class=\"colab-df-convert\" onclick=\"convertToInteractive('df-4f04aa72-8f56-48cb-bbc5-be1701292ff3')\"\n",
              "              title=\"Convert this dataframe to an interactive table.\"\n",
              "              style=\"display:none;\">\n",
              "\n",
              "  <svg xmlns=\"http://www.w3.org/2000/svg\" height=\"24px\"viewBox=\"0 0 24 24\"\n",
              "       width=\"24px\">\n",
              "    <path d=\"M0 0h24v24H0V0z\" fill=\"none\"/>\n",
              "    <path d=\"M18.56 5.44l.94 2.06.94-2.06 2.06-.94-2.06-.94-.94-2.06-.94 2.06-2.06.94zm-11 1L8.5 8.5l.94-2.06 2.06-.94-2.06-.94L8.5 2.5l-.94 2.06-2.06.94zm10 10l.94 2.06.94-2.06 2.06-.94-2.06-.94-.94-2.06-.94 2.06-2.06.94z\"/><path d=\"M17.41 7.96l-1.37-1.37c-.4-.4-.92-.59-1.43-.59-.52 0-1.04.2-1.43.59L10.3 9.45l-7.72 7.72c-.78.78-.78 2.05 0 2.83L4 21.41c.39.39.9.59 1.41.59.51 0 1.02-.2 1.41-.59l7.78-7.78 2.81-2.81c.8-.78.8-2.07 0-2.86zM5.41 20L4 18.59l7.72-7.72 1.47 1.35L5.41 20z\"/>\n",
              "  </svg>\n",
              "      </button>\n",
              "\n",
              "\n",
              "\n",
              "    <div id=\"df-39bac267-3b76-4af6-8268-1aa5d5aa3e10\">\n",
              "      <button class=\"colab-df-quickchart\" onclick=\"quickchart('df-39bac267-3b76-4af6-8268-1aa5d5aa3e10')\"\n",
              "              title=\"Suggest charts.\"\n",
              "              style=\"display:none;\">\n",
              "\n",
              "<svg xmlns=\"http://www.w3.org/2000/svg\" height=\"24px\"viewBox=\"0 0 24 24\"\n",
              "     width=\"24px\">\n",
              "    <g>\n",
              "        <path d=\"M19 3H5c-1.1 0-2 .9-2 2v14c0 1.1.9 2 2 2h14c1.1 0 2-.9 2-2V5c0-1.1-.9-2-2-2zM9 17H7v-7h2v7zm4 0h-2V7h2v10zm4 0h-2v-4h2v4z\"/>\n",
              "    </g>\n",
              "</svg>\n",
              "      </button>\n",
              "    </div>\n",
              "\n",
              "<style>\n",
              "  .colab-df-quickchart {\n",
              "    background-color: #E8F0FE;\n",
              "    border: none;\n",
              "    border-radius: 50%;\n",
              "    cursor: pointer;\n",
              "    display: none;\n",
              "    fill: #1967D2;\n",
              "    height: 32px;\n",
              "    padding: 0 0 0 0;\n",
              "    width: 32px;\n",
              "  }\n",
              "\n",
              "  .colab-df-quickchart:hover {\n",
              "    background-color: #E2EBFA;\n",
              "    box-shadow: 0px 1px 2px rgba(60, 64, 67, 0.3), 0px 1px 3px 1px rgba(60, 64, 67, 0.15);\n",
              "    fill: #174EA6;\n",
              "  }\n",
              "\n",
              "  [theme=dark] .colab-df-quickchart {\n",
              "    background-color: #3B4455;\n",
              "    fill: #D2E3FC;\n",
              "  }\n",
              "\n",
              "  [theme=dark] .colab-df-quickchart:hover {\n",
              "    background-color: #434B5C;\n",
              "    box-shadow: 0px 1px 3px 1px rgba(0, 0, 0, 0.15);\n",
              "    filter: drop-shadow(0px 1px 2px rgba(0, 0, 0, 0.3));\n",
              "    fill: #FFFFFF;\n",
              "  }\n",
              "</style>\n",
              "\n",
              "    <script>\n",
              "      async function quickchart(key) {\n",
              "        const containerElement = document.querySelector('#' + key);\n",
              "        const charts = await google.colab.kernel.invokeFunction(\n",
              "            'suggestCharts', [key], {});\n",
              "      }\n",
              "    </script>\n",
              "\n",
              "      <script>\n",
              "\n",
              "function displayQuickchartButton(domScope) {\n",
              "  let quickchartButtonEl =\n",
              "    domScope.querySelector('#df-39bac267-3b76-4af6-8268-1aa5d5aa3e10 button.colab-df-quickchart');\n",
              "  quickchartButtonEl.style.display =\n",
              "    google.colab.kernel.accessAllowed ? 'block' : 'none';\n",
              "}\n",
              "\n",
              "        displayQuickchartButton(document);\n",
              "      </script>\n",
              "      <style>\n",
              "    .colab-df-container {\n",
              "      display:flex;\n",
              "      flex-wrap:wrap;\n",
              "      gap: 12px;\n",
              "    }\n",
              "\n",
              "    .colab-df-convert {\n",
              "      background-color: #E8F0FE;\n",
              "      border: none;\n",
              "      border-radius: 50%;\n",
              "      cursor: pointer;\n",
              "      display: none;\n",
              "      fill: #1967D2;\n",
              "      height: 32px;\n",
              "      padding: 0 0 0 0;\n",
              "      width: 32px;\n",
              "    }\n",
              "\n",
              "    .colab-df-convert:hover {\n",
              "      background-color: #E2EBFA;\n",
              "      box-shadow: 0px 1px 2px rgba(60, 64, 67, 0.3), 0px 1px 3px 1px rgba(60, 64, 67, 0.15);\n",
              "      fill: #174EA6;\n",
              "    }\n",
              "\n",
              "    [theme=dark] .colab-df-convert {\n",
              "      background-color: #3B4455;\n",
              "      fill: #D2E3FC;\n",
              "    }\n",
              "\n",
              "    [theme=dark] .colab-df-convert:hover {\n",
              "      background-color: #434B5C;\n",
              "      box-shadow: 0px 1px 3px 1px rgba(0, 0, 0, 0.15);\n",
              "      filter: drop-shadow(0px 1px 2px rgba(0, 0, 0, 0.3));\n",
              "      fill: #FFFFFF;\n",
              "    }\n",
              "  </style>\n",
              "\n",
              "      <script>\n",
              "        const buttonEl =\n",
              "          document.querySelector('#df-4f04aa72-8f56-48cb-bbc5-be1701292ff3 button.colab-df-convert');\n",
              "        buttonEl.style.display =\n",
              "          google.colab.kernel.accessAllowed ? 'block' : 'none';\n",
              "\n",
              "        async function convertToInteractive(key) {\n",
              "          const element = document.querySelector('#df-4f04aa72-8f56-48cb-bbc5-be1701292ff3');\n",
              "          const dataTable =\n",
              "            await google.colab.kernel.invokeFunction('convertToInteractive',\n",
              "                                                     [key], {});\n",
              "          if (!dataTable) return;\n",
              "\n",
              "          const docLinkHtml = 'Like what you see? Visit the ' +\n",
              "            '<a target=\"_blank\" href=https://colab.research.google.com/notebooks/data_table.ipynb>data table notebook</a>'\n",
              "            + ' to learn more about interactive tables.';\n",
              "          element.innerHTML = '';\n",
              "          dataTable['output_type'] = 'display_data';\n",
              "          await google.colab.output.renderOutput(dataTable, element);\n",
              "          const docLink = document.createElement('div');\n",
              "          docLink.innerHTML = docLinkHtml;\n",
              "          element.appendChild(docLink);\n",
              "        }\n",
              "      </script>\n",
              "    </div>\n",
              "  </div>\n"
            ]
          },
          "metadata": {},
          "execution_count": 138
        }
      ]
    },
    {
      "cell_type": "markdown",
      "source": [
        "# Git commands for commiting"
      ],
      "metadata": {
        "id": "3neRHEmynJ1R"
      }
    },
    {
      "cell_type": "code",
      "source": [
        "# !git status\n",
        "# !git add --all\n",
        "# !git commit -a -m \"food vision live started\"\n",
        "# !git push origin"
      ],
      "metadata": {
        "id": "dnUm-aPbnQ4L"
      },
      "execution_count": 67,
      "outputs": []
    },
    {
      "cell_type": "code",
      "source": [],
      "metadata": {
        "id": "jhZ2nbb1nRu-"
      },
      "execution_count": null,
      "outputs": []
    }
  ]
}