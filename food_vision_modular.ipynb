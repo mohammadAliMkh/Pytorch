{
  "nbformat": 4,
  "nbformat_minor": 0,
  "metadata": {
    "colab": {
      "provenance": [],
      "authorship_tag": "ABX9TyOQhMgjakjqSLDpKCaLMnOt",
      "include_colab_link": true
    },
    "kernelspec": {
      "name": "python3",
      "display_name": "Python 3"
    },
    "language_info": {
      "name": "python"
    }
  },
  "cells": [
    {
      "cell_type": "markdown",
      "metadata": {
        "id": "view-in-github",
        "colab_type": "text"
      },
      "source": [
        "<a href=\"https://colab.research.google.com/github/mohammadAliMkh/Pytorch/blob/main/food_vision_modular.ipynb\" target=\"_parent\"><img src=\"https://colab.research.google.com/assets/colab-badge.svg\" alt=\"Open In Colab\"/></a>"
      ]
    },
    {
      "cell_type": "code",
      "source": [
        "import os\n",
        "\n",
        "os.mkdir(\"/content/food_vision_project\")"
      ],
      "metadata": {
        "id": "-vhh2t9fKViV"
      },
      "execution_count": 1,
      "outputs": []
    },
    {
      "cell_type": "code",
      "execution_count": 2,
      "metadata": {
        "colab": {
          "base_uri": "https://localhost:8080/"
        },
        "id": "tv87JVPv99ku",
        "outputId": "26030c14-d809-435d-f94b-f1997ceab807"
      },
      "outputs": [
        {
          "output_type": "stream",
          "name": "stdout",
          "text": [
            "Writing food_vision_project/fetch_data.py\n"
          ]
        }
      ],
      "source": [
        "%%writefile food_vision_project/fetch_data.py\n",
        "\n",
        "import os\n",
        "from pathlib import Path\n",
        "import requests\n",
        "from zipfile import ZipFile\n",
        "\n",
        "def get_data(zip_file_name , raw_path_url):\n",
        "  \"\"\"\n",
        "  Get zip file from url link\n",
        "\n",
        "    args:\n",
        "      zip_file_name: name of the zip file (include .zip)\n",
        "      raw_path_url: url link that raw zip file (include .zip)\n",
        "    \n",
        "    return:\n",
        "      train_dir: train direcotry path\n",
        "      test_dir: test directory path\n",
        "  \"\"\"\n",
        "\n",
        "  file_name = zip_file_name\n",
        "  folder_name = file_name.split(\".zip\")[0]\n",
        "\n",
        "  parent_dir = Path.cwd()\n",
        "  data_dir = parent_dir/folder_name\n",
        "\n",
        "  if Path.exists(data_dir):\n",
        "    print(f\"{folder_name} Folder Already Exists...\")\n",
        "  else:\n",
        "    os.makedirs(data_dir)\n",
        "    print(f\"{folder_name} Folder Created...\")\n",
        "\n",
        "\n",
        "\n",
        "  # get pizza_steak_sushi.zip file from mrdbourrke github repository\n",
        "  r = requests.get(raw_path_url)\n",
        "\n",
        "  with open(file_name , \"wb\") as f:\n",
        "    f.write(r.content)\n",
        "\n",
        "  data_path = parent_dir/file_name\n",
        "  print(f\"{file_name} downloaded...\")\n",
        "\n",
        "\n",
        "\n",
        "  # loading the temp.zip and creating a zip object\n",
        "  with ZipFile(data_path , 'r') as zObject:\n",
        "    \n",
        "      # Extracting all the members of the zip \n",
        "      # into a specific location.\n",
        "      zObject.extractall(\n",
        "          path=data_dir)\n",
        "  print(f\"{file_name} extracted at {data_dir}\")\n",
        "  # removing the downloaded.zip file from parent directory\n",
        "  os.remove(data_path)\n",
        "\n",
        "  train_dir = data_dir/\"train\"\n",
        "  test_dir = data_dir/\"test\"\n",
        "\n",
        "  return train_dir , test_dir"
      ]
    },
    {
      "cell_type": "code",
      "source": [
        "from food_vision_project import fetch_data\n",
        "train_dir , test_dir = fetch_data.get_data(\"pizza_steak_sushi.zip\" , \"https://github.com/mrdbourke/pytorch-deep-learning/raw/main/data/pizza_steak_sushi.zip\")"
      ],
      "metadata": {
        "id": "gxC3qJ6NLMkT",
        "colab": {
          "base_uri": "https://localhost:8080/"
        },
        "outputId": "e1a045c4-1801-4e47-d86b-ebf621c6d4de"
      },
      "execution_count": 3,
      "outputs": [
        {
          "output_type": "stream",
          "name": "stdout",
          "text": [
            "pizza_steak_sushi Folder Created...\n",
            "pizza_steak_sushi.zip downloaded...\n",
            "pizza_steak_sushi.zip extracted at /content/pizza_steak_sushi\n"
          ]
        }
      ]
    },
    {
      "cell_type": "code",
      "source": [
        "%%writefile food_vision_project/data_setup.py\n",
        "import torch\n",
        "from torch.utils.data import DataLoader\n",
        "\n",
        "from torchvision.datasets import ImageFolder\n",
        "from torchvision import transforms\n",
        "\n",
        "import os\n",
        "from pathlib import Path\n",
        "\n",
        "\n",
        "def create_dataLoader(train_dir:Path,\n",
        "                      test_dir:Path,\n",
        "                      batch_size:int,\n",
        "                      transformer:transforms.Compose):\n",
        "  '''\n",
        "    Make test/train data Loder object\n",
        "\n",
        "    inputs:\n",
        "      train_dir: train data directory\n",
        "      test_dir: test data directory\n",
        "      batch_size: batch size of the dataLoader\n",
        "      transformer: transforms.Compose object \n",
        "    \n",
        "    return:\n",
        "      train_dataLoader: torch.utils.data.DataLoader object\n",
        "      test_dataLoader: torch.utils.data.DataLoader object\n",
        "      class_names: list of the all class names\n",
        "  '''\n",
        "\n",
        "  BATCH_SIZE = batch_size\n",
        "  TRAIN_DIR = train_dir\n",
        "  TEST_DIR = test_dir\n",
        "  NUM_WORKERS = os.cpu_count()\n",
        "\n",
        "  TRANSFORMER = transformer\n",
        "\n",
        "\n",
        "\n",
        "  train_dataset = ImageFolder(TRAIN_DIR , transform = TRANSFORMER)\n",
        "  test_dataset = ImageFolder(TEST_DIR , transform = TRANSFORMER)\n",
        "\n",
        "\n",
        "  train_dataLoader = DataLoader(train_dataset ,\n",
        "                                batch_size = BATCH_SIZE,\n",
        "                                shuffle = True,\n",
        "                                num_workers = NUM_WORKERS,\n",
        "                                pin_memory = True)\n",
        "\n",
        "  test_dataLoader = DataLoader(test_dataset,\n",
        "                              batch_size = BATCH_SIZE,\n",
        "                              shuffle = False,\n",
        "                              num_workers = NUM_WORKERS,\n",
        "                              pin_memory=True)\n",
        "  \n",
        "  class_names = train_dataset.classes\n",
        "  \n",
        "\n",
        "  return train_dataLoader , test_dataLoader , class_names\n"
      ],
      "metadata": {
        "colab": {
          "base_uri": "https://localhost:8080/"
        },
        "id": "fFoD9N5C8qqV",
        "outputId": "61d04c23-0469-47f8-f339-031cd0eeb44a"
      },
      "execution_count": 10,
      "outputs": [
        {
          "output_type": "stream",
          "name": "stdout",
          "text": [
            "Overwriting food_vision_project/data_setup.py\n"
          ]
        }
      ]
    },
    {
      "cell_type": "code",
      "source": [
        "from torchvision import transforms\n",
        "\n",
        "transfomer = transforms.Compose([\n",
        "    transforms.Resize(size = (64 , 64)),\n",
        "    transforms.ToTensor()\n",
        "])"
      ],
      "metadata": {
        "id": "7345hCEZcLWp"
      },
      "execution_count": 7,
      "outputs": []
    },
    {
      "cell_type": "code",
      "source": [
        "from food_vision_project import data_setup\n",
        "x , y , z = data_setup.create_dataLoader(train_dir , test_dir , batch_size = 32 , transformer = transfomer)"
      ],
      "metadata": {
        "id": "oYHgoBBrb56T"
      },
      "execution_count": 8,
      "outputs": []
    },
    {
      "cell_type": "code",
      "source": [],
      "metadata": {
        "id": "idmTnjK8c9d5"
      },
      "execution_count": null,
      "outputs": []
    }
  ]
}